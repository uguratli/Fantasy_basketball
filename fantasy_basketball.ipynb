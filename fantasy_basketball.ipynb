{
 "cells": [
  {
   "cell_type": "code",
   "execution_count": 1,
   "metadata": {},
   "outputs": [],
   "source": [
    "import pandas as pd\n",
    "import os\n",
    "import seaborn as sns\n",
    "import numpy as np\n",
    "import plotly.express as px\n",
    "import plotly.graph_objects as go\n",
    "from plotly.subplots import make_subplots\n",
    "import random\n",
    "from sklearn.preprocessing import MinMaxScaler\n",
    "from sklearn.feature_extraction.text import CountVectorizer"
   ]
  },
  {
   "cell_type": "code",
   "execution_count": 2,
   "metadata": {},
   "outputs": [
    {
     "data": {
      "text/html": [
       "<div>\n",
       "<style scoped>\n",
       "    .dataframe tbody tr th:only-of-type {\n",
       "        vertical-align: middle;\n",
       "    }\n",
       "\n",
       "    .dataframe tbody tr th {\n",
       "        vertical-align: top;\n",
       "    }\n",
       "\n",
       "    .dataframe thead th {\n",
       "        text-align: right;\n",
       "    }\n",
       "</style>\n",
       "<table border=\"1\" class=\"dataframe\">\n",
       "  <thead>\n",
       "    <tr style=\"text-align: right;\">\n",
       "      <th></th>\n",
       "      <th>0</th>\n",
       "      <th>1</th>\n",
       "      <th>2</th>\n",
       "      <th>3</th>\n",
       "      <th>4</th>\n",
       "      <th>5</th>\n",
       "      <th>6</th>\n",
       "      <th>7</th>\n",
       "      <th>8</th>\n",
       "      <th>9</th>\n",
       "      <th>10</th>\n",
       "      <th>11</th>\n",
       "      <th>12</th>\n",
       "      <th>13</th>\n",
       "      <th>14</th>\n",
       "      <th>15</th>\n",
       "      <th>16</th>\n",
       "      <th>17</th>\n",
       "      <th>18</th>\n",
       "      <th>19</th>\n",
       "    </tr>\n",
       "  </thead>\n",
       "  <tbody>\n",
       "    <tr>\n",
       "      <th>0</th>\n",
       "      <td>NaN</td>\n",
       "      <td>NaN</td>\n",
       "      <td>NaN</td>\n",
       "      <td>NaN</td>\n",
       "      <td>NaN</td>\n",
       "      <td>NaN</td>\n",
       "      <td>NaN</td>\n",
       "      <td>NaN</td>\n",
       "      <td>NaN</td>\n",
       "      <td>NaN</td>\n",
       "      <td>NaN</td>\n",
       "      <td>NaN</td>\n",
       "      <td>NaN</td>\n",
       "      <td>NaN</td>\n",
       "      <td>NaN</td>\n",
       "      <td>NaN</td>\n",
       "      <td>NaN</td>\n",
       "      <td>NaN</td>\n",
       "      <td>NaN</td>\n",
       "      <td>NaN</td>\n",
       "    </tr>\n",
       "    <tr>\n",
       "      <th>1</th>\n",
       "      <td>NaN</td>\n",
       "      <td>Order</td>\n",
       "      <td>Name</td>\n",
       "      <td>Posititon</td>\n",
       "      <td>Team</td>\n",
       "      <td>GP</td>\n",
       "      <td>FG%</td>\n",
       "      <td>FGM</td>\n",
       "      <td>FGA</td>\n",
       "      <td>FT%</td>\n",
       "      <td>FTM</td>\n",
       "      <td>FTA</td>\n",
       "      <td>3PM</td>\n",
       "      <td>PPG</td>\n",
       "      <td>REB</td>\n",
       "      <td>AST</td>\n",
       "      <td>STL</td>\n",
       "      <td>BLK</td>\n",
       "      <td>TO</td>\n",
       "      <td>OVERALL</td>\n",
       "    </tr>\n",
       "    <tr>\n",
       "      <th>2</th>\n",
       "      <td>NaN</td>\n",
       "      <td>1</td>\n",
       "      <td>Victor Wembanyama</td>\n",
       "      <td>C</td>\n",
       "      <td>SA</td>\n",
       "      <td>70</td>\n",
       "      <td>0.473</td>\n",
       "      <td>8.8</td>\n",
       "      <td>18.6</td>\n",
       "      <td>0.802</td>\n",
       "      <td>4.5</td>\n",
       "      <td>5.6</td>\n",
       "      <td>2</td>\n",
       "      <td>24.1</td>\n",
       "      <td>11.1</td>\n",
       "      <td>4.4</td>\n",
       "      <td>1.4</td>\n",
       "      <td>3.9</td>\n",
       "      <td>3.4</td>\n",
       "      <td>NaN</td>\n",
       "    </tr>\n",
       "    <tr>\n",
       "      <th>3</th>\n",
       "      <td>NaN</td>\n",
       "      <td>2</td>\n",
       "      <td>Nikola Jokic</td>\n",
       "      <td>C</td>\n",
       "      <td>DEN</td>\n",
       "      <td>75</td>\n",
       "      <td>0.585</td>\n",
       "      <td>10.4</td>\n",
       "      <td>17.8</td>\n",
       "      <td>0.819</td>\n",
       "      <td>4.8</td>\n",
       "      <td>5.8</td>\n",
       "      <td>1.1</td>\n",
       "      <td>26.7</td>\n",
       "      <td>12.1</td>\n",
       "      <td>9.1</td>\n",
       "      <td>1.4</td>\n",
       "      <td>0.9</td>\n",
       "      <td>3.1</td>\n",
       "      <td>NaN</td>\n",
       "    </tr>\n",
       "    <tr>\n",
       "      <th>4</th>\n",
       "      <td>NaN</td>\n",
       "      <td>3</td>\n",
       "      <td>Luka Doncic</td>\n",
       "      <td>PG,SG</td>\n",
       "      <td>DAL</td>\n",
       "      <td>68</td>\n",
       "      <td>0.491</td>\n",
       "      <td>11.3</td>\n",
       "      <td>23</td>\n",
       "      <td>0.792</td>\n",
       "      <td>7.6</td>\n",
       "      <td>9.7</td>\n",
       "      <td>4.1</td>\n",
       "      <td>34.4</td>\n",
       "      <td>9.3</td>\n",
       "      <td>9.9</td>\n",
       "      <td>1.4</td>\n",
       "      <td>0.5</td>\n",
       "      <td>3.8</td>\n",
       "      <td>NaN</td>\n",
       "    </tr>\n",
       "    <tr>\n",
       "      <th>5</th>\n",
       "      <td>NaN</td>\n",
       "      <td>4</td>\n",
       "      <td>Shai Gilgeous-Alexander</td>\n",
       "      <td>PG</td>\n",
       "      <td>OKC</td>\n",
       "      <td>73</td>\n",
       "      <td>0.524</td>\n",
       "      <td>10.2</td>\n",
       "      <td>19.5</td>\n",
       "      <td>0.88</td>\n",
       "      <td>8.1</td>\n",
       "      <td>9.2</td>\n",
       "      <td>1.4</td>\n",
       "      <td>29.9</td>\n",
       "      <td>5.1</td>\n",
       "      <td>6.5</td>\n",
       "      <td>1.9</td>\n",
       "      <td>0.9</td>\n",
       "      <td>2.4</td>\n",
       "      <td>NaN</td>\n",
       "    </tr>\n",
       "    <tr>\n",
       "      <th>6</th>\n",
       "      <td>NaN</td>\n",
       "      <td>5</td>\n",
       "      <td>Giannis Antetokounmpo</td>\n",
       "      <td>PF,C</td>\n",
       "      <td>MIL</td>\n",
       "      <td>71</td>\n",
       "      <td>0.614</td>\n",
       "      <td>11.8</td>\n",
       "      <td>19.2</td>\n",
       "      <td>0.671</td>\n",
       "      <td>7</td>\n",
       "      <td>10.5</td>\n",
       "      <td>0.6</td>\n",
       "      <td>31.1</td>\n",
       "      <td>11.1</td>\n",
       "      <td>6.7</td>\n",
       "      <td>1.2</td>\n",
       "      <td>1.1</td>\n",
       "      <td>3.4</td>\n",
       "      <td>NaN</td>\n",
       "    </tr>\n",
       "    <tr>\n",
       "      <th>7</th>\n",
       "      <td>NaN</td>\n",
       "      <td>6</td>\n",
       "      <td>Joel Embiid</td>\n",
       "      <td>C</td>\n",
       "      <td>PHI</td>\n",
       "      <td>62</td>\n",
       "      <td>0.518</td>\n",
       "      <td>9.4</td>\n",
       "      <td>18.2</td>\n",
       "      <td>0.871</td>\n",
       "      <td>9</td>\n",
       "      <td>10.3</td>\n",
       "      <td>1.3</td>\n",
       "      <td>29.2</td>\n",
       "      <td>10.1</td>\n",
       "      <td>4.1</td>\n",
       "      <td>1</td>\n",
       "      <td>1.5</td>\n",
       "      <td>3.5</td>\n",
       "      <td>NaN</td>\n",
       "    </tr>\n",
       "    <tr>\n",
       "      <th>8</th>\n",
       "      <td>NaN</td>\n",
       "      <td>7</td>\n",
       "      <td>Anthony Davis</td>\n",
       "      <td>PF,C</td>\n",
       "      <td>LAL</td>\n",
       "      <td>67</td>\n",
       "      <td>0.559</td>\n",
       "      <td>9.5</td>\n",
       "      <td>17</td>\n",
       "      <td>0.802</td>\n",
       "      <td>5.8</td>\n",
       "      <td>7.3</td>\n",
       "      <td>0.4</td>\n",
       "      <td>25.2</td>\n",
       "      <td>12.1</td>\n",
       "      <td>3.6</td>\n",
       "      <td>1.2</td>\n",
       "      <td>2.3</td>\n",
       "      <td>2.1</td>\n",
       "      <td>NaN</td>\n",
       "    </tr>\n",
       "    <tr>\n",
       "      <th>9</th>\n",
       "      <td>NaN</td>\n",
       "      <td>8</td>\n",
       "      <td>Tyrese Haliburton</td>\n",
       "      <td>PG,SG</td>\n",
       "      <td>IND</td>\n",
       "      <td>69</td>\n",
       "      <td>0.483</td>\n",
       "      <td>7.5</td>\n",
       "      <td>15.6</td>\n",
       "      <td>0.862</td>\n",
       "      <td>3.1</td>\n",
       "      <td>3.5</td>\n",
       "      <td>3</td>\n",
       "      <td>21.1</td>\n",
       "      <td>3.9</td>\n",
       "      <td>11</td>\n",
       "      <td>1.4</td>\n",
       "      <td>0.7</td>\n",
       "      <td>2.5</td>\n",
       "      <td>NaN</td>\n",
       "    </tr>\n",
       "  </tbody>\n",
       "</table>\n",
       "</div>"
      ],
      "text/plain": [
       "   0      1                        2          3     4    5      6     7   \\\n",
       "0 NaN    NaN                      NaN        NaN   NaN  NaN    NaN   NaN   \n",
       "1 NaN  Order                     Name  Posititon  Team   GP    FG%   FGM   \n",
       "2 NaN      1        Victor Wembanyama          C    SA   70  0.473   8.8   \n",
       "3 NaN      2             Nikola Jokic          C   DEN   75  0.585  10.4   \n",
       "4 NaN      3              Luka Doncic      PG,SG   DAL   68  0.491  11.3   \n",
       "5 NaN      4  Shai Gilgeous-Alexander         PG   OKC   73  0.524  10.2   \n",
       "6 NaN      5    Giannis Antetokounmpo       PF,C   MIL   71  0.614  11.8   \n",
       "7 NaN      6              Joel Embiid          C   PHI   62  0.518   9.4   \n",
       "8 NaN      7            Anthony Davis       PF,C   LAL   67  0.559   9.5   \n",
       "9 NaN      8        Tyrese Haliburton      PG,SG   IND   69  0.483   7.5   \n",
       "\n",
       "     8      9    10    11   12    13    14   15   16   17   18       19  \n",
       "0   NaN    NaN  NaN   NaN  NaN   NaN   NaN  NaN  NaN  NaN  NaN      NaN  \n",
       "1   FGA    FT%  FTM   FTA  3PM   PPG   REB  AST  STL  BLK   TO  OVERALL  \n",
       "2  18.6  0.802  4.5   5.6    2  24.1  11.1  4.4  1.4  3.9  3.4      NaN  \n",
       "3  17.8  0.819  4.8   5.8  1.1  26.7  12.1  9.1  1.4  0.9  3.1      NaN  \n",
       "4    23  0.792  7.6   9.7  4.1  34.4   9.3  9.9  1.4  0.5  3.8      NaN  \n",
       "5  19.5   0.88  8.1   9.2  1.4  29.9   5.1  6.5  1.9  0.9  2.4      NaN  \n",
       "6  19.2  0.671    7  10.5  0.6  31.1  11.1  6.7  1.2  1.1  3.4      NaN  \n",
       "7  18.2  0.871    9  10.3  1.3  29.2  10.1  4.1    1  1.5  3.5      NaN  \n",
       "8    17  0.802  5.8   7.3  0.4  25.2  12.1  3.6  1.2  2.3  2.1      NaN  \n",
       "9  15.6  0.862  3.1   3.5    3  21.1   3.9   11  1.4  0.7  2.5      NaN  "
      ]
     },
     "execution_count": 2,
     "metadata": {},
     "output_type": "execute_result"
    }
   ],
   "source": [
    "draft_path = os.path.join(os.getcwd(), 'FantasyDraft.xlsx')\n",
    "df = pd.read_excel(draft_path, header=None, index_col=None)\n",
    "df.head(10)"
   ]
  },
  {
   "cell_type": "code",
   "execution_count": 3,
   "metadata": {},
   "outputs": [
    {
     "data": {
      "text/html": [
       "<div>\n",
       "<style scoped>\n",
       "    .dataframe tbody tr th:only-of-type {\n",
       "        vertical-align: middle;\n",
       "    }\n",
       "\n",
       "    .dataframe tbody tr th {\n",
       "        vertical-align: top;\n",
       "    }\n",
       "\n",
       "    .dataframe thead th {\n",
       "        text-align: right;\n",
       "    }\n",
       "</style>\n",
       "<table border=\"1\" class=\"dataframe\">\n",
       "  <thead>\n",
       "    <tr style=\"text-align: right;\">\n",
       "      <th></th>\n",
       "      <th>Name</th>\n",
       "      <th>Posititon</th>\n",
       "      <th>Team</th>\n",
       "      <th>GP</th>\n",
       "      <th>FG%</th>\n",
       "      <th>FGM</th>\n",
       "      <th>FGA</th>\n",
       "      <th>FT%</th>\n",
       "      <th>FTM</th>\n",
       "      <th>FTA</th>\n",
       "      <th>3PM</th>\n",
       "      <th>PPG</th>\n",
       "      <th>REB</th>\n",
       "      <th>AST</th>\n",
       "      <th>STL</th>\n",
       "      <th>BLK</th>\n",
       "      <th>TO</th>\n",
       "    </tr>\n",
       "  </thead>\n",
       "  <tbody>\n",
       "    <tr>\n",
       "      <th>0</th>\n",
       "      <td>Victor Wembanyama</td>\n",
       "      <td>C</td>\n",
       "      <td>SA</td>\n",
       "      <td>70</td>\n",
       "      <td>0.473</td>\n",
       "      <td>8.8</td>\n",
       "      <td>18.6</td>\n",
       "      <td>0.802</td>\n",
       "      <td>4.5</td>\n",
       "      <td>5.6</td>\n",
       "      <td>2</td>\n",
       "      <td>24.1</td>\n",
       "      <td>11.1</td>\n",
       "      <td>4.4</td>\n",
       "      <td>1.4</td>\n",
       "      <td>3.9</td>\n",
       "      <td>3.4</td>\n",
       "    </tr>\n",
       "    <tr>\n",
       "      <th>1</th>\n",
       "      <td>Nikola Jokic</td>\n",
       "      <td>C</td>\n",
       "      <td>DEN</td>\n",
       "      <td>75</td>\n",
       "      <td>0.585</td>\n",
       "      <td>10.4</td>\n",
       "      <td>17.8</td>\n",
       "      <td>0.819</td>\n",
       "      <td>4.8</td>\n",
       "      <td>5.8</td>\n",
       "      <td>1.1</td>\n",
       "      <td>26.7</td>\n",
       "      <td>12.1</td>\n",
       "      <td>9.1</td>\n",
       "      <td>1.4</td>\n",
       "      <td>0.9</td>\n",
       "      <td>3.1</td>\n",
       "    </tr>\n",
       "    <tr>\n",
       "      <th>2</th>\n",
       "      <td>Luka Doncic</td>\n",
       "      <td>PG,SG</td>\n",
       "      <td>DAL</td>\n",
       "      <td>68</td>\n",
       "      <td>0.491</td>\n",
       "      <td>11.3</td>\n",
       "      <td>23</td>\n",
       "      <td>0.792</td>\n",
       "      <td>7.6</td>\n",
       "      <td>9.7</td>\n",
       "      <td>4.1</td>\n",
       "      <td>34.4</td>\n",
       "      <td>9.3</td>\n",
       "      <td>9.9</td>\n",
       "      <td>1.4</td>\n",
       "      <td>0.5</td>\n",
       "      <td>3.8</td>\n",
       "    </tr>\n",
       "    <tr>\n",
       "      <th>3</th>\n",
       "      <td>Shai Gilgeous-Alexander</td>\n",
       "      <td>PG</td>\n",
       "      <td>OKC</td>\n",
       "      <td>73</td>\n",
       "      <td>0.524</td>\n",
       "      <td>10.2</td>\n",
       "      <td>19.5</td>\n",
       "      <td>0.88</td>\n",
       "      <td>8.1</td>\n",
       "      <td>9.2</td>\n",
       "      <td>1.4</td>\n",
       "      <td>29.9</td>\n",
       "      <td>5.1</td>\n",
       "      <td>6.5</td>\n",
       "      <td>1.9</td>\n",
       "      <td>0.9</td>\n",
       "      <td>2.4</td>\n",
       "    </tr>\n",
       "    <tr>\n",
       "      <th>4</th>\n",
       "      <td>Giannis Antetokounmpo</td>\n",
       "      <td>PF,C</td>\n",
       "      <td>MIL</td>\n",
       "      <td>71</td>\n",
       "      <td>0.614</td>\n",
       "      <td>11.8</td>\n",
       "      <td>19.2</td>\n",
       "      <td>0.671</td>\n",
       "      <td>7</td>\n",
       "      <td>10.5</td>\n",
       "      <td>0.6</td>\n",
       "      <td>31.1</td>\n",
       "      <td>11.1</td>\n",
       "      <td>6.7</td>\n",
       "      <td>1.2</td>\n",
       "      <td>1.1</td>\n",
       "      <td>3.4</td>\n",
       "    </tr>\n",
       "  </tbody>\n",
       "</table>\n",
       "</div>"
      ],
      "text/plain": [
       "                      Name Posititon Team  GP    FG%   FGM   FGA    FT%  FTM  \\\n",
       "0        Victor Wembanyama         C   SA  70  0.473   8.8  18.6  0.802  4.5   \n",
       "1             Nikola Jokic         C  DEN  75  0.585  10.4  17.8  0.819  4.8   \n",
       "2              Luka Doncic     PG,SG  DAL  68  0.491  11.3    23  0.792  7.6   \n",
       "3  Shai Gilgeous-Alexander        PG  OKC  73  0.524  10.2  19.5   0.88  8.1   \n",
       "4    Giannis Antetokounmpo      PF,C  MIL  71  0.614  11.8  19.2  0.671    7   \n",
       "\n",
       "    FTA  3PM   PPG   REB  AST  STL  BLK   TO  \n",
       "0   5.6    2  24.1  11.1  4.4  1.4  3.9  3.4  \n",
       "1   5.8  1.1  26.7  12.1  9.1  1.4  0.9  3.1  \n",
       "2   9.7  4.1  34.4   9.3  9.9  1.4  0.5  3.8  \n",
       "3   9.2  1.4  29.9   5.1  6.5  1.9  0.9  2.4  \n",
       "4  10.5  0.6  31.1  11.1  6.7  1.2  1.1  3.4  "
      ]
     },
     "execution_count": 3,
     "metadata": {},
     "output_type": "execute_result"
    }
   ],
   "source": [
    "df.drop(columns=[0, 1], inplace=True)\n",
    "df.columns = df.iloc[1].values\n",
    "df.drop(index=[0, 1], inplace=True)\n",
    "df = df.drop(columns=df.columns[-1])\n",
    "df.reset_index(drop=True, inplace=True)\n",
    "df.head()"
   ]
  },
  {
   "cell_type": "code",
   "execution_count": 4,
   "metadata": {},
   "outputs": [
    {
     "name": "stdout",
     "output_type": "stream",
     "text": [
      "<class 'pandas.core.frame.DataFrame'>\n",
      "RangeIndex: 227 entries, 0 to 226\n",
      "Data columns (total 17 columns):\n",
      " #   Column     Non-Null Count  Dtype \n",
      "---  ------     --------------  ----- \n",
      " 0   Name       227 non-null    object\n",
      " 1   Posititon  201 non-null    object\n",
      " 2   Team       201 non-null    object\n",
      " 3   GP         201 non-null    object\n",
      " 4   FG%        201 non-null    object\n",
      " 5   FGM        201 non-null    object\n",
      " 6   FGA        201 non-null    object\n",
      " 7   FT%        201 non-null    object\n",
      " 8   FTM        201 non-null    object\n",
      " 9   FTA        201 non-null    object\n",
      " 10  3PM        201 non-null    object\n",
      " 11  PPG        201 non-null    object\n",
      " 12  REB        201 non-null    object\n",
      " 13  AST        201 non-null    object\n",
      " 14  STL        201 non-null    object\n",
      " 15  BLK        201 non-null    object\n",
      " 16  TO         201 non-null    object\n",
      "dtypes: object(17)\n",
      "memory usage: 30.3+ KB\n"
     ]
    }
   ],
   "source": [
    "df.info()"
   ]
  },
  {
   "cell_type": "code",
   "execution_count": 5,
   "metadata": {},
   "outputs": [
    {
     "data": {
      "text/html": [
       "<div>\n",
       "<style scoped>\n",
       "    .dataframe tbody tr th:only-of-type {\n",
       "        vertical-align: middle;\n",
       "    }\n",
       "\n",
       "    .dataframe tbody tr th {\n",
       "        vertical-align: top;\n",
       "    }\n",
       "\n",
       "    .dataframe thead th {\n",
       "        text-align: right;\n",
       "    }\n",
       "</style>\n",
       "<table border=\"1\" class=\"dataframe\">\n",
       "  <thead>\n",
       "    <tr style=\"text-align: right;\">\n",
       "      <th></th>\n",
       "      <th>Name</th>\n",
       "      <th>Posititon</th>\n",
       "      <th>Team</th>\n",
       "      <th>GP</th>\n",
       "      <th>FG%</th>\n",
       "      <th>FGM</th>\n",
       "      <th>FGA</th>\n",
       "      <th>FT%</th>\n",
       "      <th>FTM</th>\n",
       "      <th>FTA</th>\n",
       "      <th>3PM</th>\n",
       "      <th>PPG</th>\n",
       "      <th>REB</th>\n",
       "      <th>AST</th>\n",
       "      <th>STL</th>\n",
       "      <th>BLK</th>\n",
       "      <th>TO</th>\n",
       "    </tr>\n",
       "  </thead>\n",
       "  <tbody>\n",
       "    <tr>\n",
       "      <th>0</th>\n",
       "      <td>Victor Wembanyama</td>\n",
       "      <td>C</td>\n",
       "      <td>SA</td>\n",
       "      <td>70</td>\n",
       "      <td>0.473</td>\n",
       "      <td>8.8</td>\n",
       "      <td>18.6</td>\n",
       "      <td>0.802</td>\n",
       "      <td>4.5</td>\n",
       "      <td>5.6</td>\n",
       "      <td>2</td>\n",
       "      <td>24.1</td>\n",
       "      <td>11.1</td>\n",
       "      <td>4.4</td>\n",
       "      <td>1.4</td>\n",
       "      <td>3.9</td>\n",
       "      <td>3.4</td>\n",
       "    </tr>\n",
       "    <tr>\n",
       "      <th>1</th>\n",
       "      <td>Nikola Jokic</td>\n",
       "      <td>C</td>\n",
       "      <td>DEN</td>\n",
       "      <td>75</td>\n",
       "      <td>0.585</td>\n",
       "      <td>10.4</td>\n",
       "      <td>17.8</td>\n",
       "      <td>0.819</td>\n",
       "      <td>4.8</td>\n",
       "      <td>5.8</td>\n",
       "      <td>1.1</td>\n",
       "      <td>26.7</td>\n",
       "      <td>12.1</td>\n",
       "      <td>9.1</td>\n",
       "      <td>1.4</td>\n",
       "      <td>0.9</td>\n",
       "      <td>3.1</td>\n",
       "    </tr>\n",
       "    <tr>\n",
       "      <th>2</th>\n",
       "      <td>Luka Doncic</td>\n",
       "      <td>PG,SG</td>\n",
       "      <td>DAL</td>\n",
       "      <td>68</td>\n",
       "      <td>0.491</td>\n",
       "      <td>11.3</td>\n",
       "      <td>23</td>\n",
       "      <td>0.792</td>\n",
       "      <td>7.6</td>\n",
       "      <td>9.7</td>\n",
       "      <td>4.1</td>\n",
       "      <td>34.4</td>\n",
       "      <td>9.3</td>\n",
       "      <td>9.9</td>\n",
       "      <td>1.4</td>\n",
       "      <td>0.5</td>\n",
       "      <td>3.8</td>\n",
       "    </tr>\n",
       "    <tr>\n",
       "      <th>3</th>\n",
       "      <td>Shai Gilgeous-Alexander</td>\n",
       "      <td>PG</td>\n",
       "      <td>OKC</td>\n",
       "      <td>73</td>\n",
       "      <td>0.524</td>\n",
       "      <td>10.2</td>\n",
       "      <td>19.5</td>\n",
       "      <td>0.88</td>\n",
       "      <td>8.1</td>\n",
       "      <td>9.2</td>\n",
       "      <td>1.4</td>\n",
       "      <td>29.9</td>\n",
       "      <td>5.1</td>\n",
       "      <td>6.5</td>\n",
       "      <td>1.9</td>\n",
       "      <td>0.9</td>\n",
       "      <td>2.4</td>\n",
       "    </tr>\n",
       "    <tr>\n",
       "      <th>4</th>\n",
       "      <td>Giannis Antetokounmpo</td>\n",
       "      <td>PF,C</td>\n",
       "      <td>MIL</td>\n",
       "      <td>71</td>\n",
       "      <td>0.614</td>\n",
       "      <td>11.8</td>\n",
       "      <td>19.2</td>\n",
       "      <td>0.671</td>\n",
       "      <td>7</td>\n",
       "      <td>10.5</td>\n",
       "      <td>0.6</td>\n",
       "      <td>31.1</td>\n",
       "      <td>11.1</td>\n",
       "      <td>6.7</td>\n",
       "      <td>1.2</td>\n",
       "      <td>1.1</td>\n",
       "      <td>3.4</td>\n",
       "    </tr>\n",
       "  </tbody>\n",
       "</table>\n",
       "</div>"
      ],
      "text/plain": [
       "                      Name Posititon Team  GP    FG%   FGM   FGA    FT%  FTM  \\\n",
       "0        Victor Wembanyama         C   SA  70  0.473   8.8  18.6  0.802  4.5   \n",
       "1             Nikola Jokic         C  DEN  75  0.585  10.4  17.8  0.819  4.8   \n",
       "2              Luka Doncic     PG,SG  DAL  68  0.491  11.3    23  0.792  7.6   \n",
       "3  Shai Gilgeous-Alexander        PG  OKC  73  0.524  10.2  19.5   0.88  8.1   \n",
       "4    Giannis Antetokounmpo      PF,C  MIL  71  0.614  11.8  19.2  0.671    7   \n",
       "\n",
       "    FTA  3PM   PPG   REB  AST  STL  BLK   TO  \n",
       "0   5.6    2  24.1  11.1  4.4  1.4  3.9  3.4  \n",
       "1   5.8  1.1  26.7  12.1  9.1  1.4  0.9  3.1  \n",
       "2   9.7  4.1  34.4   9.3  9.9  1.4  0.5  3.8  \n",
       "3   9.2  1.4  29.9   5.1  6.5  1.9  0.9  2.4  \n",
       "4  10.5  0.6  31.1  11.1  6.7  1.2  1.1  3.4  "
      ]
     },
     "execution_count": 5,
     "metadata": {},
     "output_type": "execute_result"
    }
   ],
   "source": [
    "df = df.dropna()\n",
    "df = df.reset_index(drop=True)\n",
    "df.head()"
   ]
  },
  {
   "cell_type": "code",
   "execution_count": 6,
   "metadata": {},
   "outputs": [],
   "source": [
    "df[['GP', 'FG%', 'FGM', 'FGA', 'FT%', 'FTM', 'FTA', '3PM', 'PPG', 'REB', 'AST', 'STL', 'BLK', 'TO']] = df[['GP', 'FG%', 'FGM', 'FGA', 'FT%', 'FTM','FTA', '3PM', 'PPG', 'REB', 'AST', 'STL', 'BLK', 'TO']].apply(pd.to_numeric)"
   ]
  },
  {
   "cell_type": "code",
   "execution_count": 7,
   "metadata": {},
   "outputs": [
    {
     "data": {
      "application/vnd.plotly.v1+json": {
       "config": {
        "plotlyServerURL": "https://plot.ly"
       },
       "data": [
        {
         "name": "GP",
         "type": "box",
         "y": [
          70,
          75,
          68,
          73,
          71,
          62,
          67,
          69,
          75,
          79,
          68,
          72,
          77,
          65,
          67,
          75,
          68,
          68,
          70,
          74,
          70,
          67,
          61,
          58,
          72,
          67,
          70,
          69,
          72,
          64,
          73,
          74,
          68,
          63,
          76,
          64,
          73,
          70,
          68,
          48,
          70,
          68,
          68,
          72,
          73,
          76,
          60,
          75,
          67,
          74,
          61,
          70,
          78,
          68,
          76,
          75,
          72,
          73,
          72,
          68,
          65,
          74,
          68,
          60,
          64,
          69,
          78,
          74,
          69,
          70,
          72,
          67,
          50,
          58,
          68,
          74,
          68,
          78,
          78,
          69,
          76,
          65,
          60,
          72,
          74,
          55,
          60,
          77,
          70,
          68,
          68,
          76,
          62,
          72,
          72,
          40,
          77,
          71,
          72,
          69,
          72,
          50,
          58,
          68,
          67,
          68,
          62,
          70,
          70,
          55,
          75,
          67,
          68,
          73,
          74,
          76,
          72,
          67,
          73,
          73,
          74,
          68,
          60,
          72,
          73,
          70,
          78,
          65,
          74,
          43,
          72,
          67,
          73,
          48,
          69,
          63,
          65,
          70,
          73,
          73,
          69,
          69,
          76,
          66,
          72,
          28,
          76,
          76,
          64,
          72,
          58,
          74,
          69,
          70,
          74,
          68,
          67,
          74,
          55,
          70,
          68,
          70,
          67,
          68,
          68,
          65,
          72,
          68,
          65,
          67,
          69,
          67,
          72,
          58,
          55,
          79,
          67,
          76,
          68,
          67,
          72,
          68,
          64,
          77,
          68,
          72,
          68,
          50,
          67,
          68,
          60,
          65,
          68,
          68,
          67,
          52,
          60,
          60,
          78,
          64,
          74
         ]
        }
       ],
       "layout": {
        "template": {
         "data": {
          "bar": [
           {
            "error_x": {
             "color": "#2a3f5f"
            },
            "error_y": {
             "color": "#2a3f5f"
            },
            "marker": {
             "line": {
              "color": "#E5ECF6",
              "width": 0.5
             },
             "pattern": {
              "fillmode": "overlay",
              "size": 10,
              "solidity": 0.2
             }
            },
            "type": "bar"
           }
          ],
          "barpolar": [
           {
            "marker": {
             "line": {
              "color": "#E5ECF6",
              "width": 0.5
             },
             "pattern": {
              "fillmode": "overlay",
              "size": 10,
              "solidity": 0.2
             }
            },
            "type": "barpolar"
           }
          ],
          "carpet": [
           {
            "aaxis": {
             "endlinecolor": "#2a3f5f",
             "gridcolor": "white",
             "linecolor": "white",
             "minorgridcolor": "white",
             "startlinecolor": "#2a3f5f"
            },
            "baxis": {
             "endlinecolor": "#2a3f5f",
             "gridcolor": "white",
             "linecolor": "white",
             "minorgridcolor": "white",
             "startlinecolor": "#2a3f5f"
            },
            "type": "carpet"
           }
          ],
          "choropleth": [
           {
            "colorbar": {
             "outlinewidth": 0,
             "ticks": ""
            },
            "type": "choropleth"
           }
          ],
          "contour": [
           {
            "colorbar": {
             "outlinewidth": 0,
             "ticks": ""
            },
            "colorscale": [
             [
              0,
              "#0d0887"
             ],
             [
              0.1111111111111111,
              "#46039f"
             ],
             [
              0.2222222222222222,
              "#7201a8"
             ],
             [
              0.3333333333333333,
              "#9c179e"
             ],
             [
              0.4444444444444444,
              "#bd3786"
             ],
             [
              0.5555555555555556,
              "#d8576b"
             ],
             [
              0.6666666666666666,
              "#ed7953"
             ],
             [
              0.7777777777777778,
              "#fb9f3a"
             ],
             [
              0.8888888888888888,
              "#fdca26"
             ],
             [
              1,
              "#f0f921"
             ]
            ],
            "type": "contour"
           }
          ],
          "contourcarpet": [
           {
            "colorbar": {
             "outlinewidth": 0,
             "ticks": ""
            },
            "type": "contourcarpet"
           }
          ],
          "heatmap": [
           {
            "colorbar": {
             "outlinewidth": 0,
             "ticks": ""
            },
            "colorscale": [
             [
              0,
              "#0d0887"
             ],
             [
              0.1111111111111111,
              "#46039f"
             ],
             [
              0.2222222222222222,
              "#7201a8"
             ],
             [
              0.3333333333333333,
              "#9c179e"
             ],
             [
              0.4444444444444444,
              "#bd3786"
             ],
             [
              0.5555555555555556,
              "#d8576b"
             ],
             [
              0.6666666666666666,
              "#ed7953"
             ],
             [
              0.7777777777777778,
              "#fb9f3a"
             ],
             [
              0.8888888888888888,
              "#fdca26"
             ],
             [
              1,
              "#f0f921"
             ]
            ],
            "type": "heatmap"
           }
          ],
          "heatmapgl": [
           {
            "colorbar": {
             "outlinewidth": 0,
             "ticks": ""
            },
            "colorscale": [
             [
              0,
              "#0d0887"
             ],
             [
              0.1111111111111111,
              "#46039f"
             ],
             [
              0.2222222222222222,
              "#7201a8"
             ],
             [
              0.3333333333333333,
              "#9c179e"
             ],
             [
              0.4444444444444444,
              "#bd3786"
             ],
             [
              0.5555555555555556,
              "#d8576b"
             ],
             [
              0.6666666666666666,
              "#ed7953"
             ],
             [
              0.7777777777777778,
              "#fb9f3a"
             ],
             [
              0.8888888888888888,
              "#fdca26"
             ],
             [
              1,
              "#f0f921"
             ]
            ],
            "type": "heatmapgl"
           }
          ],
          "histogram": [
           {
            "marker": {
             "pattern": {
              "fillmode": "overlay",
              "size": 10,
              "solidity": 0.2
             }
            },
            "type": "histogram"
           }
          ],
          "histogram2d": [
           {
            "colorbar": {
             "outlinewidth": 0,
             "ticks": ""
            },
            "colorscale": [
             [
              0,
              "#0d0887"
             ],
             [
              0.1111111111111111,
              "#46039f"
             ],
             [
              0.2222222222222222,
              "#7201a8"
             ],
             [
              0.3333333333333333,
              "#9c179e"
             ],
             [
              0.4444444444444444,
              "#bd3786"
             ],
             [
              0.5555555555555556,
              "#d8576b"
             ],
             [
              0.6666666666666666,
              "#ed7953"
             ],
             [
              0.7777777777777778,
              "#fb9f3a"
             ],
             [
              0.8888888888888888,
              "#fdca26"
             ],
             [
              1,
              "#f0f921"
             ]
            ],
            "type": "histogram2d"
           }
          ],
          "histogram2dcontour": [
           {
            "colorbar": {
             "outlinewidth": 0,
             "ticks": ""
            },
            "colorscale": [
             [
              0,
              "#0d0887"
             ],
             [
              0.1111111111111111,
              "#46039f"
             ],
             [
              0.2222222222222222,
              "#7201a8"
             ],
             [
              0.3333333333333333,
              "#9c179e"
             ],
             [
              0.4444444444444444,
              "#bd3786"
             ],
             [
              0.5555555555555556,
              "#d8576b"
             ],
             [
              0.6666666666666666,
              "#ed7953"
             ],
             [
              0.7777777777777778,
              "#fb9f3a"
             ],
             [
              0.8888888888888888,
              "#fdca26"
             ],
             [
              1,
              "#f0f921"
             ]
            ],
            "type": "histogram2dcontour"
           }
          ],
          "mesh3d": [
           {
            "colorbar": {
             "outlinewidth": 0,
             "ticks": ""
            },
            "type": "mesh3d"
           }
          ],
          "parcoords": [
           {
            "line": {
             "colorbar": {
              "outlinewidth": 0,
              "ticks": ""
             }
            },
            "type": "parcoords"
           }
          ],
          "pie": [
           {
            "automargin": true,
            "type": "pie"
           }
          ],
          "scatter": [
           {
            "fillpattern": {
             "fillmode": "overlay",
             "size": 10,
             "solidity": 0.2
            },
            "type": "scatter"
           }
          ],
          "scatter3d": [
           {
            "line": {
             "colorbar": {
              "outlinewidth": 0,
              "ticks": ""
             }
            },
            "marker": {
             "colorbar": {
              "outlinewidth": 0,
              "ticks": ""
             }
            },
            "type": "scatter3d"
           }
          ],
          "scattercarpet": [
           {
            "marker": {
             "colorbar": {
              "outlinewidth": 0,
              "ticks": ""
             }
            },
            "type": "scattercarpet"
           }
          ],
          "scattergeo": [
           {
            "marker": {
             "colorbar": {
              "outlinewidth": 0,
              "ticks": ""
             }
            },
            "type": "scattergeo"
           }
          ],
          "scattergl": [
           {
            "marker": {
             "colorbar": {
              "outlinewidth": 0,
              "ticks": ""
             }
            },
            "type": "scattergl"
           }
          ],
          "scattermapbox": [
           {
            "marker": {
             "colorbar": {
              "outlinewidth": 0,
              "ticks": ""
             }
            },
            "type": "scattermapbox"
           }
          ],
          "scatterpolar": [
           {
            "marker": {
             "colorbar": {
              "outlinewidth": 0,
              "ticks": ""
             }
            },
            "type": "scatterpolar"
           }
          ],
          "scatterpolargl": [
           {
            "marker": {
             "colorbar": {
              "outlinewidth": 0,
              "ticks": ""
             }
            },
            "type": "scatterpolargl"
           }
          ],
          "scatterternary": [
           {
            "marker": {
             "colorbar": {
              "outlinewidth": 0,
              "ticks": ""
             }
            },
            "type": "scatterternary"
           }
          ],
          "surface": [
           {
            "colorbar": {
             "outlinewidth": 0,
             "ticks": ""
            },
            "colorscale": [
             [
              0,
              "#0d0887"
             ],
             [
              0.1111111111111111,
              "#46039f"
             ],
             [
              0.2222222222222222,
              "#7201a8"
             ],
             [
              0.3333333333333333,
              "#9c179e"
             ],
             [
              0.4444444444444444,
              "#bd3786"
             ],
             [
              0.5555555555555556,
              "#d8576b"
             ],
             [
              0.6666666666666666,
              "#ed7953"
             ],
             [
              0.7777777777777778,
              "#fb9f3a"
             ],
             [
              0.8888888888888888,
              "#fdca26"
             ],
             [
              1,
              "#f0f921"
             ]
            ],
            "type": "surface"
           }
          ],
          "table": [
           {
            "cells": {
             "fill": {
              "color": "#EBF0F8"
             },
             "line": {
              "color": "white"
             }
            },
            "header": {
             "fill": {
              "color": "#C8D4E3"
             },
             "line": {
              "color": "white"
             }
            },
            "type": "table"
           }
          ]
         },
         "layout": {
          "annotationdefaults": {
           "arrowcolor": "#2a3f5f",
           "arrowhead": 0,
           "arrowwidth": 1
          },
          "autotypenumbers": "strict",
          "coloraxis": {
           "colorbar": {
            "outlinewidth": 0,
            "ticks": ""
           }
          },
          "colorscale": {
           "diverging": [
            [
             0,
             "#8e0152"
            ],
            [
             0.1,
             "#c51b7d"
            ],
            [
             0.2,
             "#de77ae"
            ],
            [
             0.3,
             "#f1b6da"
            ],
            [
             0.4,
             "#fde0ef"
            ],
            [
             0.5,
             "#f7f7f7"
            ],
            [
             0.6,
             "#e6f5d0"
            ],
            [
             0.7,
             "#b8e186"
            ],
            [
             0.8,
             "#7fbc41"
            ],
            [
             0.9,
             "#4d9221"
            ],
            [
             1,
             "#276419"
            ]
           ],
           "sequential": [
            [
             0,
             "#0d0887"
            ],
            [
             0.1111111111111111,
             "#46039f"
            ],
            [
             0.2222222222222222,
             "#7201a8"
            ],
            [
             0.3333333333333333,
             "#9c179e"
            ],
            [
             0.4444444444444444,
             "#bd3786"
            ],
            [
             0.5555555555555556,
             "#d8576b"
            ],
            [
             0.6666666666666666,
             "#ed7953"
            ],
            [
             0.7777777777777778,
             "#fb9f3a"
            ],
            [
             0.8888888888888888,
             "#fdca26"
            ],
            [
             1,
             "#f0f921"
            ]
           ],
           "sequentialminus": [
            [
             0,
             "#0d0887"
            ],
            [
             0.1111111111111111,
             "#46039f"
            ],
            [
             0.2222222222222222,
             "#7201a8"
            ],
            [
             0.3333333333333333,
             "#9c179e"
            ],
            [
             0.4444444444444444,
             "#bd3786"
            ],
            [
             0.5555555555555556,
             "#d8576b"
            ],
            [
             0.6666666666666666,
             "#ed7953"
            ],
            [
             0.7777777777777778,
             "#fb9f3a"
            ],
            [
             0.8888888888888888,
             "#fdca26"
            ],
            [
             1,
             "#f0f921"
            ]
           ]
          },
          "colorway": [
           "#636efa",
           "#EF553B",
           "#00cc96",
           "#ab63fa",
           "#FFA15A",
           "#19d3f3",
           "#FF6692",
           "#B6E880",
           "#FF97FF",
           "#FECB52"
          ],
          "font": {
           "color": "#2a3f5f"
          },
          "geo": {
           "bgcolor": "white",
           "lakecolor": "white",
           "landcolor": "#E5ECF6",
           "showlakes": true,
           "showland": true,
           "subunitcolor": "white"
          },
          "hoverlabel": {
           "align": "left"
          },
          "hovermode": "closest",
          "mapbox": {
           "style": "light"
          },
          "paper_bgcolor": "white",
          "plot_bgcolor": "#E5ECF6",
          "polar": {
           "angularaxis": {
            "gridcolor": "white",
            "linecolor": "white",
            "ticks": ""
           },
           "bgcolor": "#E5ECF6",
           "radialaxis": {
            "gridcolor": "white",
            "linecolor": "white",
            "ticks": ""
           }
          },
          "scene": {
           "xaxis": {
            "backgroundcolor": "#E5ECF6",
            "gridcolor": "white",
            "gridwidth": 2,
            "linecolor": "white",
            "showbackground": true,
            "ticks": "",
            "zerolinecolor": "white"
           },
           "yaxis": {
            "backgroundcolor": "#E5ECF6",
            "gridcolor": "white",
            "gridwidth": 2,
            "linecolor": "white",
            "showbackground": true,
            "ticks": "",
            "zerolinecolor": "white"
           },
           "zaxis": {
            "backgroundcolor": "#E5ECF6",
            "gridcolor": "white",
            "gridwidth": 2,
            "linecolor": "white",
            "showbackground": true,
            "ticks": "",
            "zerolinecolor": "white"
           }
          },
          "shapedefaults": {
           "line": {
            "color": "#2a3f5f"
           }
          },
          "ternary": {
           "aaxis": {
            "gridcolor": "white",
            "linecolor": "white",
            "ticks": ""
           },
           "baxis": {
            "gridcolor": "white",
            "linecolor": "white",
            "ticks": ""
           },
           "bgcolor": "#E5ECF6",
           "caxis": {
            "gridcolor": "white",
            "linecolor": "white",
            "ticks": ""
           }
          },
          "title": {
           "x": 0.05
          },
          "xaxis": {
           "automargin": true,
           "gridcolor": "white",
           "linecolor": "white",
           "ticks": "",
           "title": {
            "standoff": 15
           },
           "zerolinecolor": "white",
           "zerolinewidth": 2
          },
          "yaxis": {
           "automargin": true,
           "gridcolor": "white",
           "linecolor": "white",
           "ticks": "",
           "title": {
            "standoff": 15
           },
           "zerolinecolor": "white",
           "zerolinewidth": 2
          }
         }
        }
       }
      }
     },
     "metadata": {},
     "output_type": "display_data"
    }
   ],
   "source": [
    "fig = go.Figure()\n",
    "fig.add_trace(go.Box(y=df['GP'].values, name=df['GP'].name))"
   ]
  },
  {
   "cell_type": "code",
   "execution_count": 8,
   "metadata": {},
   "outputs": [
    {
     "data": {
      "application/vnd.plotly.v1+json": {
       "config": {
        "plotlyServerURL": "https://plot.ly"
       },
       "data": [
        {
         "alignmentgroup": "True",
         "bingroup": "x",
         "hovertemplate": "GP=%{x}<br>count=%{y}<extra></extra>",
         "legendgroup": "",
         "marker": {
          "color": "#636efa",
          "pattern": {
           "shape": ""
          }
         },
         "name": "",
         "offsetgroup": "",
         "orientation": "v",
         "showlegend": false,
         "type": "histogram",
         "x": [
          70,
          75,
          68,
          73,
          71,
          62,
          67,
          69,
          75,
          79,
          68,
          72,
          77,
          65,
          67,
          75,
          68,
          68,
          70,
          74,
          70,
          67,
          61,
          58,
          72,
          67,
          70,
          69,
          72,
          64,
          73,
          74,
          68,
          63,
          76,
          64,
          73,
          70,
          68,
          48,
          70,
          68,
          68,
          72,
          73,
          76,
          60,
          75,
          67,
          74,
          61,
          70,
          78,
          68,
          76,
          75,
          72,
          73,
          72,
          68,
          65,
          74,
          68,
          60,
          64,
          69,
          78,
          74,
          69,
          70,
          72,
          67,
          50,
          58,
          68,
          74,
          68,
          78,
          78,
          69,
          76,
          65,
          60,
          72,
          74,
          55,
          60,
          77,
          70,
          68,
          68,
          76,
          62,
          72,
          72,
          40,
          77,
          71,
          72,
          69,
          72,
          50,
          58,
          68,
          67,
          68,
          62,
          70,
          70,
          55,
          75,
          67,
          68,
          73,
          74,
          76,
          72,
          67,
          73,
          73,
          74,
          68,
          60,
          72,
          73,
          70,
          78,
          65,
          74,
          43,
          72,
          67,
          73,
          48,
          69,
          63,
          65,
          70,
          73,
          73,
          69,
          69,
          76,
          66,
          72,
          28,
          76,
          76,
          64,
          72,
          58,
          74,
          69,
          70,
          74,
          68,
          67,
          74,
          55,
          70,
          68,
          70,
          67,
          68,
          68,
          65,
          72,
          68,
          65,
          67,
          69,
          67,
          72,
          58,
          55,
          79,
          67,
          76,
          68,
          67,
          72,
          68,
          64,
          77,
          68,
          72,
          68,
          50,
          67,
          68,
          60,
          65,
          68,
          68,
          67,
          52,
          60,
          60,
          78,
          64,
          74
         ],
         "xaxis": "x",
         "yaxis": "y"
        }
       ],
       "layout": {
        "barmode": "relative",
        "legend": {
         "tracegroupgap": 0
        },
        "margin": {
         "t": 60
        },
        "template": {
         "data": {
          "bar": [
           {
            "error_x": {
             "color": "#2a3f5f"
            },
            "error_y": {
             "color": "#2a3f5f"
            },
            "marker": {
             "line": {
              "color": "#E5ECF6",
              "width": 0.5
             },
             "pattern": {
              "fillmode": "overlay",
              "size": 10,
              "solidity": 0.2
             }
            },
            "type": "bar"
           }
          ],
          "barpolar": [
           {
            "marker": {
             "line": {
              "color": "#E5ECF6",
              "width": 0.5
             },
             "pattern": {
              "fillmode": "overlay",
              "size": 10,
              "solidity": 0.2
             }
            },
            "type": "barpolar"
           }
          ],
          "carpet": [
           {
            "aaxis": {
             "endlinecolor": "#2a3f5f",
             "gridcolor": "white",
             "linecolor": "white",
             "minorgridcolor": "white",
             "startlinecolor": "#2a3f5f"
            },
            "baxis": {
             "endlinecolor": "#2a3f5f",
             "gridcolor": "white",
             "linecolor": "white",
             "minorgridcolor": "white",
             "startlinecolor": "#2a3f5f"
            },
            "type": "carpet"
           }
          ],
          "choropleth": [
           {
            "colorbar": {
             "outlinewidth": 0,
             "ticks": ""
            },
            "type": "choropleth"
           }
          ],
          "contour": [
           {
            "colorbar": {
             "outlinewidth": 0,
             "ticks": ""
            },
            "colorscale": [
             [
              0,
              "#0d0887"
             ],
             [
              0.1111111111111111,
              "#46039f"
             ],
             [
              0.2222222222222222,
              "#7201a8"
             ],
             [
              0.3333333333333333,
              "#9c179e"
             ],
             [
              0.4444444444444444,
              "#bd3786"
             ],
             [
              0.5555555555555556,
              "#d8576b"
             ],
             [
              0.6666666666666666,
              "#ed7953"
             ],
             [
              0.7777777777777778,
              "#fb9f3a"
             ],
             [
              0.8888888888888888,
              "#fdca26"
             ],
             [
              1,
              "#f0f921"
             ]
            ],
            "type": "contour"
           }
          ],
          "contourcarpet": [
           {
            "colorbar": {
             "outlinewidth": 0,
             "ticks": ""
            },
            "type": "contourcarpet"
           }
          ],
          "heatmap": [
           {
            "colorbar": {
             "outlinewidth": 0,
             "ticks": ""
            },
            "colorscale": [
             [
              0,
              "#0d0887"
             ],
             [
              0.1111111111111111,
              "#46039f"
             ],
             [
              0.2222222222222222,
              "#7201a8"
             ],
             [
              0.3333333333333333,
              "#9c179e"
             ],
             [
              0.4444444444444444,
              "#bd3786"
             ],
             [
              0.5555555555555556,
              "#d8576b"
             ],
             [
              0.6666666666666666,
              "#ed7953"
             ],
             [
              0.7777777777777778,
              "#fb9f3a"
             ],
             [
              0.8888888888888888,
              "#fdca26"
             ],
             [
              1,
              "#f0f921"
             ]
            ],
            "type": "heatmap"
           }
          ],
          "heatmapgl": [
           {
            "colorbar": {
             "outlinewidth": 0,
             "ticks": ""
            },
            "colorscale": [
             [
              0,
              "#0d0887"
             ],
             [
              0.1111111111111111,
              "#46039f"
             ],
             [
              0.2222222222222222,
              "#7201a8"
             ],
             [
              0.3333333333333333,
              "#9c179e"
             ],
             [
              0.4444444444444444,
              "#bd3786"
             ],
             [
              0.5555555555555556,
              "#d8576b"
             ],
             [
              0.6666666666666666,
              "#ed7953"
             ],
             [
              0.7777777777777778,
              "#fb9f3a"
             ],
             [
              0.8888888888888888,
              "#fdca26"
             ],
             [
              1,
              "#f0f921"
             ]
            ],
            "type": "heatmapgl"
           }
          ],
          "histogram": [
           {
            "marker": {
             "pattern": {
              "fillmode": "overlay",
              "size": 10,
              "solidity": 0.2
             }
            },
            "type": "histogram"
           }
          ],
          "histogram2d": [
           {
            "colorbar": {
             "outlinewidth": 0,
             "ticks": ""
            },
            "colorscale": [
             [
              0,
              "#0d0887"
             ],
             [
              0.1111111111111111,
              "#46039f"
             ],
             [
              0.2222222222222222,
              "#7201a8"
             ],
             [
              0.3333333333333333,
              "#9c179e"
             ],
             [
              0.4444444444444444,
              "#bd3786"
             ],
             [
              0.5555555555555556,
              "#d8576b"
             ],
             [
              0.6666666666666666,
              "#ed7953"
             ],
             [
              0.7777777777777778,
              "#fb9f3a"
             ],
             [
              0.8888888888888888,
              "#fdca26"
             ],
             [
              1,
              "#f0f921"
             ]
            ],
            "type": "histogram2d"
           }
          ],
          "histogram2dcontour": [
           {
            "colorbar": {
             "outlinewidth": 0,
             "ticks": ""
            },
            "colorscale": [
             [
              0,
              "#0d0887"
             ],
             [
              0.1111111111111111,
              "#46039f"
             ],
             [
              0.2222222222222222,
              "#7201a8"
             ],
             [
              0.3333333333333333,
              "#9c179e"
             ],
             [
              0.4444444444444444,
              "#bd3786"
             ],
             [
              0.5555555555555556,
              "#d8576b"
             ],
             [
              0.6666666666666666,
              "#ed7953"
             ],
             [
              0.7777777777777778,
              "#fb9f3a"
             ],
             [
              0.8888888888888888,
              "#fdca26"
             ],
             [
              1,
              "#f0f921"
             ]
            ],
            "type": "histogram2dcontour"
           }
          ],
          "mesh3d": [
           {
            "colorbar": {
             "outlinewidth": 0,
             "ticks": ""
            },
            "type": "mesh3d"
           }
          ],
          "parcoords": [
           {
            "line": {
             "colorbar": {
              "outlinewidth": 0,
              "ticks": ""
             }
            },
            "type": "parcoords"
           }
          ],
          "pie": [
           {
            "automargin": true,
            "type": "pie"
           }
          ],
          "scatter": [
           {
            "fillpattern": {
             "fillmode": "overlay",
             "size": 10,
             "solidity": 0.2
            },
            "type": "scatter"
           }
          ],
          "scatter3d": [
           {
            "line": {
             "colorbar": {
              "outlinewidth": 0,
              "ticks": ""
             }
            },
            "marker": {
             "colorbar": {
              "outlinewidth": 0,
              "ticks": ""
             }
            },
            "type": "scatter3d"
           }
          ],
          "scattercarpet": [
           {
            "marker": {
             "colorbar": {
              "outlinewidth": 0,
              "ticks": ""
             }
            },
            "type": "scattercarpet"
           }
          ],
          "scattergeo": [
           {
            "marker": {
             "colorbar": {
              "outlinewidth": 0,
              "ticks": ""
             }
            },
            "type": "scattergeo"
           }
          ],
          "scattergl": [
           {
            "marker": {
             "colorbar": {
              "outlinewidth": 0,
              "ticks": ""
             }
            },
            "type": "scattergl"
           }
          ],
          "scattermapbox": [
           {
            "marker": {
             "colorbar": {
              "outlinewidth": 0,
              "ticks": ""
             }
            },
            "type": "scattermapbox"
           }
          ],
          "scatterpolar": [
           {
            "marker": {
             "colorbar": {
              "outlinewidth": 0,
              "ticks": ""
             }
            },
            "type": "scatterpolar"
           }
          ],
          "scatterpolargl": [
           {
            "marker": {
             "colorbar": {
              "outlinewidth": 0,
              "ticks": ""
             }
            },
            "type": "scatterpolargl"
           }
          ],
          "scatterternary": [
           {
            "marker": {
             "colorbar": {
              "outlinewidth": 0,
              "ticks": ""
             }
            },
            "type": "scatterternary"
           }
          ],
          "surface": [
           {
            "colorbar": {
             "outlinewidth": 0,
             "ticks": ""
            },
            "colorscale": [
             [
              0,
              "#0d0887"
             ],
             [
              0.1111111111111111,
              "#46039f"
             ],
             [
              0.2222222222222222,
              "#7201a8"
             ],
             [
              0.3333333333333333,
              "#9c179e"
             ],
             [
              0.4444444444444444,
              "#bd3786"
             ],
             [
              0.5555555555555556,
              "#d8576b"
             ],
             [
              0.6666666666666666,
              "#ed7953"
             ],
             [
              0.7777777777777778,
              "#fb9f3a"
             ],
             [
              0.8888888888888888,
              "#fdca26"
             ],
             [
              1,
              "#f0f921"
             ]
            ],
            "type": "surface"
           }
          ],
          "table": [
           {
            "cells": {
             "fill": {
              "color": "#EBF0F8"
             },
             "line": {
              "color": "white"
             }
            },
            "header": {
             "fill": {
              "color": "#C8D4E3"
             },
             "line": {
              "color": "white"
             }
            },
            "type": "table"
           }
          ]
         },
         "layout": {
          "annotationdefaults": {
           "arrowcolor": "#2a3f5f",
           "arrowhead": 0,
           "arrowwidth": 1
          },
          "autotypenumbers": "strict",
          "coloraxis": {
           "colorbar": {
            "outlinewidth": 0,
            "ticks": ""
           }
          },
          "colorscale": {
           "diverging": [
            [
             0,
             "#8e0152"
            ],
            [
             0.1,
             "#c51b7d"
            ],
            [
             0.2,
             "#de77ae"
            ],
            [
             0.3,
             "#f1b6da"
            ],
            [
             0.4,
             "#fde0ef"
            ],
            [
             0.5,
             "#f7f7f7"
            ],
            [
             0.6,
             "#e6f5d0"
            ],
            [
             0.7,
             "#b8e186"
            ],
            [
             0.8,
             "#7fbc41"
            ],
            [
             0.9,
             "#4d9221"
            ],
            [
             1,
             "#276419"
            ]
           ],
           "sequential": [
            [
             0,
             "#0d0887"
            ],
            [
             0.1111111111111111,
             "#46039f"
            ],
            [
             0.2222222222222222,
             "#7201a8"
            ],
            [
             0.3333333333333333,
             "#9c179e"
            ],
            [
             0.4444444444444444,
             "#bd3786"
            ],
            [
             0.5555555555555556,
             "#d8576b"
            ],
            [
             0.6666666666666666,
             "#ed7953"
            ],
            [
             0.7777777777777778,
             "#fb9f3a"
            ],
            [
             0.8888888888888888,
             "#fdca26"
            ],
            [
             1,
             "#f0f921"
            ]
           ],
           "sequentialminus": [
            [
             0,
             "#0d0887"
            ],
            [
             0.1111111111111111,
             "#46039f"
            ],
            [
             0.2222222222222222,
             "#7201a8"
            ],
            [
             0.3333333333333333,
             "#9c179e"
            ],
            [
             0.4444444444444444,
             "#bd3786"
            ],
            [
             0.5555555555555556,
             "#d8576b"
            ],
            [
             0.6666666666666666,
             "#ed7953"
            ],
            [
             0.7777777777777778,
             "#fb9f3a"
            ],
            [
             0.8888888888888888,
             "#fdca26"
            ],
            [
             1,
             "#f0f921"
            ]
           ]
          },
          "colorway": [
           "#636efa",
           "#EF553B",
           "#00cc96",
           "#ab63fa",
           "#FFA15A",
           "#19d3f3",
           "#FF6692",
           "#B6E880",
           "#FF97FF",
           "#FECB52"
          ],
          "font": {
           "color": "#2a3f5f"
          },
          "geo": {
           "bgcolor": "white",
           "lakecolor": "white",
           "landcolor": "#E5ECF6",
           "showlakes": true,
           "showland": true,
           "subunitcolor": "white"
          },
          "hoverlabel": {
           "align": "left"
          },
          "hovermode": "closest",
          "mapbox": {
           "style": "light"
          },
          "paper_bgcolor": "white",
          "plot_bgcolor": "#E5ECF6",
          "polar": {
           "angularaxis": {
            "gridcolor": "white",
            "linecolor": "white",
            "ticks": ""
           },
           "bgcolor": "#E5ECF6",
           "radialaxis": {
            "gridcolor": "white",
            "linecolor": "white",
            "ticks": ""
           }
          },
          "scene": {
           "xaxis": {
            "backgroundcolor": "#E5ECF6",
            "gridcolor": "white",
            "gridwidth": 2,
            "linecolor": "white",
            "showbackground": true,
            "ticks": "",
            "zerolinecolor": "white"
           },
           "yaxis": {
            "backgroundcolor": "#E5ECF6",
            "gridcolor": "white",
            "gridwidth": 2,
            "linecolor": "white",
            "showbackground": true,
            "ticks": "",
            "zerolinecolor": "white"
           },
           "zaxis": {
            "backgroundcolor": "#E5ECF6",
            "gridcolor": "white",
            "gridwidth": 2,
            "linecolor": "white",
            "showbackground": true,
            "ticks": "",
            "zerolinecolor": "white"
           }
          },
          "shapedefaults": {
           "line": {
            "color": "#2a3f5f"
           }
          },
          "ternary": {
           "aaxis": {
            "gridcolor": "white",
            "linecolor": "white",
            "ticks": ""
           },
           "baxis": {
            "gridcolor": "white",
            "linecolor": "white",
            "ticks": ""
           },
           "bgcolor": "#E5ECF6",
           "caxis": {
            "gridcolor": "white",
            "linecolor": "white",
            "ticks": ""
           }
          },
          "title": {
           "x": 0.05
          },
          "xaxis": {
           "automargin": true,
           "gridcolor": "white",
           "linecolor": "white",
           "ticks": "",
           "title": {
            "standoff": 15
           },
           "zerolinecolor": "white",
           "zerolinewidth": 2
          },
          "yaxis": {
           "automargin": true,
           "gridcolor": "white",
           "linecolor": "white",
           "ticks": "",
           "title": {
            "standoff": 15
           },
           "zerolinecolor": "white",
           "zerolinewidth": 2
          }
         }
        },
        "xaxis": {
         "anchor": "y",
         "domain": [
          0,
          1
         ],
         "rangeslider": {
          "autorange": true,
          "visible": true
         },
         "title": {
          "text": "GP"
         }
        },
        "yaxis": {
         "anchor": "x",
         "domain": [
          0,
          1
         ],
         "title": {
          "text": "count"
         }
        }
       }
      }
     },
     "metadata": {},
     "output_type": "display_data"
    }
   ],
   "source": [
    "fig = px.histogram(df, x=\"GP\")\n",
    "fig.update_layout(\n",
    "    xaxis = dict(\n",
    "        rangeslider = dict(\n",
    "            visible = True,\n",
    "            autorange = True\n",
    "        )\n",
    "    )\n",
    ")\n",
    "fig.show()"
   ]
  },
  {
   "cell_type": "code",
   "execution_count": 9,
   "metadata": {},
   "outputs": [
    {
     "data": {
      "text/plain": [
       "count    201.000000\n",
       "mean      68.189055\n",
       "std        7.244590\n",
       "min       28.000000\n",
       "25%       67.000000\n",
       "50%       69.000000\n",
       "75%       73.000000\n",
       "max       79.000000\n",
       "Name: GP, dtype: float64"
      ]
     },
     "execution_count": 9,
     "metadata": {},
     "output_type": "execute_result"
    }
   ],
   "source": [
    "df['GP'].describe()"
   ]
  },
  {
   "cell_type": "code",
   "execution_count": 10,
   "metadata": {},
   "outputs": [
    {
     "data": {
      "application/vnd.plotly.v1+json": {
       "config": {
        "plotlyServerURL": "https://plot.ly"
       },
       "data": [
        {
         "name": "FG%",
         "type": "box",
         "y": [
          0.473,
          0.585,
          0.491,
          0.524,
          0.614,
          0.518,
          0.559,
          0.483,
          0.469,
          0.46,
          0.469,
          0.432,
          0.604,
          0.52,
          0.468,
          0.53,
          0.438,
          0.49,
          0.479,
          0.484,
          0.432,
          0.535,
          0.495,
          0.427,
          0.472,
          0.501,
          0.462,
          0.465,
          0.544,
          0.483,
          0.531,
          0.462,
          0.471,
          0.47,
          0.462,
          0.45,
          0.532,
          0.406,
          0.573,
          0.519,
          0.495,
          0.499,
          0.472,
          0.535,
          0.66,
          0.483,
          0.492,
          0.461,
          0.573,
          0.539,
          0.471,
          0.637,
          0.454,
          0.628,
          0.486,
          0.482,
          0.44,
          0.462,
          0.621,
          0.455,
          0.58,
          0.445,
          0.477,
          0.492,
          0.459,
          0.482,
          0.479,
          0.485,
          0.44,
          0.471,
          0.457,
          0.44,
          0.509,
          0.46,
          0.477,
          0.621,
          0.514,
          0.454,
          0.463,
          0.456,
          0.446,
          0.451,
          0.44,
          0.482,
          0.548,
          0.641,
          0.48,
          0.422,
          0.597,
          0.434,
          0.64,
          0.429,
          0.455,
          0.527,
          0.642,
          0.484,
          0.473,
          0.484,
          0.465,
          0.662,
          0.482,
          0.44,
          0.514,
          0.435,
          0.52,
          0.463,
          0.482,
          0.487,
          0.434,
          0.463,
          0.729,
          0.738,
          0.575,
          0.476,
          0.502,
          0.457,
          0.56,
          0.617,
          0.422,
          0.445,
          0.459,
          0.529,
          0.457,
          0.442,
          0.477,
          0.703,
          0.445,
          0.42,
          0.446,
          0.466,
          0.477,
          0.409,
          0.489,
          0.64,
          0.482,
          0.493,
          0.434,
          0.435,
          0.431,
          0.485,
          0.526,
          0.448,
          0.435,
          0.514,
          0.477,
          0.569,
          0.434,
          0.461,
          0.431,
          0.444,
          0.525,
          0.575,
          0.493,
          0.461,
          0.479,
          0.452,
          0.472,
          0.504,
          0.558,
          0.55,
          0.471,
          0.429,
          0.453,
          0.42,
          0.44,
          0.436,
          0.444,
          0.443,
          0.442,
          0.639,
          0.426,
          0.457,
          0.414,
          0.417,
          0.496,
          0.468,
          0.552,
          0.513,
          0.453,
          0.656,
          0.444,
          0.457,
          0.537,
          0.484,
          0.46,
          0.481,
          0.457,
          0.488,
          0.524,
          0.468,
          0.472,
          0.542,
          0.446,
          0.447,
          0.447,
          0.443,
          0.436,
          0.642,
          0.467,
          0.472,
          0.441
         ]
        },
        {
         "name": "FT%",
         "type": "box",
         "y": [
          0.802,
          0.819,
          0.792,
          0.88,
          0.671,
          0.871,
          0.802,
          0.862,
          0.836,
          0.823,
          0.918,
          0.877,
          0.725,
          0.846,
          0.866,
          0.793,
          0.871,
          0.873,
          0.791,
          0.839,
          0.918,
          0.758,
          0.907,
          0.857,
          0.759,
          0.873,
          0.858,
          0.888,
          0.713,
          0.884,
          0.743,
          0.809,
          0.8,
          0.788,
          0.731,
          0.865,
          0.82,
          0.874,
          0.726,
          0.88,
          0.737,
          0.748,
          0.877,
          0.778,
          0.642,
          0.845,
          0.855,
          0.888,
          0.714,
          0.742,
          0.841,
          0.735,
          0.827,
          0.781,
          0.863,
          0.817,
          0.849,
          0.824,
          0.555,
          0.85,
          0.776,
          0.837,
          0.78,
          0.812,
          0.845,
          0.877,
          0.795,
          0.818,
          0.861,
          0.803,
          0.829,
          0.903,
          0.821,
          0.801,
          0.847,
          0.7,
          0.647,
          0.836,
          0.824,
          0.773,
          0.843,
          0.814,
          0.905,
          0.859,
          0.796,
          0.704,
          0.77,
          0.871,
          0.631,
          0.889,
          0.575,
          0.807,
          0.866,
          0.759,
          0.709,
          0.848,
          0.736,
          0.854,
          0.761,
          0.577,
          0.726,
          0.833,
          0.713,
          0.842,
          0.798,
          0.785,
          0.867,
          0.843,
          0.901,
          0.814,
          0.675,
          0.535,
          0.729,
          0.802,
          0.777,
          0.765,
          0.632,
          0.785,
          0.851,
          0.782,
          0.664,
          0.72,
          0.818,
          0.885,
          0.738,
          0.563,
          0.839,
          0.751,
          0.86,
          0.85,
          0.796,
          0.821,
          0.812,
          0.459,
          0.821,
          0.806,
          0.812,
          0.847,
          0.706,
          0.893,
          0.834,
          0.711,
          0.759,
          0.74,
          0.798,
          0.427,
          0.827,
          0.861,
          0.846,
          0.668,
          0.722,
          0.604,
          0.624,
          0.711,
          0.861,
          0.74,
          0.835,
          0.732,
          0.755,
          0.816,
          0.798,
          0.792,
          0.798,
          0.817,
          0.71,
          0.76,
          0.77,
          0.826,
          0.785,
          0.608,
          0.746,
          0.732,
          0.829,
          0.855,
          0.704,
          0.73,
          0.728,
          0.806,
          0.651,
          0.743,
          0.855,
          0.829,
          0.711,
          0.821,
          0.729,
          0.79,
          0.829,
          0.751,
          0.759,
          0.75,
          0.914,
          0.688,
          0.844,
          0.794,
          0.889,
          0.766,
          0.885,
          0.694,
          0.65,
          0.709,
          0.733
         ]
        },
        {
         "name": "3PM",
         "type": "box",
         "y": [
          2,
          1.1,
          4.1,
          1.4,
          0.6,
          1.3,
          0.4,
          3,
          2.9,
          2.5,
          4.8,
          3.4,
          0.4,
          2.1,
          3.3,
          1.7,
          2.8,
          2.2,
          1.7,
          2.7,
          3.1,
          2.1,
          3,
          3.6,
          2.5,
          2.2,
          2.9,
          3,
          0.4,
          3.1,
          0.2,
          2.2,
          1.7,
          1.5,
          1.6,
          1.9,
          1.6,
          2.9,
          0.4,
          1.9,
          2.2,
          1.3,
          2.9,
          1.5,
          0,
          1.4,
          0.8,
          2.7,
          0.1,
          1.1,
          2.5,
          0,
          2.4,
          0,
          1,
          1.4,
          2.6,
          2.2,
          0,
          2.3,
          0.1,
          2.6,
          1.4,
          1.3,
          2.5,
          1.5,
          1.1,
          2.9,
          2.6,
          1.7,
          2.9,
          3.1,
          1.9,
          2.6,
          2.2,
          0.1,
          0.5,
          2.7,
          1.9,
          2.3,
          2.7,
          2.8,
          3.4,
          2,
          0.5,
          0,
          2,
          2.6,
          0,
          3.1,
          0,
          2.4,
          2.6,
          0.9,
          0,
          1.8,
          1.9,
          1.2,
          2.1,
          0,
          1.6,
          1.3,
          0.7,
          2.2,
          1.1,
          1.5,
          1.7,
          1.7,
          3.4,
          2.1,
          0,
          0,
          0,
          1.7,
          1.3,
          0.9,
          0.7,
          0.5,
          2.4,
          2.6,
          1.4,
          0.3,
          2.5,
          2.2,
          1,
          0,
          2.9,
          1.9,
          2,
          1.7,
          1.9,
          1.5,
          0.9,
          0,
          2.6,
          1.8,
          1.9,
          1.7,
          1.9,
          2.2,
          0.9,
          0.8,
          2.2,
          1.5,
          1.2,
          0,
          1.8,
          1.7,
          1.9,
          1,
          1.3,
          0,
          0.4,
          1.7,
          0.7,
          1.4,
          1.3,
          1.3,
          0.3,
          0.3,
          1.8,
          2.4,
          1.8,
          1.8,
          1.2,
          1.7,
          1,
          1.4,
          1.8,
          0.3,
          1.6,
          0.8,
          2.4,
          1.7,
          0.8,
          1,
          0.9,
          1.3,
          0.8,
          0,
          1.3,
          1.4,
          1.3,
          2.7,
          1.8,
          1,
          1.4,
          1.1,
          0.6,
          2.2,
          2.7,
          0.4,
          1.9,
          1.3,
          2.6,
          1.8,
          1.7,
          0,
          0.8,
          1.6,
          1.8
         ]
        },
        {
         "name": "PPG",
         "type": "box",
         "y": [
          24.1,
          26.7,
          34.4,
          29.9,
          31.1,
          29.2,
          25.2,
          21.1,
          27.9,
          26.2,
          26.4,
          28.1,
          19.7,
          25.7,
          26.2,
          17.4,
          20.4,
          27.8,
          19.1,
          27.7,
          24.9,
          25.2,
          24.6,
          23.2,
          25.1,
          21.4,
          23.9,
          22.5,
          19.4,
          24.5,
          20.1,
          19.5,
          20.7,
          25.8,
          23.1,
          23.2,
          19.1,
          17.3,
          16.1,
          21.9,
          24.4,
          17.4,
          21.4,
          17.1,
          14.3,
          19.6,
          20.7,
          15.2,
          22.8,
          21.1,
          20.4,
          14.9,
          16.1,
          12.8,
          20.1,
          17.1,
          18.7,
          19.8,
          12.5,
          19.3,
          16.7,
          18.1,
          20.3,
          20.1,
          21.6,
          17.1,
          16.1,
          17.5,
          25.6,
          11.7,
          17.5,
          20.2,
          18.9,
          19.4,
          13.5,
          8.7,
          12.2,
          14.6,
          14.1,
          21.6,
          18.1,
          18.3,
          21.4,
          15.7,
          14.2,
          12.6,
          14.8,
          20.1,
          11.5,
          17.1,
          12.2,
          20.5,
          13.7,
          16.2,
          12.3,
          17.8,
          14.2,
          10.4,
          13.6,
          9.5,
          21.2,
          9.6,
          8.2,
          17.7,
          14.2,
          8.7,
          16.4,
          20.1,
          17.2,
          19.7,
          10.3,
          10.1,
          10.2,
          12.2,
          14.1,
          9.1,
          15.3,
          10.6,
          16.3,
          11.9,
          10.6,
          12.1,
          14.7,
          11.6,
          11.9,
          12.1,
          14.3,
          12.1,
          14.5,
          12.9,
          11.9,
          15.7,
          11.9,
          6.8,
          18.8,
          8.3,
          15.9,
          15.1,
          12.4,
          11.4,
          9.6,
          11.8,
          18.4,
          14.8,
          10.1,
          6.6,
          11.2,
          10.1,
          17.4,
          14.8,
          13.1,
          9.2,
          10.6,
          14.6,
          9.8,
          12.9,
          6.7,
          11.4,
          13.4,
          9.2,
          10.3,
          14.5,
          16.7,
          9.2,
          10.2,
          16.3,
          12.4,
          16.8,
          14.2,
          9.4,
          12.2,
          9.8,
          11.7,
          9.1,
          7.5,
          10.4,
          9.7,
          12.9,
          7.1,
          9.8,
          11.5,
          10.3,
          12.9,
          15.1,
          7.9,
          11.5,
          10.3,
          9.7,
          9.2,
          12.1,
          10.8,
          7.6,
          10.1,
          10.3,
          12.5,
          10.4,
          10.4,
          10.1,
          9.5,
          11.1,
          9.5
         ]
        },
        {
         "name": "REB",
         "type": "box",
         "y": [
          11.1,
          12.1,
          9.3,
          5.1,
          11.1,
          10.1,
          12.1,
          3.9,
          9.1,
          5.5,
          4.5,
          2.9,
          13.1,
          6.4,
          4.4,
          8.1,
          6.1,
          4.5,
          8.3,
          3.7,
          4.5,
          7.2,
          4.9,
          5.7,
          4.2,
          9.5,
          3.4,
          5.1,
          9.9,
          8.4,
          10.1,
          5.2,
          6.2,
          5.9,
          7.4,
          4.7,
          4.4,
          3.7,
          9.2,
          5.8,
          6.1,
          9.1,
          4.5,
          7.1,
          12.1,
          5.4,
          5.4,
          4.3,
          6.2,
          7.5,
          4.1,
          9.9,
          4.1,
          10.1,
          3.7,
          10.1,
          4.6,
          6.9,
          9.8,
          2.6,
          10.1,
          4.4,
          8.5,
          4.8,
          4.5,
          6.1,
          7.4,
          6.5,
          3.3,
          4.9,
          3.1,
          5.3,
          3.8,
          3.9,
          5.3,
          9.1,
          10.1,
          5.4,
          8.4,
          6.9,
          4.6,
          3.9,
          3.1,
          4.1,
          10.1,
          9.7,
          4.1,
          2.9,
          10.1,
          3.5,
          9.1,
          4.9,
          3.9,
          5.1,
          10.1,
          6.7,
          5.9,
          3.8,
          3.4,
          8.7,
          6.4,
          3.4,
          6.9,
          3.5,
          7.5,
          3.8,
          4.4,
          2.9,
          3.2,
          3.9,
          6.8,
          7.9,
          7.2,
          2.9,
          8.3,
          7.9,
          6.6,
          7.6,
          3.3,
          3.7,
          6.6,
          7.2,
          4.5,
          2.8,
          6.5,
          7.6,
          4.2,
          3.1,
          2.8,
          3.4,
          4.1,
          3.3,
          3.8,
          9.1,
          3.4,
          5.6,
          4.6,
          3.1,
          5.5,
          3.3,
          5.1,
          6.2,
          3.7,
          5.2,
          2.6,
          6.6,
          3.9,
          2.5,
          3.4,
          5.9,
          7.7,
          9.9,
          7.2,
          4.7,
          3.2,
          3.6,
          2.5,
          3.5,
          7.2,
          2.8,
          6.3,
          2.5,
          4.7,
          3.5,
          4.9,
          4.9,
          6.8,
          4.3,
          3.9,
          5.2,
          3.7,
          7.1,
          3.9,
          3.4,
          5.1,
          5.2,
          5.8,
          4.8,
          5.1,
          8.1,
          3.9,
          4.1,
          7.6,
          3.4,
          3.1,
          4.3,
          4.1,
          4.6,
          5.7,
          3.2,
          3.1,
          7.1,
          1.9,
          4.9,
          2.5,
          5.3,
          2.9,
          5.5,
          4.6,
          3.6,
          2.5
         ]
        },
        {
         "name": "AST",
         "type": "box",
         "y": [
          4.4,
          9.1,
          9.9,
          6.5,
          6.7,
          4.1,
          3.6,
          11,
          5.1,
          5.2,
          5.3,
          10,
          7.9,
          4.8,
          5.4,
          2.6,
          10,
          5.5,
          6.1,
          7.1,
          7.1,
          8.2,
          5.2,
          8.6,
          5.5,
          3.3,
          5.8,
          3.4,
          5.4,
          1.9,
          3.9,
          6.5,
          1.7,
          8.2,
          5.7,
          7.8,
          4.5,
          7.6,
          3.4,
          3.4,
          3.5,
          3.4,
          4.4,
          1.3,
          1.4,
          3.9,
          5.1,
          4.9,
          5.1,
          3.9,
          6.3,
          2.2,
          3.2,
          2.1,
          3.8,
          3.3,
          6.8,
          3.2,
          2.1,
          7.1,
          1.6,
          2.5,
          3.9,
          4.6,
          4.1,
          2.9,
          6.1,
          1.4,
          2.9,
          1.3,
          6.1,
          4.3,
          4.2,
          4.1,
          5.1,
          2.4,
          3.6,
          1.6,
          1.5,
          4.1,
          4.9,
          4.1,
          4.9,
          5.1,
          2.1,
          0.1,
          2.1,
          5.7,
          1.1,
          3.2,
          2.7,
          3.7,
          1.7,
          2.5,
          1.3,
          2.1,
          1.4,
          2.5,
          3.5,
          1.1,
          3.8,
          6.5,
          6.2,
          4.5,
          1.2,
          3.5,
          4.7,
          4.9,
          2.1,
          2.5,
          1.4,
          1.5,
          1.3,
          6.8,
          1.4,
          3.9,
          3.3,
          1.3,
          5.2,
          2.8,
          4.2,
          3.2,
          2.2,
          6.1,
          3.3,
          1.8,
          2.9,
          4.7,
          4.5,
          3.7,
          1.5,
          5.8,
          2.6,
          0.1,
          1.7,
          2.5,
          2.2,
          5.9,
          2.1,
          2.4,
          3.4,
          1.2,
          4.6,
          1.3,
          4.7,
          5.9,
          1.7,
          2.3,
          4.3,
          5.4,
          2.1,
          0.1,
          2.2,
          1.9,
          5.5,
          1.4,
          2.4,
          1.7,
          1.1,
          5.3,
          1.1,
          1.6,
          2.6,
          2.4,
          2.1,
          1.3,
          3.2,
          1.8,
          4.3,
          1.1,
          4.2,
          1.2,
          3.4,
          4.4,
          0.1,
          2.1,
          1.3,
          2.7,
          3.5,
          0.1,
          3.1,
          1.4,
          1.3,
          2.4,
          2.1,
          3.2,
          1.4,
          1.5,
          1.5,
          2.6,
          2.5,
          2.2,
          2.4,
          2.1,
          2.5,
          2.4,
          2.7,
          1.3,
          1.5,
          2.3,
          2.9
         ]
        },
        {
         "name": "STL",
         "type": "box",
         "y": [
          1.4,
          1.4,
          1.4,
          1.9,
          1.2,
          1,
          1.2,
          1.4,
          1.1,
          1.4,
          0.8,
          1.2,
          0.9,
          0.8,
          1.6,
          0.7,
          1.1,
          1,
          1.3,
          0.9,
          0.9,
          1.1,
          1.2,
          1.6,
          1.7,
          0.7,
          0.9,
          1.5,
          1.2,
          0.8,
          1.2,
          1.4,
          1.1,
          0.9,
          1,
          0.9,
          1.1,
          1.4,
          0.9,
          1.2,
          1.1,
          1.2,
          1,
          0.5,
          0.8,
          1.2,
          1.3,
          0.9,
          1.1,
          0.8,
          1,
          0.7,
          1.1,
          0.6,
          1.1,
          0.7,
          1.1,
          0.9,
          0.8,
          1.1,
          0.7,
          1,
          0.5,
          0.8,
          0.9,
          1,
          0.8,
          0.6,
          0.7,
          0.5,
          1,
          0.7,
          1,
          1.1,
          1,
          1.1,
          1,
          1,
          0.8,
          0.5,
          0.9,
          0.8,
          0.6,
          0.8,
          0.4,
          0.9,
          1.5,
          1.1,
          0.6,
          1.1,
          0.9,
          0.9,
          1,
          0.8,
          0.4,
          0.7,
          0.8,
          1.4,
          1.5,
          0.4,
          0.6,
          1.1,
          1.1,
          1,
          0.6,
          1.6,
          0.8,
          0.8,
          0.6,
          0.8,
          0.7,
          0.8,
          0.3,
          1.2,
          0.7,
          1,
          0.8,
          0.7,
          0.6,
          1.2,
          1.2,
          1.5,
          1,
          1.1,
          0.8,
          0.6,
          1,
          1.6,
          0.6,
          0.6,
          0.9,
          1,
          1,
          1,
          0.8,
          0.5,
          0.8,
          0.8,
          1.1,
          0.8,
          0.8,
          0.7,
          0.8,
          0.7,
          1,
          1.1,
          0.9,
          1.3,
          0.5,
          1.2,
          0.6,
          1,
          1.2,
          0.8,
          1,
          1.1,
          1.3,
          0.9,
          0.5,
          1,
          1,
          1.2,
          0.7,
          1.4,
          1.1,
          1.2,
          1,
          0.7,
          1,
          0.4,
          1,
          1.3,
          0.8,
          1,
          1,
          0.9,
          0.6,
          0.8,
          1.5,
          0.3,
          0.7,
          0.9,
          0.4,
          0.7,
          1.3,
          1,
          0.9,
          0.7,
          0.5,
          0.8,
          0.6,
          1.2,
          1.1,
          0.9,
          0.6,
          0.8,
          0.9,
          0.6,
          0.7,
          1,
          0.9
         ]
        },
        {
         "name": "BLK",
         "type": "box",
         "y": [
          3.9,
          0.9,
          0.5,
          0.9,
          1.1,
          1.5,
          2.3,
          0.7,
          0.7,
          0.7,
          0.4,
          0.2,
          0.6,
          1.2,
          0.4,
          2.3,
          0.7,
          0.4,
          1.5,
          0.2,
          0.3,
          0.5,
          0.6,
          0.3,
          0.4,
          1,
          0.3,
          0.4,
          0.8,
          0.5,
          0.9,
          0.3,
          1.8,
          0.5,
          0.7,
          0.4,
          0.6,
          0.7,
          1.5,
          0.6,
          0.5,
          1,
          0.4,
          2,
          1.8,
          0.4,
          0.3,
          1.2,
          0.7,
          0.4,
          0.5,
          1.1,
          0.7,
          0.9,
          0.5,
          0.7,
          0.2,
          0.5,
          2.2,
          0.1,
          0.8,
          0.6,
          0.2,
          0.6,
          0.3,
          0.6,
          0.5,
          0.6,
          0.3,
          2,
          0.5,
          0.2,
          0.5,
          0.4,
          0.6,
          1.2,
          1,
          0.8,
          0.9,
          0.6,
          0.2,
          0.5,
          0.2,
          0.3,
          0.8,
          1.2,
          0.7,
          0.3,
          1.3,
          0.4,
          1.4,
          0.3,
          0.5,
          0.6,
          1.4,
          1.5,
          1,
          0.8,
          0.7,
          2.5,
          0.4,
          0.2,
          0.8,
          0.3,
          1,
          0.9,
          0.2,
          0.2,
          0.4,
          0.7,
          1.7,
          1.6,
          1.3,
          0.2,
          0.3,
          0.3,
          0.7,
          1.3,
          0.2,
          0.3,
          0.2,
          0.8,
          0.3,
          0.2,
          0.4,
          1.6,
          0.4,
          0.3,
          0.4,
          0.2,
          0.6,
          0.3,
          0.3,
          1.6,
          0.4,
          0.9,
          0.4,
          0.2,
          0.9,
          0.4,
          0.4,
          1.8,
          0.6,
          0.5,
          0.1,
          0.6,
          0.6,
          0.5,
          0.2,
          0.4,
          0.5,
          0.7,
          1.1,
          0.6,
          0.1,
          0.7,
          0.4,
          0.8,
          0.8,
          0.1,
          1,
          0.2,
          0.2,
          0.4,
          0.9,
          0.5,
          0.6,
          0.2,
          0.2,
          1.7,
          0.4,
          0.7,
          0.3,
          0.3,
          1.2,
          0.6,
          1.1,
          0.4,
          0.4,
          1.1,
          0.5,
          0.8,
          1,
          0.2,
          0.7,
          0.5,
          0.8,
          1.2,
          1.1,
          0.3,
          0.1,
          0.3,
          0.2,
          0.5,
          0.2,
          0.4,
          0.3,
          0.7,
          1.5,
          0.3,
          0.6
         ]
        },
        {
         "name": "TO",
         "type": "box",
         "y": [
          3.4,
          3.1,
          3.8,
          2.4,
          3.4,
          3.5,
          2.1,
          2.5,
          2.5,
          3.1,
          2.8,
          4.2,
          3.2,
          3.2,
          2.8,
          1.7,
          2.9,
          2.7,
          2.4,
          2.3,
          2.9,
          3.3,
          1.8,
          3.5,
          2.5,
          2.9,
          1.5,
          2.5,
          2.8,
          1.7,
          2.4,
          2.1,
          2.1,
          3.1,
          3.1,
          3.5,
          1.7,
          1.8,
          1.8,
          1.7,
          2.6,
          1.7,
          2.3,
          1.5,
          1.7,
          2.1,
          1.6,
          1.5,
          3.1,
          1.5,
          2.2,
          1.4,
          1.6,
          1.9,
          1.5,
          1.6,
          1.6,
          1.9,
          1.3,
          2.9,
          1.7,
          1.9,
          2.6,
          2.3,
          2.3,
          1.3,
          2.7,
          1.2,
          2.1,
          1.1,
          2.4,
          2.3,
          2.4,
          1.6,
          2.4,
          1.3,
          2.4,
          0.1,
          1.3,
          2.8,
          2.1,
          1.9,
          2.3,
          2.1,
          1.8,
          1.1,
          1.8,
          2.9,
          0.1,
          1.4,
          1.7,
          2.4,
          0.1,
          1.9,
          1.5,
          1.6,
          1.6,
          1.3,
          2.1,
          1.1,
          2.3,
          1.4,
          2.5,
          1.7,
          1.3,
          1.4,
          2.4,
          2.4,
          1.4,
          1.9,
          1.1,
          1.1,
          1.1,
          1.1,
          1.1,
          1.7,
          1.5,
          1.1,
          2.6,
          1.3,
          1.4,
          1.8,
          1.1,
          1.4,
          1.9,
          1.1,
          1.5,
          2.5,
          2.1,
          1.3,
          1.1,
          3.3,
          1.5,
          0.1,
          1.5,
          0.1,
          1.8,
          2.1,
          1.4,
          1.1,
          1.9,
          1.2,
          2.7,
          0.1,
          1.7,
          2.1,
          1.1,
          1.1,
          2.6,
          3.1,
          1.5,
          1.4,
          1.5,
          1.3,
          1.4,
          1.5,
          1.1,
          1.3,
          1.3,
          1.7,
          0.1,
          0.1,
          1.6,
          1.1,
          1.6,
          1.2,
          2.1,
          1.9,
          2.4,
          0.1,
          1.5,
          1.2,
          1.2,
          1.5,
          0.1,
          1.1,
          1.1,
          1.1,
          1.4,
          1.1,
          1.4,
          1.3,
          1.2,
          1.2,
          0.1,
          1.5,
          1.3,
          1.4,
          1.1,
          1.1,
          1.1,
          1.2,
          0.1,
          1.2,
          1.3,
          1.2,
          1.2,
          0.1,
          1.1,
          1.3,
          1.2
         ]
        }
       ],
       "layout": {
        "template": {
         "data": {
          "bar": [
           {
            "error_x": {
             "color": "#2a3f5f"
            },
            "error_y": {
             "color": "#2a3f5f"
            },
            "marker": {
             "line": {
              "color": "#E5ECF6",
              "width": 0.5
             },
             "pattern": {
              "fillmode": "overlay",
              "size": 10,
              "solidity": 0.2
             }
            },
            "type": "bar"
           }
          ],
          "barpolar": [
           {
            "marker": {
             "line": {
              "color": "#E5ECF6",
              "width": 0.5
             },
             "pattern": {
              "fillmode": "overlay",
              "size": 10,
              "solidity": 0.2
             }
            },
            "type": "barpolar"
           }
          ],
          "carpet": [
           {
            "aaxis": {
             "endlinecolor": "#2a3f5f",
             "gridcolor": "white",
             "linecolor": "white",
             "minorgridcolor": "white",
             "startlinecolor": "#2a3f5f"
            },
            "baxis": {
             "endlinecolor": "#2a3f5f",
             "gridcolor": "white",
             "linecolor": "white",
             "minorgridcolor": "white",
             "startlinecolor": "#2a3f5f"
            },
            "type": "carpet"
           }
          ],
          "choropleth": [
           {
            "colorbar": {
             "outlinewidth": 0,
             "ticks": ""
            },
            "type": "choropleth"
           }
          ],
          "contour": [
           {
            "colorbar": {
             "outlinewidth": 0,
             "ticks": ""
            },
            "colorscale": [
             [
              0,
              "#0d0887"
             ],
             [
              0.1111111111111111,
              "#46039f"
             ],
             [
              0.2222222222222222,
              "#7201a8"
             ],
             [
              0.3333333333333333,
              "#9c179e"
             ],
             [
              0.4444444444444444,
              "#bd3786"
             ],
             [
              0.5555555555555556,
              "#d8576b"
             ],
             [
              0.6666666666666666,
              "#ed7953"
             ],
             [
              0.7777777777777778,
              "#fb9f3a"
             ],
             [
              0.8888888888888888,
              "#fdca26"
             ],
             [
              1,
              "#f0f921"
             ]
            ],
            "type": "contour"
           }
          ],
          "contourcarpet": [
           {
            "colorbar": {
             "outlinewidth": 0,
             "ticks": ""
            },
            "type": "contourcarpet"
           }
          ],
          "heatmap": [
           {
            "colorbar": {
             "outlinewidth": 0,
             "ticks": ""
            },
            "colorscale": [
             [
              0,
              "#0d0887"
             ],
             [
              0.1111111111111111,
              "#46039f"
             ],
             [
              0.2222222222222222,
              "#7201a8"
             ],
             [
              0.3333333333333333,
              "#9c179e"
             ],
             [
              0.4444444444444444,
              "#bd3786"
             ],
             [
              0.5555555555555556,
              "#d8576b"
             ],
             [
              0.6666666666666666,
              "#ed7953"
             ],
             [
              0.7777777777777778,
              "#fb9f3a"
             ],
             [
              0.8888888888888888,
              "#fdca26"
             ],
             [
              1,
              "#f0f921"
             ]
            ],
            "type": "heatmap"
           }
          ],
          "heatmapgl": [
           {
            "colorbar": {
             "outlinewidth": 0,
             "ticks": ""
            },
            "colorscale": [
             [
              0,
              "#0d0887"
             ],
             [
              0.1111111111111111,
              "#46039f"
             ],
             [
              0.2222222222222222,
              "#7201a8"
             ],
             [
              0.3333333333333333,
              "#9c179e"
             ],
             [
              0.4444444444444444,
              "#bd3786"
             ],
             [
              0.5555555555555556,
              "#d8576b"
             ],
             [
              0.6666666666666666,
              "#ed7953"
             ],
             [
              0.7777777777777778,
              "#fb9f3a"
             ],
             [
              0.8888888888888888,
              "#fdca26"
             ],
             [
              1,
              "#f0f921"
             ]
            ],
            "type": "heatmapgl"
           }
          ],
          "histogram": [
           {
            "marker": {
             "pattern": {
              "fillmode": "overlay",
              "size": 10,
              "solidity": 0.2
             }
            },
            "type": "histogram"
           }
          ],
          "histogram2d": [
           {
            "colorbar": {
             "outlinewidth": 0,
             "ticks": ""
            },
            "colorscale": [
             [
              0,
              "#0d0887"
             ],
             [
              0.1111111111111111,
              "#46039f"
             ],
             [
              0.2222222222222222,
              "#7201a8"
             ],
             [
              0.3333333333333333,
              "#9c179e"
             ],
             [
              0.4444444444444444,
              "#bd3786"
             ],
             [
              0.5555555555555556,
              "#d8576b"
             ],
             [
              0.6666666666666666,
              "#ed7953"
             ],
             [
              0.7777777777777778,
              "#fb9f3a"
             ],
             [
              0.8888888888888888,
              "#fdca26"
             ],
             [
              1,
              "#f0f921"
             ]
            ],
            "type": "histogram2d"
           }
          ],
          "histogram2dcontour": [
           {
            "colorbar": {
             "outlinewidth": 0,
             "ticks": ""
            },
            "colorscale": [
             [
              0,
              "#0d0887"
             ],
             [
              0.1111111111111111,
              "#46039f"
             ],
             [
              0.2222222222222222,
              "#7201a8"
             ],
             [
              0.3333333333333333,
              "#9c179e"
             ],
             [
              0.4444444444444444,
              "#bd3786"
             ],
             [
              0.5555555555555556,
              "#d8576b"
             ],
             [
              0.6666666666666666,
              "#ed7953"
             ],
             [
              0.7777777777777778,
              "#fb9f3a"
             ],
             [
              0.8888888888888888,
              "#fdca26"
             ],
             [
              1,
              "#f0f921"
             ]
            ],
            "type": "histogram2dcontour"
           }
          ],
          "mesh3d": [
           {
            "colorbar": {
             "outlinewidth": 0,
             "ticks": ""
            },
            "type": "mesh3d"
           }
          ],
          "parcoords": [
           {
            "line": {
             "colorbar": {
              "outlinewidth": 0,
              "ticks": ""
             }
            },
            "type": "parcoords"
           }
          ],
          "pie": [
           {
            "automargin": true,
            "type": "pie"
           }
          ],
          "scatter": [
           {
            "fillpattern": {
             "fillmode": "overlay",
             "size": 10,
             "solidity": 0.2
            },
            "type": "scatter"
           }
          ],
          "scatter3d": [
           {
            "line": {
             "colorbar": {
              "outlinewidth": 0,
              "ticks": ""
             }
            },
            "marker": {
             "colorbar": {
              "outlinewidth": 0,
              "ticks": ""
             }
            },
            "type": "scatter3d"
           }
          ],
          "scattercarpet": [
           {
            "marker": {
             "colorbar": {
              "outlinewidth": 0,
              "ticks": ""
             }
            },
            "type": "scattercarpet"
           }
          ],
          "scattergeo": [
           {
            "marker": {
             "colorbar": {
              "outlinewidth": 0,
              "ticks": ""
             }
            },
            "type": "scattergeo"
           }
          ],
          "scattergl": [
           {
            "marker": {
             "colorbar": {
              "outlinewidth": 0,
              "ticks": ""
             }
            },
            "type": "scattergl"
           }
          ],
          "scattermapbox": [
           {
            "marker": {
             "colorbar": {
              "outlinewidth": 0,
              "ticks": ""
             }
            },
            "type": "scattermapbox"
           }
          ],
          "scatterpolar": [
           {
            "marker": {
             "colorbar": {
              "outlinewidth": 0,
              "ticks": ""
             }
            },
            "type": "scatterpolar"
           }
          ],
          "scatterpolargl": [
           {
            "marker": {
             "colorbar": {
              "outlinewidth": 0,
              "ticks": ""
             }
            },
            "type": "scatterpolargl"
           }
          ],
          "scatterternary": [
           {
            "marker": {
             "colorbar": {
              "outlinewidth": 0,
              "ticks": ""
             }
            },
            "type": "scatterternary"
           }
          ],
          "surface": [
           {
            "colorbar": {
             "outlinewidth": 0,
             "ticks": ""
            },
            "colorscale": [
             [
              0,
              "#0d0887"
             ],
             [
              0.1111111111111111,
              "#46039f"
             ],
             [
              0.2222222222222222,
              "#7201a8"
             ],
             [
              0.3333333333333333,
              "#9c179e"
             ],
             [
              0.4444444444444444,
              "#bd3786"
             ],
             [
              0.5555555555555556,
              "#d8576b"
             ],
             [
              0.6666666666666666,
              "#ed7953"
             ],
             [
              0.7777777777777778,
              "#fb9f3a"
             ],
             [
              0.8888888888888888,
              "#fdca26"
             ],
             [
              1,
              "#f0f921"
             ]
            ],
            "type": "surface"
           }
          ],
          "table": [
           {
            "cells": {
             "fill": {
              "color": "#EBF0F8"
             },
             "line": {
              "color": "white"
             }
            },
            "header": {
             "fill": {
              "color": "#C8D4E3"
             },
             "line": {
              "color": "white"
             }
            },
            "type": "table"
           }
          ]
         },
         "layout": {
          "annotationdefaults": {
           "arrowcolor": "#2a3f5f",
           "arrowhead": 0,
           "arrowwidth": 1
          },
          "autotypenumbers": "strict",
          "coloraxis": {
           "colorbar": {
            "outlinewidth": 0,
            "ticks": ""
           }
          },
          "colorscale": {
           "diverging": [
            [
             0,
             "#8e0152"
            ],
            [
             0.1,
             "#c51b7d"
            ],
            [
             0.2,
             "#de77ae"
            ],
            [
             0.3,
             "#f1b6da"
            ],
            [
             0.4,
             "#fde0ef"
            ],
            [
             0.5,
             "#f7f7f7"
            ],
            [
             0.6,
             "#e6f5d0"
            ],
            [
             0.7,
             "#b8e186"
            ],
            [
             0.8,
             "#7fbc41"
            ],
            [
             0.9,
             "#4d9221"
            ],
            [
             1,
             "#276419"
            ]
           ],
           "sequential": [
            [
             0,
             "#0d0887"
            ],
            [
             0.1111111111111111,
             "#46039f"
            ],
            [
             0.2222222222222222,
             "#7201a8"
            ],
            [
             0.3333333333333333,
             "#9c179e"
            ],
            [
             0.4444444444444444,
             "#bd3786"
            ],
            [
             0.5555555555555556,
             "#d8576b"
            ],
            [
             0.6666666666666666,
             "#ed7953"
            ],
            [
             0.7777777777777778,
             "#fb9f3a"
            ],
            [
             0.8888888888888888,
             "#fdca26"
            ],
            [
             1,
             "#f0f921"
            ]
           ],
           "sequentialminus": [
            [
             0,
             "#0d0887"
            ],
            [
             0.1111111111111111,
             "#46039f"
            ],
            [
             0.2222222222222222,
             "#7201a8"
            ],
            [
             0.3333333333333333,
             "#9c179e"
            ],
            [
             0.4444444444444444,
             "#bd3786"
            ],
            [
             0.5555555555555556,
             "#d8576b"
            ],
            [
             0.6666666666666666,
             "#ed7953"
            ],
            [
             0.7777777777777778,
             "#fb9f3a"
            ],
            [
             0.8888888888888888,
             "#fdca26"
            ],
            [
             1,
             "#f0f921"
            ]
           ]
          },
          "colorway": [
           "#636efa",
           "#EF553B",
           "#00cc96",
           "#ab63fa",
           "#FFA15A",
           "#19d3f3",
           "#FF6692",
           "#B6E880",
           "#FF97FF",
           "#FECB52"
          ],
          "font": {
           "color": "#2a3f5f"
          },
          "geo": {
           "bgcolor": "white",
           "lakecolor": "white",
           "landcolor": "#E5ECF6",
           "showlakes": true,
           "showland": true,
           "subunitcolor": "white"
          },
          "hoverlabel": {
           "align": "left"
          },
          "hovermode": "closest",
          "mapbox": {
           "style": "light"
          },
          "paper_bgcolor": "white",
          "plot_bgcolor": "#E5ECF6",
          "polar": {
           "angularaxis": {
            "gridcolor": "white",
            "linecolor": "white",
            "ticks": ""
           },
           "bgcolor": "#E5ECF6",
           "radialaxis": {
            "gridcolor": "white",
            "linecolor": "white",
            "ticks": ""
           }
          },
          "scene": {
           "xaxis": {
            "backgroundcolor": "#E5ECF6",
            "gridcolor": "white",
            "gridwidth": 2,
            "linecolor": "white",
            "showbackground": true,
            "ticks": "",
            "zerolinecolor": "white"
           },
           "yaxis": {
            "backgroundcolor": "#E5ECF6",
            "gridcolor": "white",
            "gridwidth": 2,
            "linecolor": "white",
            "showbackground": true,
            "ticks": "",
            "zerolinecolor": "white"
           },
           "zaxis": {
            "backgroundcolor": "#E5ECF6",
            "gridcolor": "white",
            "gridwidth": 2,
            "linecolor": "white",
            "showbackground": true,
            "ticks": "",
            "zerolinecolor": "white"
           }
          },
          "shapedefaults": {
           "line": {
            "color": "#2a3f5f"
           }
          },
          "ternary": {
           "aaxis": {
            "gridcolor": "white",
            "linecolor": "white",
            "ticks": ""
           },
           "baxis": {
            "gridcolor": "white",
            "linecolor": "white",
            "ticks": ""
           },
           "bgcolor": "#E5ECF6",
           "caxis": {
            "gridcolor": "white",
            "linecolor": "white",
            "ticks": ""
           }
          },
          "title": {
           "x": 0.05
          },
          "xaxis": {
           "automargin": true,
           "gridcolor": "white",
           "linecolor": "white",
           "ticks": "",
           "title": {
            "standoff": 15
           },
           "zerolinecolor": "white",
           "zerolinewidth": 2
          },
          "yaxis": {
           "automargin": true,
           "gridcolor": "white",
           "linecolor": "white",
           "ticks": "",
           "title": {
            "standoff": 15
           },
           "zerolinecolor": "white",
           "zerolinewidth": 2
          }
         }
        }
       }
      }
     },
     "metadata": {},
     "output_type": "display_data"
    }
   ],
   "source": [
    "fig = go.Figure()\n",
    "\n",
    "for col in df[['FG%','FT%', '3PM', 'PPG', 'REB', 'AST', 'STL', 'BLK', 'TO']]:\n",
    "  fig.add_trace(go.Box(y=df[col].values, name=df[col].name))\n",
    "  \n",
    "fig.show()"
   ]
  },
  {
   "cell_type": "code",
   "execution_count": 11,
   "metadata": {},
   "outputs": [
    {
     "data": {
      "application/vnd.plotly.v1+json": {
       "config": {
        "plotlyServerURL": "https://plot.ly"
       },
       "data": [
        {
         "alignmentgroup": "True",
         "bingroup": "x",
         "hovertemplate": "FG%=%{x}<br>count=%{y}<extra></extra>",
         "legendgroup": "",
         "marker": {
          "color": "#636efa",
          "pattern": {
           "shape": ""
          }
         },
         "name": "",
         "offsetgroup": "",
         "orientation": "v",
         "showlegend": false,
         "type": "histogram",
         "x": [
          0.473,
          0.585,
          0.491,
          0.524,
          0.614,
          0.518,
          0.559,
          0.483,
          0.469,
          0.46,
          0.469,
          0.432,
          0.604,
          0.52,
          0.468,
          0.53,
          0.438,
          0.49,
          0.479,
          0.484,
          0.432,
          0.535,
          0.495,
          0.427,
          0.472,
          0.501,
          0.462,
          0.465,
          0.544,
          0.483,
          0.531,
          0.462,
          0.471,
          0.47,
          0.462,
          0.45,
          0.532,
          0.406,
          0.573,
          0.519,
          0.495,
          0.499,
          0.472,
          0.535,
          0.66,
          0.483,
          0.492,
          0.461,
          0.573,
          0.539,
          0.471,
          0.637,
          0.454,
          0.628,
          0.486,
          0.482,
          0.44,
          0.462,
          0.621,
          0.455,
          0.58,
          0.445,
          0.477,
          0.492,
          0.459,
          0.482,
          0.479,
          0.485,
          0.44,
          0.471,
          0.457,
          0.44,
          0.509,
          0.46,
          0.477,
          0.621,
          0.514,
          0.454,
          0.463,
          0.456,
          0.446,
          0.451,
          0.44,
          0.482,
          0.548,
          0.641,
          0.48,
          0.422,
          0.597,
          0.434,
          0.64,
          0.429,
          0.455,
          0.527,
          0.642,
          0.484,
          0.473,
          0.484,
          0.465,
          0.662,
          0.482,
          0.44,
          0.514,
          0.435,
          0.52,
          0.463,
          0.482,
          0.487,
          0.434,
          0.463,
          0.729,
          0.738,
          0.575,
          0.476,
          0.502,
          0.457,
          0.56,
          0.617,
          0.422,
          0.445,
          0.459,
          0.529,
          0.457,
          0.442,
          0.477,
          0.703,
          0.445,
          0.42,
          0.446,
          0.466,
          0.477,
          0.409,
          0.489,
          0.64,
          0.482,
          0.493,
          0.434,
          0.435,
          0.431,
          0.485,
          0.526,
          0.448,
          0.435,
          0.514,
          0.477,
          0.569,
          0.434,
          0.461,
          0.431,
          0.444,
          0.525,
          0.575,
          0.493,
          0.461,
          0.479,
          0.452,
          0.472,
          0.504,
          0.558,
          0.55,
          0.471,
          0.429,
          0.453,
          0.42,
          0.44,
          0.436,
          0.444,
          0.443,
          0.442,
          0.639,
          0.426,
          0.457,
          0.414,
          0.417,
          0.496,
          0.468,
          0.552,
          0.513,
          0.453,
          0.656,
          0.444,
          0.457,
          0.537,
          0.484,
          0.46,
          0.481,
          0.457,
          0.488,
          0.524,
          0.468,
          0.472,
          0.542,
          0.446,
          0.447,
          0.447,
          0.443,
          0.436,
          0.642,
          0.467,
          0.472,
          0.441
         ],
         "xaxis": "x",
         "yaxis": "y"
        },
        {
         "alignmentgroup": "True",
         "bingroup": "x",
         "hovertemplate": "FT%=%{x}<br>count=%{y}<extra></extra>",
         "legendgroup": "",
         "marker": {
          "color": "#636efa",
          "pattern": {
           "shape": ""
          }
         },
         "name": "",
         "offsetgroup": "",
         "orientation": "v",
         "showlegend": false,
         "type": "histogram",
         "x": [
          0.802,
          0.819,
          0.792,
          0.88,
          0.671,
          0.871,
          0.802,
          0.862,
          0.836,
          0.823,
          0.918,
          0.877,
          0.725,
          0.846,
          0.866,
          0.793,
          0.871,
          0.873,
          0.791,
          0.839,
          0.918,
          0.758,
          0.907,
          0.857,
          0.759,
          0.873,
          0.858,
          0.888,
          0.713,
          0.884,
          0.743,
          0.809,
          0.8,
          0.788,
          0.731,
          0.865,
          0.82,
          0.874,
          0.726,
          0.88,
          0.737,
          0.748,
          0.877,
          0.778,
          0.642,
          0.845,
          0.855,
          0.888,
          0.714,
          0.742,
          0.841,
          0.735,
          0.827,
          0.781,
          0.863,
          0.817,
          0.849,
          0.824,
          0.555,
          0.85,
          0.776,
          0.837,
          0.78,
          0.812,
          0.845,
          0.877,
          0.795,
          0.818,
          0.861,
          0.803,
          0.829,
          0.903,
          0.821,
          0.801,
          0.847,
          0.7,
          0.647,
          0.836,
          0.824,
          0.773,
          0.843,
          0.814,
          0.905,
          0.859,
          0.796,
          0.704,
          0.77,
          0.871,
          0.631,
          0.889,
          0.575,
          0.807,
          0.866,
          0.759,
          0.709,
          0.848,
          0.736,
          0.854,
          0.761,
          0.577,
          0.726,
          0.833,
          0.713,
          0.842,
          0.798,
          0.785,
          0.867,
          0.843,
          0.901,
          0.814,
          0.675,
          0.535,
          0.729,
          0.802,
          0.777,
          0.765,
          0.632,
          0.785,
          0.851,
          0.782,
          0.664,
          0.72,
          0.818,
          0.885,
          0.738,
          0.563,
          0.839,
          0.751,
          0.86,
          0.85,
          0.796,
          0.821,
          0.812,
          0.459,
          0.821,
          0.806,
          0.812,
          0.847,
          0.706,
          0.893,
          0.834,
          0.711,
          0.759,
          0.74,
          0.798,
          0.427,
          0.827,
          0.861,
          0.846,
          0.668,
          0.722,
          0.604,
          0.624,
          0.711,
          0.861,
          0.74,
          0.835,
          0.732,
          0.755,
          0.816,
          0.798,
          0.792,
          0.798,
          0.817,
          0.71,
          0.76,
          0.77,
          0.826,
          0.785,
          0.608,
          0.746,
          0.732,
          0.829,
          0.855,
          0.704,
          0.73,
          0.728,
          0.806,
          0.651,
          0.743,
          0.855,
          0.829,
          0.711,
          0.821,
          0.729,
          0.79,
          0.829,
          0.751,
          0.759,
          0.75,
          0.914,
          0.688,
          0.844,
          0.794,
          0.889,
          0.766,
          0.885,
          0.694,
          0.65,
          0.709,
          0.733
         ],
         "xaxis": "x2",
         "yaxis": "y2"
        },
        {
         "alignmentgroup": "True",
         "bingroup": "x",
         "hovertemplate": "3PM=%{x}<br>count=%{y}<extra></extra>",
         "legendgroup": "",
         "marker": {
          "color": "#636efa",
          "pattern": {
           "shape": ""
          }
         },
         "name": "",
         "offsetgroup": "",
         "orientation": "v",
         "showlegend": false,
         "type": "histogram",
         "x": [
          2,
          1.1,
          4.1,
          1.4,
          0.6,
          1.3,
          0.4,
          3,
          2.9,
          2.5,
          4.8,
          3.4,
          0.4,
          2.1,
          3.3,
          1.7,
          2.8,
          2.2,
          1.7,
          2.7,
          3.1,
          2.1,
          3,
          3.6,
          2.5,
          2.2,
          2.9,
          3,
          0.4,
          3.1,
          0.2,
          2.2,
          1.7,
          1.5,
          1.6,
          1.9,
          1.6,
          2.9,
          0.4,
          1.9,
          2.2,
          1.3,
          2.9,
          1.5,
          0,
          1.4,
          0.8,
          2.7,
          0.1,
          1.1,
          2.5,
          0,
          2.4,
          0,
          1,
          1.4,
          2.6,
          2.2,
          0,
          2.3,
          0.1,
          2.6,
          1.4,
          1.3,
          2.5,
          1.5,
          1.1,
          2.9,
          2.6,
          1.7,
          2.9,
          3.1,
          1.9,
          2.6,
          2.2,
          0.1,
          0.5,
          2.7,
          1.9,
          2.3,
          2.7,
          2.8,
          3.4,
          2,
          0.5,
          0,
          2,
          2.6,
          0,
          3.1,
          0,
          2.4,
          2.6,
          0.9,
          0,
          1.8,
          1.9,
          1.2,
          2.1,
          0,
          1.6,
          1.3,
          0.7,
          2.2,
          1.1,
          1.5,
          1.7,
          1.7,
          3.4,
          2.1,
          0,
          0,
          0,
          1.7,
          1.3,
          0.9,
          0.7,
          0.5,
          2.4,
          2.6,
          1.4,
          0.3,
          2.5,
          2.2,
          1,
          0,
          2.9,
          1.9,
          2,
          1.7,
          1.9,
          1.5,
          0.9,
          0,
          2.6,
          1.8,
          1.9,
          1.7,
          1.9,
          2.2,
          0.9,
          0.8,
          2.2,
          1.5,
          1.2,
          0,
          1.8,
          1.7,
          1.9,
          1,
          1.3,
          0,
          0.4,
          1.7,
          0.7,
          1.4,
          1.3,
          1.3,
          0.3,
          0.3,
          1.8,
          2.4,
          1.8,
          1.8,
          1.2,
          1.7,
          1,
          1.4,
          1.8,
          0.3,
          1.6,
          0.8,
          2.4,
          1.7,
          0.8,
          1,
          0.9,
          1.3,
          0.8,
          0,
          1.3,
          1.4,
          1.3,
          2.7,
          1.8,
          1,
          1.4,
          1.1,
          0.6,
          2.2,
          2.7,
          0.4,
          1.9,
          1.3,
          2.6,
          1.8,
          1.7,
          0,
          0.8,
          1.6,
          1.8
         ],
         "xaxis": "x3",
         "yaxis": "y3"
        },
        {
         "alignmentgroup": "True",
         "bingroup": "x",
         "hovertemplate": "PPG=%{x}<br>count=%{y}<extra></extra>",
         "legendgroup": "",
         "marker": {
          "color": "#636efa",
          "pattern": {
           "shape": ""
          }
         },
         "name": "",
         "offsetgroup": "",
         "orientation": "v",
         "showlegend": false,
         "type": "histogram",
         "x": [
          24.1,
          26.7,
          34.4,
          29.9,
          31.1,
          29.2,
          25.2,
          21.1,
          27.9,
          26.2,
          26.4,
          28.1,
          19.7,
          25.7,
          26.2,
          17.4,
          20.4,
          27.8,
          19.1,
          27.7,
          24.9,
          25.2,
          24.6,
          23.2,
          25.1,
          21.4,
          23.9,
          22.5,
          19.4,
          24.5,
          20.1,
          19.5,
          20.7,
          25.8,
          23.1,
          23.2,
          19.1,
          17.3,
          16.1,
          21.9,
          24.4,
          17.4,
          21.4,
          17.1,
          14.3,
          19.6,
          20.7,
          15.2,
          22.8,
          21.1,
          20.4,
          14.9,
          16.1,
          12.8,
          20.1,
          17.1,
          18.7,
          19.8,
          12.5,
          19.3,
          16.7,
          18.1,
          20.3,
          20.1,
          21.6,
          17.1,
          16.1,
          17.5,
          25.6,
          11.7,
          17.5,
          20.2,
          18.9,
          19.4,
          13.5,
          8.7,
          12.2,
          14.6,
          14.1,
          21.6,
          18.1,
          18.3,
          21.4,
          15.7,
          14.2,
          12.6,
          14.8,
          20.1,
          11.5,
          17.1,
          12.2,
          20.5,
          13.7,
          16.2,
          12.3,
          17.8,
          14.2,
          10.4,
          13.6,
          9.5,
          21.2,
          9.6,
          8.2,
          17.7,
          14.2,
          8.7,
          16.4,
          20.1,
          17.2,
          19.7,
          10.3,
          10.1,
          10.2,
          12.2,
          14.1,
          9.1,
          15.3,
          10.6,
          16.3,
          11.9,
          10.6,
          12.1,
          14.7,
          11.6,
          11.9,
          12.1,
          14.3,
          12.1,
          14.5,
          12.9,
          11.9,
          15.7,
          11.9,
          6.8,
          18.8,
          8.3,
          15.9,
          15.1,
          12.4,
          11.4,
          9.6,
          11.8,
          18.4,
          14.8,
          10.1,
          6.6,
          11.2,
          10.1,
          17.4,
          14.8,
          13.1,
          9.2,
          10.6,
          14.6,
          9.8,
          12.9,
          6.7,
          11.4,
          13.4,
          9.2,
          10.3,
          14.5,
          16.7,
          9.2,
          10.2,
          16.3,
          12.4,
          16.8,
          14.2,
          9.4,
          12.2,
          9.8,
          11.7,
          9.1,
          7.5,
          10.4,
          9.7,
          12.9,
          7.1,
          9.8,
          11.5,
          10.3,
          12.9,
          15.1,
          7.9,
          11.5,
          10.3,
          9.7,
          9.2,
          12.1,
          10.8,
          7.6,
          10.1,
          10.3,
          12.5,
          10.4,
          10.4,
          10.1,
          9.5,
          11.1,
          9.5
         ],
         "xaxis": "x4",
         "yaxis": "y4"
        },
        {
         "alignmentgroup": "True",
         "bingroup": "x",
         "hovertemplate": "REB=%{x}<br>count=%{y}<extra></extra>",
         "legendgroup": "",
         "marker": {
          "color": "#636efa",
          "pattern": {
           "shape": ""
          }
         },
         "name": "",
         "offsetgroup": "",
         "orientation": "v",
         "showlegend": false,
         "type": "histogram",
         "x": [
          11.1,
          12.1,
          9.3,
          5.1,
          11.1,
          10.1,
          12.1,
          3.9,
          9.1,
          5.5,
          4.5,
          2.9,
          13.1,
          6.4,
          4.4,
          8.1,
          6.1,
          4.5,
          8.3,
          3.7,
          4.5,
          7.2,
          4.9,
          5.7,
          4.2,
          9.5,
          3.4,
          5.1,
          9.9,
          8.4,
          10.1,
          5.2,
          6.2,
          5.9,
          7.4,
          4.7,
          4.4,
          3.7,
          9.2,
          5.8,
          6.1,
          9.1,
          4.5,
          7.1,
          12.1,
          5.4,
          5.4,
          4.3,
          6.2,
          7.5,
          4.1,
          9.9,
          4.1,
          10.1,
          3.7,
          10.1,
          4.6,
          6.9,
          9.8,
          2.6,
          10.1,
          4.4,
          8.5,
          4.8,
          4.5,
          6.1,
          7.4,
          6.5,
          3.3,
          4.9,
          3.1,
          5.3,
          3.8,
          3.9,
          5.3,
          9.1,
          10.1,
          5.4,
          8.4,
          6.9,
          4.6,
          3.9,
          3.1,
          4.1,
          10.1,
          9.7,
          4.1,
          2.9,
          10.1,
          3.5,
          9.1,
          4.9,
          3.9,
          5.1,
          10.1,
          6.7,
          5.9,
          3.8,
          3.4,
          8.7,
          6.4,
          3.4,
          6.9,
          3.5,
          7.5,
          3.8,
          4.4,
          2.9,
          3.2,
          3.9,
          6.8,
          7.9,
          7.2,
          2.9,
          8.3,
          7.9,
          6.6,
          7.6,
          3.3,
          3.7,
          6.6,
          7.2,
          4.5,
          2.8,
          6.5,
          7.6,
          4.2,
          3.1,
          2.8,
          3.4,
          4.1,
          3.3,
          3.8,
          9.1,
          3.4,
          5.6,
          4.6,
          3.1,
          5.5,
          3.3,
          5.1,
          6.2,
          3.7,
          5.2,
          2.6,
          6.6,
          3.9,
          2.5,
          3.4,
          5.9,
          7.7,
          9.9,
          7.2,
          4.7,
          3.2,
          3.6,
          2.5,
          3.5,
          7.2,
          2.8,
          6.3,
          2.5,
          4.7,
          3.5,
          4.9,
          4.9,
          6.8,
          4.3,
          3.9,
          5.2,
          3.7,
          7.1,
          3.9,
          3.4,
          5.1,
          5.2,
          5.8,
          4.8,
          5.1,
          8.1,
          3.9,
          4.1,
          7.6,
          3.4,
          3.1,
          4.3,
          4.1,
          4.6,
          5.7,
          3.2,
          3.1,
          7.1,
          1.9,
          4.9,
          2.5,
          5.3,
          2.9,
          5.5,
          4.6,
          3.6,
          2.5
         ],
         "xaxis": "x5",
         "yaxis": "y5"
        },
        {
         "alignmentgroup": "True",
         "bingroup": "x",
         "hovertemplate": "AST=%{x}<br>count=%{y}<extra></extra>",
         "legendgroup": "",
         "marker": {
          "color": "#636efa",
          "pattern": {
           "shape": ""
          }
         },
         "name": "",
         "offsetgroup": "",
         "orientation": "v",
         "showlegend": false,
         "type": "histogram",
         "x": [
          4.4,
          9.1,
          9.9,
          6.5,
          6.7,
          4.1,
          3.6,
          11,
          5.1,
          5.2,
          5.3,
          10,
          7.9,
          4.8,
          5.4,
          2.6,
          10,
          5.5,
          6.1,
          7.1,
          7.1,
          8.2,
          5.2,
          8.6,
          5.5,
          3.3,
          5.8,
          3.4,
          5.4,
          1.9,
          3.9,
          6.5,
          1.7,
          8.2,
          5.7,
          7.8,
          4.5,
          7.6,
          3.4,
          3.4,
          3.5,
          3.4,
          4.4,
          1.3,
          1.4,
          3.9,
          5.1,
          4.9,
          5.1,
          3.9,
          6.3,
          2.2,
          3.2,
          2.1,
          3.8,
          3.3,
          6.8,
          3.2,
          2.1,
          7.1,
          1.6,
          2.5,
          3.9,
          4.6,
          4.1,
          2.9,
          6.1,
          1.4,
          2.9,
          1.3,
          6.1,
          4.3,
          4.2,
          4.1,
          5.1,
          2.4,
          3.6,
          1.6,
          1.5,
          4.1,
          4.9,
          4.1,
          4.9,
          5.1,
          2.1,
          0.1,
          2.1,
          5.7,
          1.1,
          3.2,
          2.7,
          3.7,
          1.7,
          2.5,
          1.3,
          2.1,
          1.4,
          2.5,
          3.5,
          1.1,
          3.8,
          6.5,
          6.2,
          4.5,
          1.2,
          3.5,
          4.7,
          4.9,
          2.1,
          2.5,
          1.4,
          1.5,
          1.3,
          6.8,
          1.4,
          3.9,
          3.3,
          1.3,
          5.2,
          2.8,
          4.2,
          3.2,
          2.2,
          6.1,
          3.3,
          1.8,
          2.9,
          4.7,
          4.5,
          3.7,
          1.5,
          5.8,
          2.6,
          0.1,
          1.7,
          2.5,
          2.2,
          5.9,
          2.1,
          2.4,
          3.4,
          1.2,
          4.6,
          1.3,
          4.7,
          5.9,
          1.7,
          2.3,
          4.3,
          5.4,
          2.1,
          0.1,
          2.2,
          1.9,
          5.5,
          1.4,
          2.4,
          1.7,
          1.1,
          5.3,
          1.1,
          1.6,
          2.6,
          2.4,
          2.1,
          1.3,
          3.2,
          1.8,
          4.3,
          1.1,
          4.2,
          1.2,
          3.4,
          4.4,
          0.1,
          2.1,
          1.3,
          2.7,
          3.5,
          0.1,
          3.1,
          1.4,
          1.3,
          2.4,
          2.1,
          3.2,
          1.4,
          1.5,
          1.5,
          2.6,
          2.5,
          2.2,
          2.4,
          2.1,
          2.5,
          2.4,
          2.7,
          1.3,
          1.5,
          2.3,
          2.9
         ],
         "xaxis": "x6",
         "yaxis": "y6"
        },
        {
         "alignmentgroup": "True",
         "bingroup": "x",
         "hovertemplate": "STL=%{x}<br>count=%{y}<extra></extra>",
         "legendgroup": "",
         "marker": {
          "color": "#636efa",
          "pattern": {
           "shape": ""
          }
         },
         "name": "",
         "offsetgroup": "",
         "orientation": "v",
         "showlegend": false,
         "type": "histogram",
         "x": [
          1.4,
          1.4,
          1.4,
          1.9,
          1.2,
          1,
          1.2,
          1.4,
          1.1,
          1.4,
          0.8,
          1.2,
          0.9,
          0.8,
          1.6,
          0.7,
          1.1,
          1,
          1.3,
          0.9,
          0.9,
          1.1,
          1.2,
          1.6,
          1.7,
          0.7,
          0.9,
          1.5,
          1.2,
          0.8,
          1.2,
          1.4,
          1.1,
          0.9,
          1,
          0.9,
          1.1,
          1.4,
          0.9,
          1.2,
          1.1,
          1.2,
          1,
          0.5,
          0.8,
          1.2,
          1.3,
          0.9,
          1.1,
          0.8,
          1,
          0.7,
          1.1,
          0.6,
          1.1,
          0.7,
          1.1,
          0.9,
          0.8,
          1.1,
          0.7,
          1,
          0.5,
          0.8,
          0.9,
          1,
          0.8,
          0.6,
          0.7,
          0.5,
          1,
          0.7,
          1,
          1.1,
          1,
          1.1,
          1,
          1,
          0.8,
          0.5,
          0.9,
          0.8,
          0.6,
          0.8,
          0.4,
          0.9,
          1.5,
          1.1,
          0.6,
          1.1,
          0.9,
          0.9,
          1,
          0.8,
          0.4,
          0.7,
          0.8,
          1.4,
          1.5,
          0.4,
          0.6,
          1.1,
          1.1,
          1,
          0.6,
          1.6,
          0.8,
          0.8,
          0.6,
          0.8,
          0.7,
          0.8,
          0.3,
          1.2,
          0.7,
          1,
          0.8,
          0.7,
          0.6,
          1.2,
          1.2,
          1.5,
          1,
          1.1,
          0.8,
          0.6,
          1,
          1.6,
          0.6,
          0.6,
          0.9,
          1,
          1,
          1,
          0.8,
          0.5,
          0.8,
          0.8,
          1.1,
          0.8,
          0.8,
          0.7,
          0.8,
          0.7,
          1,
          1.1,
          0.9,
          1.3,
          0.5,
          1.2,
          0.6,
          1,
          1.2,
          0.8,
          1,
          1.1,
          1.3,
          0.9,
          0.5,
          1,
          1,
          1.2,
          0.7,
          1.4,
          1.1,
          1.2,
          1,
          0.7,
          1,
          0.4,
          1,
          1.3,
          0.8,
          1,
          1,
          0.9,
          0.6,
          0.8,
          1.5,
          0.3,
          0.7,
          0.9,
          0.4,
          0.7,
          1.3,
          1,
          0.9,
          0.7,
          0.5,
          0.8,
          0.6,
          1.2,
          1.1,
          0.9,
          0.6,
          0.8,
          0.9,
          0.6,
          0.7,
          1,
          0.9
         ],
         "xaxis": "x7",
         "yaxis": "y7"
        },
        {
         "alignmentgroup": "True",
         "bingroup": "x",
         "hovertemplate": "BLK=%{x}<br>count=%{y}<extra></extra>",
         "legendgroup": "",
         "marker": {
          "color": "#636efa",
          "pattern": {
           "shape": ""
          }
         },
         "name": "",
         "offsetgroup": "",
         "orientation": "v",
         "showlegend": false,
         "type": "histogram",
         "x": [
          3.9,
          0.9,
          0.5,
          0.9,
          1.1,
          1.5,
          2.3,
          0.7,
          0.7,
          0.7,
          0.4,
          0.2,
          0.6,
          1.2,
          0.4,
          2.3,
          0.7,
          0.4,
          1.5,
          0.2,
          0.3,
          0.5,
          0.6,
          0.3,
          0.4,
          1,
          0.3,
          0.4,
          0.8,
          0.5,
          0.9,
          0.3,
          1.8,
          0.5,
          0.7,
          0.4,
          0.6,
          0.7,
          1.5,
          0.6,
          0.5,
          1,
          0.4,
          2,
          1.8,
          0.4,
          0.3,
          1.2,
          0.7,
          0.4,
          0.5,
          1.1,
          0.7,
          0.9,
          0.5,
          0.7,
          0.2,
          0.5,
          2.2,
          0.1,
          0.8,
          0.6,
          0.2,
          0.6,
          0.3,
          0.6,
          0.5,
          0.6,
          0.3,
          2,
          0.5,
          0.2,
          0.5,
          0.4,
          0.6,
          1.2,
          1,
          0.8,
          0.9,
          0.6,
          0.2,
          0.5,
          0.2,
          0.3,
          0.8,
          1.2,
          0.7,
          0.3,
          1.3,
          0.4,
          1.4,
          0.3,
          0.5,
          0.6,
          1.4,
          1.5,
          1,
          0.8,
          0.7,
          2.5,
          0.4,
          0.2,
          0.8,
          0.3,
          1,
          0.9,
          0.2,
          0.2,
          0.4,
          0.7,
          1.7,
          1.6,
          1.3,
          0.2,
          0.3,
          0.3,
          0.7,
          1.3,
          0.2,
          0.3,
          0.2,
          0.8,
          0.3,
          0.2,
          0.4,
          1.6,
          0.4,
          0.3,
          0.4,
          0.2,
          0.6,
          0.3,
          0.3,
          1.6,
          0.4,
          0.9,
          0.4,
          0.2,
          0.9,
          0.4,
          0.4,
          1.8,
          0.6,
          0.5,
          0.1,
          0.6,
          0.6,
          0.5,
          0.2,
          0.4,
          0.5,
          0.7,
          1.1,
          0.6,
          0.1,
          0.7,
          0.4,
          0.8,
          0.8,
          0.1,
          1,
          0.2,
          0.2,
          0.4,
          0.9,
          0.5,
          0.6,
          0.2,
          0.2,
          1.7,
          0.4,
          0.7,
          0.3,
          0.3,
          1.2,
          0.6,
          1.1,
          0.4,
          0.4,
          1.1,
          0.5,
          0.8,
          1,
          0.2,
          0.7,
          0.5,
          0.8,
          1.2,
          1.1,
          0.3,
          0.1,
          0.3,
          0.2,
          0.5,
          0.2,
          0.4,
          0.3,
          0.7,
          1.5,
          0.3,
          0.6
         ],
         "xaxis": "x8",
         "yaxis": "y8"
        },
        {
         "alignmentgroup": "True",
         "bingroup": "x",
         "hovertemplate": "TO=%{x}<br>count=%{y}<extra></extra>",
         "legendgroup": "",
         "marker": {
          "color": "#636efa",
          "pattern": {
           "shape": ""
          }
         },
         "name": "",
         "offsetgroup": "",
         "orientation": "v",
         "showlegend": false,
         "type": "histogram",
         "x": [
          3.4,
          3.1,
          3.8,
          2.4,
          3.4,
          3.5,
          2.1,
          2.5,
          2.5,
          3.1,
          2.8,
          4.2,
          3.2,
          3.2,
          2.8,
          1.7,
          2.9,
          2.7,
          2.4,
          2.3,
          2.9,
          3.3,
          1.8,
          3.5,
          2.5,
          2.9,
          1.5,
          2.5,
          2.8,
          1.7,
          2.4,
          2.1,
          2.1,
          3.1,
          3.1,
          3.5,
          1.7,
          1.8,
          1.8,
          1.7,
          2.6,
          1.7,
          2.3,
          1.5,
          1.7,
          2.1,
          1.6,
          1.5,
          3.1,
          1.5,
          2.2,
          1.4,
          1.6,
          1.9,
          1.5,
          1.6,
          1.6,
          1.9,
          1.3,
          2.9,
          1.7,
          1.9,
          2.6,
          2.3,
          2.3,
          1.3,
          2.7,
          1.2,
          2.1,
          1.1,
          2.4,
          2.3,
          2.4,
          1.6,
          2.4,
          1.3,
          2.4,
          0.1,
          1.3,
          2.8,
          2.1,
          1.9,
          2.3,
          2.1,
          1.8,
          1.1,
          1.8,
          2.9,
          0.1,
          1.4,
          1.7,
          2.4,
          0.1,
          1.9,
          1.5,
          1.6,
          1.6,
          1.3,
          2.1,
          1.1,
          2.3,
          1.4,
          2.5,
          1.7,
          1.3,
          1.4,
          2.4,
          2.4,
          1.4,
          1.9,
          1.1,
          1.1,
          1.1,
          1.1,
          1.1,
          1.7,
          1.5,
          1.1,
          2.6,
          1.3,
          1.4,
          1.8,
          1.1,
          1.4,
          1.9,
          1.1,
          1.5,
          2.5,
          2.1,
          1.3,
          1.1,
          3.3,
          1.5,
          0.1,
          1.5,
          0.1,
          1.8,
          2.1,
          1.4,
          1.1,
          1.9,
          1.2,
          2.7,
          0.1,
          1.7,
          2.1,
          1.1,
          1.1,
          2.6,
          3.1,
          1.5,
          1.4,
          1.5,
          1.3,
          1.4,
          1.5,
          1.1,
          1.3,
          1.3,
          1.7,
          0.1,
          0.1,
          1.6,
          1.1,
          1.6,
          1.2,
          2.1,
          1.9,
          2.4,
          0.1,
          1.5,
          1.2,
          1.2,
          1.5,
          0.1,
          1.1,
          1.1,
          1.1,
          1.4,
          1.1,
          1.4,
          1.3,
          1.2,
          1.2,
          0.1,
          1.5,
          1.3,
          1.4,
          1.1,
          1.1,
          1.1,
          1.2,
          0.1,
          1.2,
          1.3,
          1.2,
          1.2,
          0.1,
          1.1,
          1.3,
          1.2
         ],
         "xaxis": "x9",
         "yaxis": "y9"
        }
       ],
       "layout": {
        "annotations": [
         {
          "font": {
           "size": 16
          },
          "showarrow": false,
          "text": "FG%",
          "x": 0.14444444444444446,
          "xanchor": "center",
          "xref": "paper",
          "y": 1,
          "yanchor": "bottom",
          "yref": "paper"
         },
         {
          "font": {
           "size": 16
          },
          "showarrow": false,
          "text": "FT%",
          "x": 0.5,
          "xanchor": "center",
          "xref": "paper",
          "y": 1,
          "yanchor": "bottom",
          "yref": "paper"
         },
         {
          "font": {
           "size": 16
          },
          "showarrow": false,
          "text": "3PM",
          "x": 0.8555555555555556,
          "xanchor": "center",
          "xref": "paper",
          "y": 1,
          "yanchor": "bottom",
          "yref": "paper"
         },
         {
          "font": {
           "size": 16
          },
          "showarrow": false,
          "text": "PPG",
          "x": 0.14444444444444446,
          "xanchor": "center",
          "xref": "paper",
          "y": 0.6111111111111112,
          "yanchor": "bottom",
          "yref": "paper"
         },
         {
          "font": {
           "size": 16
          },
          "showarrow": false,
          "text": "REB",
          "x": 0.5,
          "xanchor": "center",
          "xref": "paper",
          "y": 0.6111111111111112,
          "yanchor": "bottom",
          "yref": "paper"
         },
         {
          "font": {
           "size": 16
          },
          "showarrow": false,
          "text": "AST",
          "x": 0.8555555555555556,
          "xanchor": "center",
          "xref": "paper",
          "y": 0.6111111111111112,
          "yanchor": "bottom",
          "yref": "paper"
         },
         {
          "font": {
           "size": 16
          },
          "showarrow": false,
          "text": "STL",
          "x": 0.14444444444444446,
          "xanchor": "center",
          "xref": "paper",
          "y": 0.22222222222222224,
          "yanchor": "bottom",
          "yref": "paper"
         },
         {
          "font": {
           "size": 16
          },
          "showarrow": false,
          "text": "BLK",
          "x": 0.5,
          "xanchor": "center",
          "xref": "paper",
          "y": 0.22222222222222224,
          "yanchor": "bottom",
          "yref": "paper"
         },
         {
          "font": {
           "size": 16
          },
          "showarrow": false,
          "text": "TO",
          "x": 0.8555555555555556,
          "xanchor": "center",
          "xref": "paper",
          "y": 0.22222222222222224,
          "yanchor": "bottom",
          "yref": "paper"
         }
        ],
        "showlegend": false,
        "template": {
         "data": {
          "bar": [
           {
            "error_x": {
             "color": "#2a3f5f"
            },
            "error_y": {
             "color": "#2a3f5f"
            },
            "marker": {
             "line": {
              "color": "#E5ECF6",
              "width": 0.5
             },
             "pattern": {
              "fillmode": "overlay",
              "size": 10,
              "solidity": 0.2
             }
            },
            "type": "bar"
           }
          ],
          "barpolar": [
           {
            "marker": {
             "line": {
              "color": "#E5ECF6",
              "width": 0.5
             },
             "pattern": {
              "fillmode": "overlay",
              "size": 10,
              "solidity": 0.2
             }
            },
            "type": "barpolar"
           }
          ],
          "carpet": [
           {
            "aaxis": {
             "endlinecolor": "#2a3f5f",
             "gridcolor": "white",
             "linecolor": "white",
             "minorgridcolor": "white",
             "startlinecolor": "#2a3f5f"
            },
            "baxis": {
             "endlinecolor": "#2a3f5f",
             "gridcolor": "white",
             "linecolor": "white",
             "minorgridcolor": "white",
             "startlinecolor": "#2a3f5f"
            },
            "type": "carpet"
           }
          ],
          "choropleth": [
           {
            "colorbar": {
             "outlinewidth": 0,
             "ticks": ""
            },
            "type": "choropleth"
           }
          ],
          "contour": [
           {
            "colorbar": {
             "outlinewidth": 0,
             "ticks": ""
            },
            "colorscale": [
             [
              0,
              "#0d0887"
             ],
             [
              0.1111111111111111,
              "#46039f"
             ],
             [
              0.2222222222222222,
              "#7201a8"
             ],
             [
              0.3333333333333333,
              "#9c179e"
             ],
             [
              0.4444444444444444,
              "#bd3786"
             ],
             [
              0.5555555555555556,
              "#d8576b"
             ],
             [
              0.6666666666666666,
              "#ed7953"
             ],
             [
              0.7777777777777778,
              "#fb9f3a"
             ],
             [
              0.8888888888888888,
              "#fdca26"
             ],
             [
              1,
              "#f0f921"
             ]
            ],
            "type": "contour"
           }
          ],
          "contourcarpet": [
           {
            "colorbar": {
             "outlinewidth": 0,
             "ticks": ""
            },
            "type": "contourcarpet"
           }
          ],
          "heatmap": [
           {
            "colorbar": {
             "outlinewidth": 0,
             "ticks": ""
            },
            "colorscale": [
             [
              0,
              "#0d0887"
             ],
             [
              0.1111111111111111,
              "#46039f"
             ],
             [
              0.2222222222222222,
              "#7201a8"
             ],
             [
              0.3333333333333333,
              "#9c179e"
             ],
             [
              0.4444444444444444,
              "#bd3786"
             ],
             [
              0.5555555555555556,
              "#d8576b"
             ],
             [
              0.6666666666666666,
              "#ed7953"
             ],
             [
              0.7777777777777778,
              "#fb9f3a"
             ],
             [
              0.8888888888888888,
              "#fdca26"
             ],
             [
              1,
              "#f0f921"
             ]
            ],
            "type": "heatmap"
           }
          ],
          "heatmapgl": [
           {
            "colorbar": {
             "outlinewidth": 0,
             "ticks": ""
            },
            "colorscale": [
             [
              0,
              "#0d0887"
             ],
             [
              0.1111111111111111,
              "#46039f"
             ],
             [
              0.2222222222222222,
              "#7201a8"
             ],
             [
              0.3333333333333333,
              "#9c179e"
             ],
             [
              0.4444444444444444,
              "#bd3786"
             ],
             [
              0.5555555555555556,
              "#d8576b"
             ],
             [
              0.6666666666666666,
              "#ed7953"
             ],
             [
              0.7777777777777778,
              "#fb9f3a"
             ],
             [
              0.8888888888888888,
              "#fdca26"
             ],
             [
              1,
              "#f0f921"
             ]
            ],
            "type": "heatmapgl"
           }
          ],
          "histogram": [
           {
            "marker": {
             "pattern": {
              "fillmode": "overlay",
              "size": 10,
              "solidity": 0.2
             }
            },
            "type": "histogram"
           }
          ],
          "histogram2d": [
           {
            "colorbar": {
             "outlinewidth": 0,
             "ticks": ""
            },
            "colorscale": [
             [
              0,
              "#0d0887"
             ],
             [
              0.1111111111111111,
              "#46039f"
             ],
             [
              0.2222222222222222,
              "#7201a8"
             ],
             [
              0.3333333333333333,
              "#9c179e"
             ],
             [
              0.4444444444444444,
              "#bd3786"
             ],
             [
              0.5555555555555556,
              "#d8576b"
             ],
             [
              0.6666666666666666,
              "#ed7953"
             ],
             [
              0.7777777777777778,
              "#fb9f3a"
             ],
             [
              0.8888888888888888,
              "#fdca26"
             ],
             [
              1,
              "#f0f921"
             ]
            ],
            "type": "histogram2d"
           }
          ],
          "histogram2dcontour": [
           {
            "colorbar": {
             "outlinewidth": 0,
             "ticks": ""
            },
            "colorscale": [
             [
              0,
              "#0d0887"
             ],
             [
              0.1111111111111111,
              "#46039f"
             ],
             [
              0.2222222222222222,
              "#7201a8"
             ],
             [
              0.3333333333333333,
              "#9c179e"
             ],
             [
              0.4444444444444444,
              "#bd3786"
             ],
             [
              0.5555555555555556,
              "#d8576b"
             ],
             [
              0.6666666666666666,
              "#ed7953"
             ],
             [
              0.7777777777777778,
              "#fb9f3a"
             ],
             [
              0.8888888888888888,
              "#fdca26"
             ],
             [
              1,
              "#f0f921"
             ]
            ],
            "type": "histogram2dcontour"
           }
          ],
          "mesh3d": [
           {
            "colorbar": {
             "outlinewidth": 0,
             "ticks": ""
            },
            "type": "mesh3d"
           }
          ],
          "parcoords": [
           {
            "line": {
             "colorbar": {
              "outlinewidth": 0,
              "ticks": ""
             }
            },
            "type": "parcoords"
           }
          ],
          "pie": [
           {
            "automargin": true,
            "type": "pie"
           }
          ],
          "scatter": [
           {
            "fillpattern": {
             "fillmode": "overlay",
             "size": 10,
             "solidity": 0.2
            },
            "type": "scatter"
           }
          ],
          "scatter3d": [
           {
            "line": {
             "colorbar": {
              "outlinewidth": 0,
              "ticks": ""
             }
            },
            "marker": {
             "colorbar": {
              "outlinewidth": 0,
              "ticks": ""
             }
            },
            "type": "scatter3d"
           }
          ],
          "scattercarpet": [
           {
            "marker": {
             "colorbar": {
              "outlinewidth": 0,
              "ticks": ""
             }
            },
            "type": "scattercarpet"
           }
          ],
          "scattergeo": [
           {
            "marker": {
             "colorbar": {
              "outlinewidth": 0,
              "ticks": ""
             }
            },
            "type": "scattergeo"
           }
          ],
          "scattergl": [
           {
            "marker": {
             "colorbar": {
              "outlinewidth": 0,
              "ticks": ""
             }
            },
            "type": "scattergl"
           }
          ],
          "scattermapbox": [
           {
            "marker": {
             "colorbar": {
              "outlinewidth": 0,
              "ticks": ""
             }
            },
            "type": "scattermapbox"
           }
          ],
          "scatterpolar": [
           {
            "marker": {
             "colorbar": {
              "outlinewidth": 0,
              "ticks": ""
             }
            },
            "type": "scatterpolar"
           }
          ],
          "scatterpolargl": [
           {
            "marker": {
             "colorbar": {
              "outlinewidth": 0,
              "ticks": ""
             }
            },
            "type": "scatterpolargl"
           }
          ],
          "scatterternary": [
           {
            "marker": {
             "colorbar": {
              "outlinewidth": 0,
              "ticks": ""
             }
            },
            "type": "scatterternary"
           }
          ],
          "surface": [
           {
            "colorbar": {
             "outlinewidth": 0,
             "ticks": ""
            },
            "colorscale": [
             [
              0,
              "#0d0887"
             ],
             [
              0.1111111111111111,
              "#46039f"
             ],
             [
              0.2222222222222222,
              "#7201a8"
             ],
             [
              0.3333333333333333,
              "#9c179e"
             ],
             [
              0.4444444444444444,
              "#bd3786"
             ],
             [
              0.5555555555555556,
              "#d8576b"
             ],
             [
              0.6666666666666666,
              "#ed7953"
             ],
             [
              0.7777777777777778,
              "#fb9f3a"
             ],
             [
              0.8888888888888888,
              "#fdca26"
             ],
             [
              1,
              "#f0f921"
             ]
            ],
            "type": "surface"
           }
          ],
          "table": [
           {
            "cells": {
             "fill": {
              "color": "#EBF0F8"
             },
             "line": {
              "color": "white"
             }
            },
            "header": {
             "fill": {
              "color": "#C8D4E3"
             },
             "line": {
              "color": "white"
             }
            },
            "type": "table"
           }
          ]
         },
         "layout": {
          "annotationdefaults": {
           "arrowcolor": "#2a3f5f",
           "arrowhead": 0,
           "arrowwidth": 1
          },
          "autotypenumbers": "strict",
          "coloraxis": {
           "colorbar": {
            "outlinewidth": 0,
            "ticks": ""
           }
          },
          "colorscale": {
           "diverging": [
            [
             0,
             "#8e0152"
            ],
            [
             0.1,
             "#c51b7d"
            ],
            [
             0.2,
             "#de77ae"
            ],
            [
             0.3,
             "#f1b6da"
            ],
            [
             0.4,
             "#fde0ef"
            ],
            [
             0.5,
             "#f7f7f7"
            ],
            [
             0.6,
             "#e6f5d0"
            ],
            [
             0.7,
             "#b8e186"
            ],
            [
             0.8,
             "#7fbc41"
            ],
            [
             0.9,
             "#4d9221"
            ],
            [
             1,
             "#276419"
            ]
           ],
           "sequential": [
            [
             0,
             "#0d0887"
            ],
            [
             0.1111111111111111,
             "#46039f"
            ],
            [
             0.2222222222222222,
             "#7201a8"
            ],
            [
             0.3333333333333333,
             "#9c179e"
            ],
            [
             0.4444444444444444,
             "#bd3786"
            ],
            [
             0.5555555555555556,
             "#d8576b"
            ],
            [
             0.6666666666666666,
             "#ed7953"
            ],
            [
             0.7777777777777778,
             "#fb9f3a"
            ],
            [
             0.8888888888888888,
             "#fdca26"
            ],
            [
             1,
             "#f0f921"
            ]
           ],
           "sequentialminus": [
            [
             0,
             "#0d0887"
            ],
            [
             0.1111111111111111,
             "#46039f"
            ],
            [
             0.2222222222222222,
             "#7201a8"
            ],
            [
             0.3333333333333333,
             "#9c179e"
            ],
            [
             0.4444444444444444,
             "#bd3786"
            ],
            [
             0.5555555555555556,
             "#d8576b"
            ],
            [
             0.6666666666666666,
             "#ed7953"
            ],
            [
             0.7777777777777778,
             "#fb9f3a"
            ],
            [
             0.8888888888888888,
             "#fdca26"
            ],
            [
             1,
             "#f0f921"
            ]
           ]
          },
          "colorway": [
           "#636efa",
           "#EF553B",
           "#00cc96",
           "#ab63fa",
           "#FFA15A",
           "#19d3f3",
           "#FF6692",
           "#B6E880",
           "#FF97FF",
           "#FECB52"
          ],
          "font": {
           "color": "#2a3f5f"
          },
          "geo": {
           "bgcolor": "white",
           "lakecolor": "white",
           "landcolor": "#E5ECF6",
           "showlakes": true,
           "showland": true,
           "subunitcolor": "white"
          },
          "hoverlabel": {
           "align": "left"
          },
          "hovermode": "closest",
          "mapbox": {
           "style": "light"
          },
          "paper_bgcolor": "white",
          "plot_bgcolor": "#E5ECF6",
          "polar": {
           "angularaxis": {
            "gridcolor": "white",
            "linecolor": "white",
            "ticks": ""
           },
           "bgcolor": "#E5ECF6",
           "radialaxis": {
            "gridcolor": "white",
            "linecolor": "white",
            "ticks": ""
           }
          },
          "scene": {
           "xaxis": {
            "backgroundcolor": "#E5ECF6",
            "gridcolor": "white",
            "gridwidth": 2,
            "linecolor": "white",
            "showbackground": true,
            "ticks": "",
            "zerolinecolor": "white"
           },
           "yaxis": {
            "backgroundcolor": "#E5ECF6",
            "gridcolor": "white",
            "gridwidth": 2,
            "linecolor": "white",
            "showbackground": true,
            "ticks": "",
            "zerolinecolor": "white"
           },
           "zaxis": {
            "backgroundcolor": "#E5ECF6",
            "gridcolor": "white",
            "gridwidth": 2,
            "linecolor": "white",
            "showbackground": true,
            "ticks": "",
            "zerolinecolor": "white"
           }
          },
          "shapedefaults": {
           "line": {
            "color": "#2a3f5f"
           }
          },
          "ternary": {
           "aaxis": {
            "gridcolor": "white",
            "linecolor": "white",
            "ticks": ""
           },
           "baxis": {
            "gridcolor": "white",
            "linecolor": "white",
            "ticks": ""
           },
           "bgcolor": "#E5ECF6",
           "caxis": {
            "gridcolor": "white",
            "linecolor": "white",
            "ticks": ""
           }
          },
          "title": {
           "x": 0.05
          },
          "xaxis": {
           "automargin": true,
           "gridcolor": "white",
           "linecolor": "white",
           "ticks": "",
           "title": {
            "standoff": 15
           },
           "zerolinecolor": "white",
           "zerolinewidth": 2
          },
          "yaxis": {
           "automargin": true,
           "gridcolor": "white",
           "linecolor": "white",
           "ticks": "",
           "title": {
            "standoff": 15
           },
           "zerolinecolor": "white",
           "zerolinewidth": 2
          }
         }
        },
        "xaxis": {
         "anchor": "y",
         "domain": [
          0,
          0.2888888888888889
         ]
        },
        "xaxis2": {
         "anchor": "y2",
         "domain": [
          0.35555555555555557,
          0.6444444444444445
         ]
        },
        "xaxis3": {
         "anchor": "y3",
         "domain": [
          0.7111111111111111,
          1
         ]
        },
        "xaxis4": {
         "anchor": "y4",
         "domain": [
          0,
          0.2888888888888889
         ]
        },
        "xaxis5": {
         "anchor": "y5",
         "domain": [
          0.35555555555555557,
          0.6444444444444445
         ]
        },
        "xaxis6": {
         "anchor": "y6",
         "domain": [
          0.7111111111111111,
          1
         ]
        },
        "xaxis7": {
         "anchor": "y7",
         "domain": [
          0,
          0.2888888888888889
         ]
        },
        "xaxis8": {
         "anchor": "y8",
         "domain": [
          0.35555555555555557,
          0.6444444444444445
         ]
        },
        "xaxis9": {
         "anchor": "y9",
         "domain": [
          0.7111111111111111,
          1
         ]
        },
        "yaxis": {
         "anchor": "x",
         "domain": [
          0.7777777777777778,
          1
         ]
        },
        "yaxis2": {
         "anchor": "x2",
         "domain": [
          0.7777777777777778,
          1
         ]
        },
        "yaxis3": {
         "anchor": "x3",
         "domain": [
          0.7777777777777778,
          1
         ]
        },
        "yaxis4": {
         "anchor": "x4",
         "domain": [
          0.3888888888888889,
          0.6111111111111112
         ]
        },
        "yaxis5": {
         "anchor": "x5",
         "domain": [
          0.3888888888888889,
          0.6111111111111112
         ]
        },
        "yaxis6": {
         "anchor": "x6",
         "domain": [
          0.3888888888888889,
          0.6111111111111112
         ]
        },
        "yaxis7": {
         "anchor": "x7",
         "domain": [
          0,
          0.22222222222222224
         ]
        },
        "yaxis8": {
         "anchor": "x8",
         "domain": [
          0,
          0.22222222222222224
         ]
        },
        "yaxis9": {
         "anchor": "x9",
         "domain": [
          0,
          0.22222222222222224
         ]
        }
       }
      }
     },
     "metadata": {},
     "output_type": "display_data"
    }
   ],
   "source": [
    "cols = ['FG%','FT%', '3PM', 'PPG', 'REB', 'AST', 'STL', 'BLK', 'TO']\n",
    "fig = make_subplots(rows=3, cols=3, subplot_titles=cols)\n",
    "\n",
    "for i in range(len(cols)):\n",
    "    fig.add_trace(\n",
    "    px.histogram(df, cols[i])['data'][0],\n",
    "    row = (i // 3) + 1, col = (i % 3) + 1\n",
    ")\n",
    "\n",
    "fig.update_layout(showlegend=False);\n",
    "fig.show()"
   ]
  },
  {
   "cell_type": "code",
   "execution_count": 12,
   "metadata": {},
   "outputs": [
    {
     "data": {
      "text/plain": [
       "0        C\n",
       "1        C\n",
       "2    PG SG\n",
       "3       PG\n",
       "4     PF C\n",
       "5        C\n",
       "6     PF C\n",
       "7    PG SG\n",
       "8    SF PF\n",
       "9    SG SF\n",
       "Name: Posititon, dtype: object"
      ]
     },
     "execution_count": 12,
     "metadata": {},
     "output_type": "execute_result"
    }
   ],
   "source": [
    "df['Posititon'] = df['Posititon'].str.replace(',', ' ')\n",
    "df['Posititon'].head(10)"
   ]
  },
  {
   "cell_type": "code",
   "execution_count": 13,
   "metadata": {},
   "outputs": [
    {
     "data": {
      "text/plain": [
       "array(['C', 'PG SG', 'PG', 'PF C', 'SF PF', 'SG SF', 'SG SF PF', 'PF',\n",
       "       'SG', 'SF', 'SF PF C'], dtype=object)"
      ]
     },
     "execution_count": 13,
     "metadata": {},
     "output_type": "execute_result"
    }
   ],
   "source": [
    "df['Posititon'].unique()"
   ]
  },
  {
   "cell_type": "code",
   "execution_count": 14,
   "metadata": {},
   "outputs": [],
   "source": [
    "positions = []\n",
    "unique_positions = []\n",
    "for i in df['Posititon']:\n",
    "    for j in i.split():\n",
    "        positions.append(j)\n",
    "        if j not in unique_positions:\n",
    "            unique_positions.append(j)\n",
    "position_counts = {}\n",
    "for pos in unique_positions:\n",
    "    position_counts.update({str(pos): positions.count(pos)})\n"
   ]
  },
  {
   "cell_type": "code",
   "execution_count": 15,
   "metadata": {},
   "outputs": [
    {
     "data": {
      "text/plain": [
       "dict_keys(['C', 'PG', 'SG', 'PF', 'SF'])"
      ]
     },
     "execution_count": 15,
     "metadata": {},
     "output_type": "execute_result"
    }
   ],
   "source": [
    "position_counts.keys()"
   ]
  },
  {
   "cell_type": "code",
   "execution_count": 16,
   "metadata": {},
   "outputs": [
    {
     "data": {
      "application/vnd.plotly.v1+json": {
       "config": {
        "plotlyServerURL": "https://plot.ly"
       },
       "data": [
        {
         "domain": {
          "x": [
           0,
           1
          ],
          "y": [
           0,
           1
          ]
         },
         "hovertemplate": "label=%{label}<br>value=%{value}<extra></extra>",
         "labels": [
          "C",
          "PG",
          "SG",
          "PF",
          "SF"
         ],
         "legendgroup": "",
         "name": "",
         "showlegend": true,
         "type": "pie",
         "values": [
          54,
          58,
          81,
          72,
          76
         ]
        }
       ],
       "layout": {
        "legend": {
         "tracegroupgap": 0
        },
        "template": {
         "data": {
          "bar": [
           {
            "error_x": {
             "color": "#2a3f5f"
            },
            "error_y": {
             "color": "#2a3f5f"
            },
            "marker": {
             "line": {
              "color": "#E5ECF6",
              "width": 0.5
             },
             "pattern": {
              "fillmode": "overlay",
              "size": 10,
              "solidity": 0.2
             }
            },
            "type": "bar"
           }
          ],
          "barpolar": [
           {
            "marker": {
             "line": {
              "color": "#E5ECF6",
              "width": 0.5
             },
             "pattern": {
              "fillmode": "overlay",
              "size": 10,
              "solidity": 0.2
             }
            },
            "type": "barpolar"
           }
          ],
          "carpet": [
           {
            "aaxis": {
             "endlinecolor": "#2a3f5f",
             "gridcolor": "white",
             "linecolor": "white",
             "minorgridcolor": "white",
             "startlinecolor": "#2a3f5f"
            },
            "baxis": {
             "endlinecolor": "#2a3f5f",
             "gridcolor": "white",
             "linecolor": "white",
             "minorgridcolor": "white",
             "startlinecolor": "#2a3f5f"
            },
            "type": "carpet"
           }
          ],
          "choropleth": [
           {
            "colorbar": {
             "outlinewidth": 0,
             "ticks": ""
            },
            "type": "choropleth"
           }
          ],
          "contour": [
           {
            "colorbar": {
             "outlinewidth": 0,
             "ticks": ""
            },
            "colorscale": [
             [
              0,
              "#0d0887"
             ],
             [
              0.1111111111111111,
              "#46039f"
             ],
             [
              0.2222222222222222,
              "#7201a8"
             ],
             [
              0.3333333333333333,
              "#9c179e"
             ],
             [
              0.4444444444444444,
              "#bd3786"
             ],
             [
              0.5555555555555556,
              "#d8576b"
             ],
             [
              0.6666666666666666,
              "#ed7953"
             ],
             [
              0.7777777777777778,
              "#fb9f3a"
             ],
             [
              0.8888888888888888,
              "#fdca26"
             ],
             [
              1,
              "#f0f921"
             ]
            ],
            "type": "contour"
           }
          ],
          "contourcarpet": [
           {
            "colorbar": {
             "outlinewidth": 0,
             "ticks": ""
            },
            "type": "contourcarpet"
           }
          ],
          "heatmap": [
           {
            "colorbar": {
             "outlinewidth": 0,
             "ticks": ""
            },
            "colorscale": [
             [
              0,
              "#0d0887"
             ],
             [
              0.1111111111111111,
              "#46039f"
             ],
             [
              0.2222222222222222,
              "#7201a8"
             ],
             [
              0.3333333333333333,
              "#9c179e"
             ],
             [
              0.4444444444444444,
              "#bd3786"
             ],
             [
              0.5555555555555556,
              "#d8576b"
             ],
             [
              0.6666666666666666,
              "#ed7953"
             ],
             [
              0.7777777777777778,
              "#fb9f3a"
             ],
             [
              0.8888888888888888,
              "#fdca26"
             ],
             [
              1,
              "#f0f921"
             ]
            ],
            "type": "heatmap"
           }
          ],
          "heatmapgl": [
           {
            "colorbar": {
             "outlinewidth": 0,
             "ticks": ""
            },
            "colorscale": [
             [
              0,
              "#0d0887"
             ],
             [
              0.1111111111111111,
              "#46039f"
             ],
             [
              0.2222222222222222,
              "#7201a8"
             ],
             [
              0.3333333333333333,
              "#9c179e"
             ],
             [
              0.4444444444444444,
              "#bd3786"
             ],
             [
              0.5555555555555556,
              "#d8576b"
             ],
             [
              0.6666666666666666,
              "#ed7953"
             ],
             [
              0.7777777777777778,
              "#fb9f3a"
             ],
             [
              0.8888888888888888,
              "#fdca26"
             ],
             [
              1,
              "#f0f921"
             ]
            ],
            "type": "heatmapgl"
           }
          ],
          "histogram": [
           {
            "marker": {
             "pattern": {
              "fillmode": "overlay",
              "size": 10,
              "solidity": 0.2
             }
            },
            "type": "histogram"
           }
          ],
          "histogram2d": [
           {
            "colorbar": {
             "outlinewidth": 0,
             "ticks": ""
            },
            "colorscale": [
             [
              0,
              "#0d0887"
             ],
             [
              0.1111111111111111,
              "#46039f"
             ],
             [
              0.2222222222222222,
              "#7201a8"
             ],
             [
              0.3333333333333333,
              "#9c179e"
             ],
             [
              0.4444444444444444,
              "#bd3786"
             ],
             [
              0.5555555555555556,
              "#d8576b"
             ],
             [
              0.6666666666666666,
              "#ed7953"
             ],
             [
              0.7777777777777778,
              "#fb9f3a"
             ],
             [
              0.8888888888888888,
              "#fdca26"
             ],
             [
              1,
              "#f0f921"
             ]
            ],
            "type": "histogram2d"
           }
          ],
          "histogram2dcontour": [
           {
            "colorbar": {
             "outlinewidth": 0,
             "ticks": ""
            },
            "colorscale": [
             [
              0,
              "#0d0887"
             ],
             [
              0.1111111111111111,
              "#46039f"
             ],
             [
              0.2222222222222222,
              "#7201a8"
             ],
             [
              0.3333333333333333,
              "#9c179e"
             ],
             [
              0.4444444444444444,
              "#bd3786"
             ],
             [
              0.5555555555555556,
              "#d8576b"
             ],
             [
              0.6666666666666666,
              "#ed7953"
             ],
             [
              0.7777777777777778,
              "#fb9f3a"
             ],
             [
              0.8888888888888888,
              "#fdca26"
             ],
             [
              1,
              "#f0f921"
             ]
            ],
            "type": "histogram2dcontour"
           }
          ],
          "mesh3d": [
           {
            "colorbar": {
             "outlinewidth": 0,
             "ticks": ""
            },
            "type": "mesh3d"
           }
          ],
          "parcoords": [
           {
            "line": {
             "colorbar": {
              "outlinewidth": 0,
              "ticks": ""
             }
            },
            "type": "parcoords"
           }
          ],
          "pie": [
           {
            "automargin": true,
            "type": "pie"
           }
          ],
          "scatter": [
           {
            "fillpattern": {
             "fillmode": "overlay",
             "size": 10,
             "solidity": 0.2
            },
            "type": "scatter"
           }
          ],
          "scatter3d": [
           {
            "line": {
             "colorbar": {
              "outlinewidth": 0,
              "ticks": ""
             }
            },
            "marker": {
             "colorbar": {
              "outlinewidth": 0,
              "ticks": ""
             }
            },
            "type": "scatter3d"
           }
          ],
          "scattercarpet": [
           {
            "marker": {
             "colorbar": {
              "outlinewidth": 0,
              "ticks": ""
             }
            },
            "type": "scattercarpet"
           }
          ],
          "scattergeo": [
           {
            "marker": {
             "colorbar": {
              "outlinewidth": 0,
              "ticks": ""
             }
            },
            "type": "scattergeo"
           }
          ],
          "scattergl": [
           {
            "marker": {
             "colorbar": {
              "outlinewidth": 0,
              "ticks": ""
             }
            },
            "type": "scattergl"
           }
          ],
          "scattermapbox": [
           {
            "marker": {
             "colorbar": {
              "outlinewidth": 0,
              "ticks": ""
             }
            },
            "type": "scattermapbox"
           }
          ],
          "scatterpolar": [
           {
            "marker": {
             "colorbar": {
              "outlinewidth": 0,
              "ticks": ""
             }
            },
            "type": "scatterpolar"
           }
          ],
          "scatterpolargl": [
           {
            "marker": {
             "colorbar": {
              "outlinewidth": 0,
              "ticks": ""
             }
            },
            "type": "scatterpolargl"
           }
          ],
          "scatterternary": [
           {
            "marker": {
             "colorbar": {
              "outlinewidth": 0,
              "ticks": ""
             }
            },
            "type": "scatterternary"
           }
          ],
          "surface": [
           {
            "colorbar": {
             "outlinewidth": 0,
             "ticks": ""
            },
            "colorscale": [
             [
              0,
              "#0d0887"
             ],
             [
              0.1111111111111111,
              "#46039f"
             ],
             [
              0.2222222222222222,
              "#7201a8"
             ],
             [
              0.3333333333333333,
              "#9c179e"
             ],
             [
              0.4444444444444444,
              "#bd3786"
             ],
             [
              0.5555555555555556,
              "#d8576b"
             ],
             [
              0.6666666666666666,
              "#ed7953"
             ],
             [
              0.7777777777777778,
              "#fb9f3a"
             ],
             [
              0.8888888888888888,
              "#fdca26"
             ],
             [
              1,
              "#f0f921"
             ]
            ],
            "type": "surface"
           }
          ],
          "table": [
           {
            "cells": {
             "fill": {
              "color": "#EBF0F8"
             },
             "line": {
              "color": "white"
             }
            },
            "header": {
             "fill": {
              "color": "#C8D4E3"
             },
             "line": {
              "color": "white"
             }
            },
            "type": "table"
           }
          ]
         },
         "layout": {
          "annotationdefaults": {
           "arrowcolor": "#2a3f5f",
           "arrowhead": 0,
           "arrowwidth": 1
          },
          "autotypenumbers": "strict",
          "coloraxis": {
           "colorbar": {
            "outlinewidth": 0,
            "ticks": ""
           }
          },
          "colorscale": {
           "diverging": [
            [
             0,
             "#8e0152"
            ],
            [
             0.1,
             "#c51b7d"
            ],
            [
             0.2,
             "#de77ae"
            ],
            [
             0.3,
             "#f1b6da"
            ],
            [
             0.4,
             "#fde0ef"
            ],
            [
             0.5,
             "#f7f7f7"
            ],
            [
             0.6,
             "#e6f5d0"
            ],
            [
             0.7,
             "#b8e186"
            ],
            [
             0.8,
             "#7fbc41"
            ],
            [
             0.9,
             "#4d9221"
            ],
            [
             1,
             "#276419"
            ]
           ],
           "sequential": [
            [
             0,
             "#0d0887"
            ],
            [
             0.1111111111111111,
             "#46039f"
            ],
            [
             0.2222222222222222,
             "#7201a8"
            ],
            [
             0.3333333333333333,
             "#9c179e"
            ],
            [
             0.4444444444444444,
             "#bd3786"
            ],
            [
             0.5555555555555556,
             "#d8576b"
            ],
            [
             0.6666666666666666,
             "#ed7953"
            ],
            [
             0.7777777777777778,
             "#fb9f3a"
            ],
            [
             0.8888888888888888,
             "#fdca26"
            ],
            [
             1,
             "#f0f921"
            ]
           ],
           "sequentialminus": [
            [
             0,
             "#0d0887"
            ],
            [
             0.1111111111111111,
             "#46039f"
            ],
            [
             0.2222222222222222,
             "#7201a8"
            ],
            [
             0.3333333333333333,
             "#9c179e"
            ],
            [
             0.4444444444444444,
             "#bd3786"
            ],
            [
             0.5555555555555556,
             "#d8576b"
            ],
            [
             0.6666666666666666,
             "#ed7953"
            ],
            [
             0.7777777777777778,
             "#fb9f3a"
            ],
            [
             0.8888888888888888,
             "#fdca26"
            ],
            [
             1,
             "#f0f921"
            ]
           ]
          },
          "colorway": [
           "#636efa",
           "#EF553B",
           "#00cc96",
           "#ab63fa",
           "#FFA15A",
           "#19d3f3",
           "#FF6692",
           "#B6E880",
           "#FF97FF",
           "#FECB52"
          ],
          "font": {
           "color": "#2a3f5f"
          },
          "geo": {
           "bgcolor": "white",
           "lakecolor": "white",
           "landcolor": "#E5ECF6",
           "showlakes": true,
           "showland": true,
           "subunitcolor": "white"
          },
          "hoverlabel": {
           "align": "left"
          },
          "hovermode": "closest",
          "mapbox": {
           "style": "light"
          },
          "paper_bgcolor": "white",
          "plot_bgcolor": "#E5ECF6",
          "polar": {
           "angularaxis": {
            "gridcolor": "white",
            "linecolor": "white",
            "ticks": ""
           },
           "bgcolor": "#E5ECF6",
           "radialaxis": {
            "gridcolor": "white",
            "linecolor": "white",
            "ticks": ""
           }
          },
          "scene": {
           "xaxis": {
            "backgroundcolor": "#E5ECF6",
            "gridcolor": "white",
            "gridwidth": 2,
            "linecolor": "white",
            "showbackground": true,
            "ticks": "",
            "zerolinecolor": "white"
           },
           "yaxis": {
            "backgroundcolor": "#E5ECF6",
            "gridcolor": "white",
            "gridwidth": 2,
            "linecolor": "white",
            "showbackground": true,
            "ticks": "",
            "zerolinecolor": "white"
           },
           "zaxis": {
            "backgroundcolor": "#E5ECF6",
            "gridcolor": "white",
            "gridwidth": 2,
            "linecolor": "white",
            "showbackground": true,
            "ticks": "",
            "zerolinecolor": "white"
           }
          },
          "shapedefaults": {
           "line": {
            "color": "#2a3f5f"
           }
          },
          "ternary": {
           "aaxis": {
            "gridcolor": "white",
            "linecolor": "white",
            "ticks": ""
           },
           "baxis": {
            "gridcolor": "white",
            "linecolor": "white",
            "ticks": ""
           },
           "bgcolor": "#E5ECF6",
           "caxis": {
            "gridcolor": "white",
            "linecolor": "white",
            "ticks": ""
           }
          },
          "title": {
           "x": 0.05
          },
          "xaxis": {
           "automargin": true,
           "gridcolor": "white",
           "linecolor": "white",
           "ticks": "",
           "title": {
            "standoff": 15
           },
           "zerolinecolor": "white",
           "zerolinewidth": 2
          },
          "yaxis": {
           "automargin": true,
           "gridcolor": "white",
           "linecolor": "white",
           "ticks": "",
           "title": {
            "standoff": 15
           },
           "zerolinecolor": "white",
           "zerolinewidth": 2
          }
         }
        },
        "title": {
         "text": "Position Distribution"
        }
       }
      }
     },
     "metadata": {},
     "output_type": "display_data"
    }
   ],
   "source": [
    "fig = px.pie(values=position_counts.values(), names=position_counts.keys(), title = 'Position Distribution')\n",
    "fig.show()"
   ]
  },
  {
   "cell_type": "code",
   "execution_count": 17,
   "metadata": {},
   "outputs": [
    {
     "data": {
      "text/html": [
       "<div>\n",
       "<style scoped>\n",
       "    .dataframe tbody tr th:only-of-type {\n",
       "        vertical-align: middle;\n",
       "    }\n",
       "\n",
       "    .dataframe tbody tr th {\n",
       "        vertical-align: top;\n",
       "    }\n",
       "\n",
       "    .dataframe thead th {\n",
       "        text-align: right;\n",
       "    }\n",
       "</style>\n",
       "<table border=\"1\" class=\"dataframe\">\n",
       "  <thead>\n",
       "    <tr style=\"text-align: right;\">\n",
       "      <th></th>\n",
       "      <th>Name</th>\n",
       "      <th>Posititon</th>\n",
       "      <th>Team</th>\n",
       "      <th>GP</th>\n",
       "      <th>FG%</th>\n",
       "      <th>FGM</th>\n",
       "      <th>FGA</th>\n",
       "      <th>FT%</th>\n",
       "      <th>FTM</th>\n",
       "      <th>FTA</th>\n",
       "      <th>3PM</th>\n",
       "      <th>PPG</th>\n",
       "      <th>REB</th>\n",
       "      <th>AST</th>\n",
       "      <th>STL</th>\n",
       "      <th>BLK</th>\n",
       "      <th>TO</th>\n",
       "    </tr>\n",
       "  </thead>\n",
       "  <tbody>\n",
       "    <tr>\n",
       "      <th>0</th>\n",
       "      <td>Victor Wembanyama</td>\n",
       "      <td>C</td>\n",
       "      <td>SA</td>\n",
       "      <td>70</td>\n",
       "      <td>0.473</td>\n",
       "      <td>8.8</td>\n",
       "      <td>18.6</td>\n",
       "      <td>0.802</td>\n",
       "      <td>4.5</td>\n",
       "      <td>5.6</td>\n",
       "      <td>0.416667</td>\n",
       "      <td>0.629496</td>\n",
       "      <td>0.821429</td>\n",
       "      <td>0.394495</td>\n",
       "      <td>0.6875</td>\n",
       "      <td>1.000000</td>\n",
       "      <td>0.804878</td>\n",
       "    </tr>\n",
       "    <tr>\n",
       "      <th>1</th>\n",
       "      <td>Nikola Jokic</td>\n",
       "      <td>C</td>\n",
       "      <td>DEN</td>\n",
       "      <td>75</td>\n",
       "      <td>0.585</td>\n",
       "      <td>10.4</td>\n",
       "      <td>17.8</td>\n",
       "      <td>0.819</td>\n",
       "      <td>4.8</td>\n",
       "      <td>5.8</td>\n",
       "      <td>0.229167</td>\n",
       "      <td>0.723022</td>\n",
       "      <td>0.910714</td>\n",
       "      <td>0.825688</td>\n",
       "      <td>0.6875</td>\n",
       "      <td>0.210526</td>\n",
       "      <td>0.731707</td>\n",
       "    </tr>\n",
       "    <tr>\n",
       "      <th>2</th>\n",
       "      <td>Luka Doncic</td>\n",
       "      <td>PG SG</td>\n",
       "      <td>DAL</td>\n",
       "      <td>68</td>\n",
       "      <td>0.491</td>\n",
       "      <td>11.3</td>\n",
       "      <td>23.0</td>\n",
       "      <td>0.792</td>\n",
       "      <td>7.6</td>\n",
       "      <td>9.7</td>\n",
       "      <td>0.854167</td>\n",
       "      <td>1.000000</td>\n",
       "      <td>0.660714</td>\n",
       "      <td>0.899083</td>\n",
       "      <td>0.6875</td>\n",
       "      <td>0.105263</td>\n",
       "      <td>0.902439</td>\n",
       "    </tr>\n",
       "    <tr>\n",
       "      <th>3</th>\n",
       "      <td>Shai Gilgeous-Alexander</td>\n",
       "      <td>PG</td>\n",
       "      <td>OKC</td>\n",
       "      <td>73</td>\n",
       "      <td>0.524</td>\n",
       "      <td>10.2</td>\n",
       "      <td>19.5</td>\n",
       "      <td>0.880</td>\n",
       "      <td>8.1</td>\n",
       "      <td>9.2</td>\n",
       "      <td>0.291667</td>\n",
       "      <td>0.838129</td>\n",
       "      <td>0.285714</td>\n",
       "      <td>0.587156</td>\n",
       "      <td>1.0000</td>\n",
       "      <td>0.210526</td>\n",
       "      <td>0.560976</td>\n",
       "    </tr>\n",
       "    <tr>\n",
       "      <th>4</th>\n",
       "      <td>Giannis Antetokounmpo</td>\n",
       "      <td>PF C</td>\n",
       "      <td>MIL</td>\n",
       "      <td>71</td>\n",
       "      <td>0.614</td>\n",
       "      <td>11.8</td>\n",
       "      <td>19.2</td>\n",
       "      <td>0.671</td>\n",
       "      <td>7.0</td>\n",
       "      <td>10.5</td>\n",
       "      <td>0.125000</td>\n",
       "      <td>0.881295</td>\n",
       "      <td>0.821429</td>\n",
       "      <td>0.605505</td>\n",
       "      <td>0.5625</td>\n",
       "      <td>0.263158</td>\n",
       "      <td>0.804878</td>\n",
       "    </tr>\n",
       "  </tbody>\n",
       "</table>\n",
       "</div>"
      ],
      "text/plain": [
       "                      Name Posititon Team  GP    FG%   FGM   FGA    FT%  FTM  \\\n",
       "0        Victor Wembanyama         C   SA  70  0.473   8.8  18.6  0.802  4.5   \n",
       "1             Nikola Jokic         C  DEN  75  0.585  10.4  17.8  0.819  4.8   \n",
       "2              Luka Doncic     PG SG  DAL  68  0.491  11.3  23.0  0.792  7.6   \n",
       "3  Shai Gilgeous-Alexander        PG  OKC  73  0.524  10.2  19.5  0.880  8.1   \n",
       "4    Giannis Antetokounmpo      PF C  MIL  71  0.614  11.8  19.2  0.671  7.0   \n",
       "\n",
       "    FTA       3PM       PPG       REB       AST     STL       BLK        TO  \n",
       "0   5.6  0.416667  0.629496  0.821429  0.394495  0.6875  1.000000  0.804878  \n",
       "1   5.8  0.229167  0.723022  0.910714  0.825688  0.6875  0.210526  0.731707  \n",
       "2   9.7  0.854167  1.000000  0.660714  0.899083  0.6875  0.105263  0.902439  \n",
       "3   9.2  0.291667  0.838129  0.285714  0.587156  1.0000  0.210526  0.560976  \n",
       "4  10.5  0.125000  0.881295  0.821429  0.605505  0.5625  0.263158  0.804878  "
      ]
     },
     "execution_count": 17,
     "metadata": {},
     "output_type": "execute_result"
    }
   ],
   "source": [
    "sc = MinMaxScaler()\n",
    "df[['3PM', 'PPG', 'REB', 'REB', 'AST', 'STL', 'BLK', 'TO']] = sc.fit_transform(df[['3PM', 'PPG', 'REB', 'REB', 'AST', 'STL', 'BLK', 'TO']])\n",
    "df.head()"
   ]
  },
  {
   "cell_type": "code",
   "execution_count": 18,
   "metadata": {},
   "outputs": [
    {
     "name": "stderr",
     "output_type": "stream",
     "text": [
      "C:\\Users\\atliu\\AppData\\Local\\Temp\\ipykernel_20004\\2308467308.py:1: UserWarning:\n",
      "\n",
      "DataFrame columns are not unique, some columns will be omitted.\n",
      "\n"
     ]
    }
   ],
   "source": [
    "draft_dict = df.set_index('Name').T.to_dict('list');"
   ]
  },
  {
   "cell_type": "code",
   "execution_count": 19,
   "metadata": {},
   "outputs": [],
   "source": [
    "draft_dict_expand = {}\n",
    "for name in draft_dict.keys():\n",
    "    for pos in draft_dict[name][0].split(' '):\n",
    "        draft_dict_expand.update({name + '_' + pos: {'pos': str(pos),\n",
    "                                                     'team': draft_dict[name][1],\n",
    "                                                     'gp': draft_dict[name][2],\n",
    "                                                     'fg': draft_dict[name][3],\n",
    "                                                     'fgm': draft_dict[name][4],\n",
    "                                                     'fga': draft_dict[name][5],\n",
    "                                                     'ft': draft_dict[name][6],\n",
    "                                                     'ftm': draft_dict[name][7],\n",
    "                                                     'fta': draft_dict[name][8],\n",
    "                                                     '3pm': draft_dict[name][9],\n",
    "                                                     'ppg': draft_dict[name][10],\n",
    "                                                     'reb': draft_dict[name][11],\n",
    "                                                     'ast': draft_dict[name][12],\n",
    "                                                     'stl': draft_dict[name][13],\n",
    "                                                     'blk': draft_dict[name][14],\n",
    "                                                     'to': draft_dict[name][15]}})"
   ]
  },
  {
   "cell_type": "code",
   "execution_count": 22,
   "metadata": {},
   "outputs": [],
   "source": [
    "def group_power(draft_data ,group, w_3PM = 1., w_PPG = 1., w_AST = 1., w_STL = 1., w_BLK = 1., w_TO =1.):\n",
    "    \"\"\" Returns, Power - 3PM - PPG - AST - STL - BLK - TO\n",
    "    \"\"\"\n",
    "    _3pm = 0.\n",
    "    ppg = 0.\n",
    "    ast = 0.\n",
    "    stl = 0.\n",
    "    blk = 0.\n",
    "    to = 0.\n",
    "    for player in group:\n",
    "        _3pm = _3pm + draft_data[player][\"3pm\"] / len(group)\n",
    "        ppg = ppg + draft_data[player][\"ppg\"] / len(group)\n",
    "        ast = ast + draft_data[player][\"ast\"] / len(group)\n",
    "        stl = stl + draft_data[player][\"stl\"] / len(group)\n",
    "        blk = blk + draft_data[player][\"blk\"] / len(group)\n",
    "        to = to + draft_data[player][\"to\"] / len(group)\n",
    "    power = w_3PM * _3pm + w_PPG * ppg + w_AST * ast + w_STL * stl + w_BLK * blk + w_TO * to\n",
    "\n",
    "    return [power, _3pm, ppg, ast, stl, blk, to]"
   ]
  },
  {
   "cell_type": "code",
   "execution_count": 23,
   "metadata": {},
   "outputs": [],
   "source": [
    "def check_dublicate(group):\n",
    "    players = [player.split(\"_\")[0] for player in group]\n",
    "    return len(players) != len(set(players))\n",
    "def group_positions(group):\n",
    "    return [player.split(\"_\")[1] for player in group]"
   ]
  },
  {
   "cell_type": "code",
   "execution_count": 24,
   "metadata": {},
   "outputs": [],
   "source": [
    "def group_validity(group, req_positions = [], req = \"min\"):\n",
    "    if not check_dublicate(group):\n",
    "        T = 1\n",
    "        gp = group_positions(group)\n",
    "        if req == \"equal\":\n",
    "            T =  T*(gp.sort() == req_positions.sort())\n",
    "        elif req == \"max\":\n",
    "            for pos in req_positions:\n",
    "                T = T*(req_positions.count(pos) >= gp.count(pos))\n",
    "        else:\n",
    "            for pos in req_positions:\n",
    "                T = T*(req_positions.count(pos) <= gp.count(pos))\n",
    "        if T ==1:\n",
    "            return True\n",
    "        else:\n",
    "            return False\n",
    "    else:\n",
    "        return False"
   ]
  },
  {
   "cell_type": "code",
   "execution_count": 25,
   "metadata": {},
   "outputs": [
    {
     "data": {
      "text/plain": [
       "array([[  1,  10],\n",
       "       [ 29,  35],\n",
       "       [ 29,  35],\n",
       "       [ 63,  70],\n",
       "       [ 63,  70],\n",
       "       [ 90, 100],\n",
       "       [ 90, 100],\n",
       "       [130, 145],\n",
       "       [130, 145],\n",
       "       [160, 180],\n",
       "       [160, 180],\n",
       "       [190, 200]])"
      ]
     },
     "execution_count": 25,
     "metadata": {},
     "output_type": "execute_result"
    }
   ],
   "source": [
    "# Pick intervals\n",
    "intervals = np.array([[1, 10], [29, 35], [29, 35], [63, 70], [63, 70],  [90, 100], [90, 100], [130, 145], [130, 145],  [160, 180],  [160, 180], [190, 200]])\n",
    "intervals"
   ]
  },
  {
   "cell_type": "code",
   "execution_count": 26,
   "metadata": {},
   "outputs": [
    {
     "name": "stdout",
     "output_type": "stream",
     "text": [
      "12\n"
     ]
    }
   ],
   "source": [
    "pick_lists = []\n",
    "players = df[\"Name\"].values\n",
    "for interval in intervals:\n",
    "    pick_lists.append(players[interval[0]: interval[1]])\n",
    "for i in range(len(pick_lists)):\n",
    "    players = []\n",
    "    for player in pick_lists[i]:\n",
    "        pos = draft_dict[player][0].split(\" \")\n",
    "        for p in pos:\n",
    "            players = np.append(players, (player + \"_\" + str(p)))\n",
    "    pick_lists[i] = players\n",
    "print(len(pick_lists))"
   ]
  },
  {
   "cell_type": "code",
   "execution_count": 27,
   "metadata": {},
   "outputs": [],
   "source": [
    "player_list = list(draft_dict_expand.keys())"
   ]
  },
  {
   "cell_type": "code",
   "execution_count": 28,
   "metadata": {},
   "outputs": [],
   "source": [
    "group_size = 12\n",
    "pre_group = []\n",
    "comp = [\"C\", \"C\", \"C\"]\n",
    "groups = np.empty((0, group_size))\n",
    "group = np.append(pre_group, random.sample(player_list,group_size - len(pre_group)))\n",
    "groups = np.append(groups, [group],axis=0)\n",
    "g_power = group_power(draft_data=draft_dict_expand, group=group)"
   ]
  },
  {
   "cell_type": "code",
   "execution_count": 29,
   "metadata": {},
   "outputs": [
    {
     "name": "stdout",
     "output_type": "stream",
     "text": [
      "6\n"
     ]
    }
   ],
   "source": [
    "for i in range(10000):\n",
    "    random_group = []\n",
    "    random_group = np.append(pre_group, random_group)\n",
    "    for i in range(0, len(pick_lists)):\n",
    "        random_group = np.append(random_group, random.sample(sorted(pick_lists[i]), 1))\n",
    "    if group_validity(group=random_group, req_positions=comp, req=\"max\"):\n",
    "        random_group_power = group_power(draft_data=draft_dict_expand, group=random_group)\n",
    "        if random_group_power[0] > g_power[0]:\n",
    "            g_power = random_group_power\n",
    "            groups = np.append(groups, [random_group], axis=0)\n",
    "print(groups.shape[0])"
   ]
  },
  {
   "cell_type": "code",
   "execution_count": 30,
   "metadata": {},
   "outputs": [],
   "source": [
    "if groups.shape[0] >= 15:\n",
    "    top_count = int(groups.shape[0] / 3)\n",
    "else:\n",
    "    top_count = groups.shape[0]\n",
    "top_groups = groups[-top_count:]\n",
    "group_stats = np.empty((0,len(g_power)))\n",
    "for group in top_groups:\n",
    "    group_stats = np.append(group_stats, [group_power(draft_data=draft_dict_expand, group=group)], axis=0)"
   ]
  },
  {
   "cell_type": "code",
   "execution_count": 31,
   "metadata": {},
   "outputs": [
    {
     "name": "stdout",
     "output_type": "stream",
     "text": [
      "['Franz Wagner_PF' 'Tyrese Haliburton_PG' 'Keon Ellis_SF'\n",
      " 'Tyrese Maxey_PG' 'Anthony Davis_C' 'Draymond Green_PF'\n",
      " 'DeMar DeRozan_SF' 'Kristaps Porzingis_PF' 'Bruce Brown_SG'\n",
      " 'Karl-Anthony Towns_C' 'Tari Eason_SF' 'Mikal Bridges_PF'] \n",
      "\n",
      "['Luka Doncic_PG' 'Dejounte Murray_SG' 'Paolo Banchero_PF'\n",
      " 'Zach LaVine_SG' 'Cam Thomas_SG' 'Jalen Green_PG' 'Kristaps Porzingis_PF'\n",
      " 'Aaron Nesmith_SF' 'Kelly Olynyk_C' 'Christian Braun_SF'\n",
      " 'Keldon Johnson_SG' 'Luke Kennard_SG'] \n",
      "\n",
      "['Luka Doncic_SG' 'Paolo Banchero_SF' 'Lauri Markkanen_SF' 'Cam Thomas_SG'\n",
      " 'Brandon Ingram_SG' 'Naz Reid_PF' 'Jalen Green_PG' 'Alexandre Sarr_PF'\n",
      " 'Scoot Henderson_PG' 'Kevin Porter Jr._PG' 'Dyson Daniels_SG'\n",
      " 'Peyton Watson_PF'] \n",
      "\n",
      "['Luka Doncic_SG' 'Jaren Jackson Jr._PF' 'Paolo Banchero_SF'\n",
      " 'Brandon Ingram_PF' 'Zach LaVine_SG' 'Kristaps Porzingis_C'\n",
      " 'Jalen Green_PG' 'Aaron Nesmith_PF' 'Jaden Ivey_PG'\n",
      " 'Bennedict Mathurin_SF' \"De'Anthony Melton_PG\" 'Duncan Robinson_SG'] \n",
      "\n",
      "['Luka Doncic_SG' 'Dejounte Murray_SG' 'Ja Morant_PG' 'Brandon Ingram_SG'\n",
      " 'Tobias Harris_SF' 'Herbert Jones_PF' 'Jalen Suggs_PG' 'Norman Powell_SG'\n",
      " 'Jaden Ivey_SG' 'Kyle Lowry_PG' 'Keldon Johnson_SG' 'Luke Kennard_SG'] \n",
      "\n",
      "['Luka Doncic_PG' 'Lauri Markkanen_SF' 'Ja Morant_PG' 'Zach LaVine_SF'\n",
      " 'Cam Thomas_SG' 'Jalen Suggs_SG' 'Jalen Green_SG' 'Jaden Ivey_SG'\n",
      " 'Rui Hachimura_PF' 'Max Strus_SG' 'Kelly Oubre Jr._SF' 'Josh Green_SG'] \n",
      "\n"
     ]
    }
   ],
   "source": [
    "for i in top_groups:\n",
    "    print(i, \"\\n\")\n"
   ]
  },
  {
   "cell_type": "code",
   "execution_count": 32,
   "metadata": {},
   "outputs": [
    {
     "name": "stdout",
     "output_type": "stream",
     "text": [
      "[2.16444148 0.33680556 0.36990408 0.36850153 0.48958333 0.19517544\n",
      " 0.40447154] \n",
      "\n",
      "[2.16918423 0.44270833 0.42775779 0.35015291 0.38020833 0.10087719\n",
      " 0.46747967] \n",
      "\n",
      "[2.22837622 0.39409722 0.42416067 0.34556575 0.40104167 0.15131579\n",
      " 0.51219512] \n",
      "\n",
      "[2.25043063 0.43923611 0.44304556 0.33180428 0.39583333 0.14254386\n",
      " 0.49796748] \n",
      "\n",
      "[2.26253287 0.43229167 0.40617506 0.4029052  0.453125   0.09649123\n",
      " 0.47154472] \n",
      "\n",
      "[2.27873226 0.48090278 0.47691847 0.35091743 0.41666667 0.08991228\n",
      " 0.46341463] \n",
      "\n"
     ]
    }
   ],
   "source": [
    "for i in group_stats:\n",
    "    print(i, \"\\n\")"
   ]
  },
  {
   "cell_type": "code",
   "execution_count": 33,
   "metadata": {},
   "outputs": [],
   "source": [
    "with open(\"demo.txt\", \"w\") as txt_file:\n",
    "    for line in top_groups:\n",
    "        txt_file.write(\", \".join(line) + 3*\"\\n\")"
   ]
  },
  {
   "cell_type": "code",
   "execution_count": 34,
   "metadata": {},
   "outputs": [
    {
     "data": {
      "application/vnd.plotly.v1+json": {
       "config": {
        "plotlyServerURL": "https://plot.ly"
       },
       "data": [
        {
         "fill": "toself",
         "name": "0",
         "r": [
          0.3368055555555556,
          0.3699040767386092,
          0.36850152905198774,
          0.4895833333333333,
          0.19517543859649122,
          0.404471544715447
         ],
         "theta": [
          "3PM",
          "PPG",
          "AST",
          "STL",
          "BLK",
          "TO"
         ],
         "type": "scatterpolar"
        },
        {
         "fill": "toself",
         "name": "1",
         "r": [
          0.44270833333333337,
          0.427757793764988,
          0.35015290519877673,
          0.3802083333333333,
          0.10087719298245615,
          0.46747967479674785
         ],
         "theta": [
          "3PM",
          "PPG",
          "AST",
          "STL",
          "BLK",
          "TO"
         ],
         "type": "scatterpolar"
        },
        {
         "fill": "toself",
         "name": "2",
         "r": [
          0.3940972222222223,
          0.4241606714628299,
          0.34556574923547395,
          0.40104166666666663,
          0.1513157894736842,
          0.5121951219512193
         ],
         "theta": [
          "3PM",
          "PPG",
          "AST",
          "STL",
          "BLK",
          "TO"
         ],
         "type": "scatterpolar"
        },
        {
         "fill": "toself",
         "name": "3",
         "r": [
          0.4392361111111112,
          0.44304556354916075,
          0.3318042813455658,
          0.3958333333333333,
          0.1425438596491228,
          0.4979674796747966
         ],
         "theta": [
          "3PM",
          "PPG",
          "AST",
          "STL",
          "BLK",
          "TO"
         ],
         "type": "scatterpolar"
        },
        {
         "fill": "toself",
         "name": "4",
         "r": [
          0.4322916666666667,
          0.4061750599520384,
          0.4029051987767584,
          0.453125,
          0.09649122807017543,
          0.4715447154471544
         ],
         "theta": [
          "3PM",
          "PPG",
          "AST",
          "STL",
          "BLK",
          "TO"
         ],
         "type": "scatterpolar"
        },
        {
         "fill": "toself",
         "name": "5",
         "r": [
          0.48090277777777785,
          0.47691846522781783,
          0.35091743119266056,
          0.41666666666666663,
          0.08991228070175439,
          0.46341463414634143
         ],
         "theta": [
          "3PM",
          "PPG",
          "AST",
          "STL",
          "BLK",
          "TO"
         ],
         "type": "scatterpolar"
        }
       ],
       "layout": {
        "autosize": false,
        "height": 1400,
        "legend": {
         "orientation": "v"
        },
        "polar": {
         "radialaxis": {
          "range": [
           0,
           1
          ],
          "visible": true
         }
        },
        "showlegend": true,
        "template": {
         "data": {
          "bar": [
           {
            "error_x": {
             "color": "#2a3f5f"
            },
            "error_y": {
             "color": "#2a3f5f"
            },
            "marker": {
             "line": {
              "color": "#E5ECF6",
              "width": 0.5
             },
             "pattern": {
              "fillmode": "overlay",
              "size": 10,
              "solidity": 0.2
             }
            },
            "type": "bar"
           }
          ],
          "barpolar": [
           {
            "marker": {
             "line": {
              "color": "#E5ECF6",
              "width": 0.5
             },
             "pattern": {
              "fillmode": "overlay",
              "size": 10,
              "solidity": 0.2
             }
            },
            "type": "barpolar"
           }
          ],
          "carpet": [
           {
            "aaxis": {
             "endlinecolor": "#2a3f5f",
             "gridcolor": "white",
             "linecolor": "white",
             "minorgridcolor": "white",
             "startlinecolor": "#2a3f5f"
            },
            "baxis": {
             "endlinecolor": "#2a3f5f",
             "gridcolor": "white",
             "linecolor": "white",
             "minorgridcolor": "white",
             "startlinecolor": "#2a3f5f"
            },
            "type": "carpet"
           }
          ],
          "choropleth": [
           {
            "colorbar": {
             "outlinewidth": 0,
             "ticks": ""
            },
            "type": "choropleth"
           }
          ],
          "contour": [
           {
            "colorbar": {
             "outlinewidth": 0,
             "ticks": ""
            },
            "colorscale": [
             [
              0,
              "#0d0887"
             ],
             [
              0.1111111111111111,
              "#46039f"
             ],
             [
              0.2222222222222222,
              "#7201a8"
             ],
             [
              0.3333333333333333,
              "#9c179e"
             ],
             [
              0.4444444444444444,
              "#bd3786"
             ],
             [
              0.5555555555555556,
              "#d8576b"
             ],
             [
              0.6666666666666666,
              "#ed7953"
             ],
             [
              0.7777777777777778,
              "#fb9f3a"
             ],
             [
              0.8888888888888888,
              "#fdca26"
             ],
             [
              1,
              "#f0f921"
             ]
            ],
            "type": "contour"
           }
          ],
          "contourcarpet": [
           {
            "colorbar": {
             "outlinewidth": 0,
             "ticks": ""
            },
            "type": "contourcarpet"
           }
          ],
          "heatmap": [
           {
            "colorbar": {
             "outlinewidth": 0,
             "ticks": ""
            },
            "colorscale": [
             [
              0,
              "#0d0887"
             ],
             [
              0.1111111111111111,
              "#46039f"
             ],
             [
              0.2222222222222222,
              "#7201a8"
             ],
             [
              0.3333333333333333,
              "#9c179e"
             ],
             [
              0.4444444444444444,
              "#bd3786"
             ],
             [
              0.5555555555555556,
              "#d8576b"
             ],
             [
              0.6666666666666666,
              "#ed7953"
             ],
             [
              0.7777777777777778,
              "#fb9f3a"
             ],
             [
              0.8888888888888888,
              "#fdca26"
             ],
             [
              1,
              "#f0f921"
             ]
            ],
            "type": "heatmap"
           }
          ],
          "heatmapgl": [
           {
            "colorbar": {
             "outlinewidth": 0,
             "ticks": ""
            },
            "colorscale": [
             [
              0,
              "#0d0887"
             ],
             [
              0.1111111111111111,
              "#46039f"
             ],
             [
              0.2222222222222222,
              "#7201a8"
             ],
             [
              0.3333333333333333,
              "#9c179e"
             ],
             [
              0.4444444444444444,
              "#bd3786"
             ],
             [
              0.5555555555555556,
              "#d8576b"
             ],
             [
              0.6666666666666666,
              "#ed7953"
             ],
             [
              0.7777777777777778,
              "#fb9f3a"
             ],
             [
              0.8888888888888888,
              "#fdca26"
             ],
             [
              1,
              "#f0f921"
             ]
            ],
            "type": "heatmapgl"
           }
          ],
          "histogram": [
           {
            "marker": {
             "pattern": {
              "fillmode": "overlay",
              "size": 10,
              "solidity": 0.2
             }
            },
            "type": "histogram"
           }
          ],
          "histogram2d": [
           {
            "colorbar": {
             "outlinewidth": 0,
             "ticks": ""
            },
            "colorscale": [
             [
              0,
              "#0d0887"
             ],
             [
              0.1111111111111111,
              "#46039f"
             ],
             [
              0.2222222222222222,
              "#7201a8"
             ],
             [
              0.3333333333333333,
              "#9c179e"
             ],
             [
              0.4444444444444444,
              "#bd3786"
             ],
             [
              0.5555555555555556,
              "#d8576b"
             ],
             [
              0.6666666666666666,
              "#ed7953"
             ],
             [
              0.7777777777777778,
              "#fb9f3a"
             ],
             [
              0.8888888888888888,
              "#fdca26"
             ],
             [
              1,
              "#f0f921"
             ]
            ],
            "type": "histogram2d"
           }
          ],
          "histogram2dcontour": [
           {
            "colorbar": {
             "outlinewidth": 0,
             "ticks": ""
            },
            "colorscale": [
             [
              0,
              "#0d0887"
             ],
             [
              0.1111111111111111,
              "#46039f"
             ],
             [
              0.2222222222222222,
              "#7201a8"
             ],
             [
              0.3333333333333333,
              "#9c179e"
             ],
             [
              0.4444444444444444,
              "#bd3786"
             ],
             [
              0.5555555555555556,
              "#d8576b"
             ],
             [
              0.6666666666666666,
              "#ed7953"
             ],
             [
              0.7777777777777778,
              "#fb9f3a"
             ],
             [
              0.8888888888888888,
              "#fdca26"
             ],
             [
              1,
              "#f0f921"
             ]
            ],
            "type": "histogram2dcontour"
           }
          ],
          "mesh3d": [
           {
            "colorbar": {
             "outlinewidth": 0,
             "ticks": ""
            },
            "type": "mesh3d"
           }
          ],
          "parcoords": [
           {
            "line": {
             "colorbar": {
              "outlinewidth": 0,
              "ticks": ""
             }
            },
            "type": "parcoords"
           }
          ],
          "pie": [
           {
            "automargin": true,
            "type": "pie"
           }
          ],
          "scatter": [
           {
            "fillpattern": {
             "fillmode": "overlay",
             "size": 10,
             "solidity": 0.2
            },
            "type": "scatter"
           }
          ],
          "scatter3d": [
           {
            "line": {
             "colorbar": {
              "outlinewidth": 0,
              "ticks": ""
             }
            },
            "marker": {
             "colorbar": {
              "outlinewidth": 0,
              "ticks": ""
             }
            },
            "type": "scatter3d"
           }
          ],
          "scattercarpet": [
           {
            "marker": {
             "colorbar": {
              "outlinewidth": 0,
              "ticks": ""
             }
            },
            "type": "scattercarpet"
           }
          ],
          "scattergeo": [
           {
            "marker": {
             "colorbar": {
              "outlinewidth": 0,
              "ticks": ""
             }
            },
            "type": "scattergeo"
           }
          ],
          "scattergl": [
           {
            "marker": {
             "colorbar": {
              "outlinewidth": 0,
              "ticks": ""
             }
            },
            "type": "scattergl"
           }
          ],
          "scattermapbox": [
           {
            "marker": {
             "colorbar": {
              "outlinewidth": 0,
              "ticks": ""
             }
            },
            "type": "scattermapbox"
           }
          ],
          "scatterpolar": [
           {
            "marker": {
             "colorbar": {
              "outlinewidth": 0,
              "ticks": ""
             }
            },
            "type": "scatterpolar"
           }
          ],
          "scatterpolargl": [
           {
            "marker": {
             "colorbar": {
              "outlinewidth": 0,
              "ticks": ""
             }
            },
            "type": "scatterpolargl"
           }
          ],
          "scatterternary": [
           {
            "marker": {
             "colorbar": {
              "outlinewidth": 0,
              "ticks": ""
             }
            },
            "type": "scatterternary"
           }
          ],
          "surface": [
           {
            "colorbar": {
             "outlinewidth": 0,
             "ticks": ""
            },
            "colorscale": [
             [
              0,
              "#0d0887"
             ],
             [
              0.1111111111111111,
              "#46039f"
             ],
             [
              0.2222222222222222,
              "#7201a8"
             ],
             [
              0.3333333333333333,
              "#9c179e"
             ],
             [
              0.4444444444444444,
              "#bd3786"
             ],
             [
              0.5555555555555556,
              "#d8576b"
             ],
             [
              0.6666666666666666,
              "#ed7953"
             ],
             [
              0.7777777777777778,
              "#fb9f3a"
             ],
             [
              0.8888888888888888,
              "#fdca26"
             ],
             [
              1,
              "#f0f921"
             ]
            ],
            "type": "surface"
           }
          ],
          "table": [
           {
            "cells": {
             "fill": {
              "color": "#EBF0F8"
             },
             "line": {
              "color": "white"
             }
            },
            "header": {
             "fill": {
              "color": "#C8D4E3"
             },
             "line": {
              "color": "white"
             }
            },
            "type": "table"
           }
          ]
         },
         "layout": {
          "annotationdefaults": {
           "arrowcolor": "#2a3f5f",
           "arrowhead": 0,
           "arrowwidth": 1
          },
          "autotypenumbers": "strict",
          "coloraxis": {
           "colorbar": {
            "outlinewidth": 0,
            "ticks": ""
           }
          },
          "colorscale": {
           "diverging": [
            [
             0,
             "#8e0152"
            ],
            [
             0.1,
             "#c51b7d"
            ],
            [
             0.2,
             "#de77ae"
            ],
            [
             0.3,
             "#f1b6da"
            ],
            [
             0.4,
             "#fde0ef"
            ],
            [
             0.5,
             "#f7f7f7"
            ],
            [
             0.6,
             "#e6f5d0"
            ],
            [
             0.7,
             "#b8e186"
            ],
            [
             0.8,
             "#7fbc41"
            ],
            [
             0.9,
             "#4d9221"
            ],
            [
             1,
             "#276419"
            ]
           ],
           "sequential": [
            [
             0,
             "#0d0887"
            ],
            [
             0.1111111111111111,
             "#46039f"
            ],
            [
             0.2222222222222222,
             "#7201a8"
            ],
            [
             0.3333333333333333,
             "#9c179e"
            ],
            [
             0.4444444444444444,
             "#bd3786"
            ],
            [
             0.5555555555555556,
             "#d8576b"
            ],
            [
             0.6666666666666666,
             "#ed7953"
            ],
            [
             0.7777777777777778,
             "#fb9f3a"
            ],
            [
             0.8888888888888888,
             "#fdca26"
            ],
            [
             1,
             "#f0f921"
            ]
           ],
           "sequentialminus": [
            [
             0,
             "#0d0887"
            ],
            [
             0.1111111111111111,
             "#46039f"
            ],
            [
             0.2222222222222222,
             "#7201a8"
            ],
            [
             0.3333333333333333,
             "#9c179e"
            ],
            [
             0.4444444444444444,
             "#bd3786"
            ],
            [
             0.5555555555555556,
             "#d8576b"
            ],
            [
             0.6666666666666666,
             "#ed7953"
            ],
            [
             0.7777777777777778,
             "#fb9f3a"
            ],
            [
             0.8888888888888888,
             "#fdca26"
            ],
            [
             1,
             "#f0f921"
            ]
           ]
          },
          "colorway": [
           "#636efa",
           "#EF553B",
           "#00cc96",
           "#ab63fa",
           "#FFA15A",
           "#19d3f3",
           "#FF6692",
           "#B6E880",
           "#FF97FF",
           "#FECB52"
          ],
          "font": {
           "color": "#2a3f5f"
          },
          "geo": {
           "bgcolor": "white",
           "lakecolor": "white",
           "landcolor": "#E5ECF6",
           "showlakes": true,
           "showland": true,
           "subunitcolor": "white"
          },
          "hoverlabel": {
           "align": "left"
          },
          "hovermode": "closest",
          "mapbox": {
           "style": "light"
          },
          "paper_bgcolor": "white",
          "plot_bgcolor": "#E5ECF6",
          "polar": {
           "angularaxis": {
            "gridcolor": "white",
            "linecolor": "white",
            "ticks": ""
           },
           "bgcolor": "#E5ECF6",
           "radialaxis": {
            "gridcolor": "white",
            "linecolor": "white",
            "ticks": ""
           }
          },
          "scene": {
           "xaxis": {
            "backgroundcolor": "#E5ECF6",
            "gridcolor": "white",
            "gridwidth": 2,
            "linecolor": "white",
            "showbackground": true,
            "ticks": "",
            "zerolinecolor": "white"
           },
           "yaxis": {
            "backgroundcolor": "#E5ECF6",
            "gridcolor": "white",
            "gridwidth": 2,
            "linecolor": "white",
            "showbackground": true,
            "ticks": "",
            "zerolinecolor": "white"
           },
           "zaxis": {
            "backgroundcolor": "#E5ECF6",
            "gridcolor": "white",
            "gridwidth": 2,
            "linecolor": "white",
            "showbackground": true,
            "ticks": "",
            "zerolinecolor": "white"
           }
          },
          "shapedefaults": {
           "line": {
            "color": "#2a3f5f"
           }
          },
          "ternary": {
           "aaxis": {
            "gridcolor": "white",
            "linecolor": "white",
            "ticks": ""
           },
           "baxis": {
            "gridcolor": "white",
            "linecolor": "white",
            "ticks": ""
           },
           "bgcolor": "#E5ECF6",
           "caxis": {
            "gridcolor": "white",
            "linecolor": "white",
            "ticks": ""
           }
          },
          "title": {
           "x": 0.05
          },
          "xaxis": {
           "automargin": true,
           "gridcolor": "white",
           "linecolor": "white",
           "ticks": "",
           "title": {
            "standoff": 15
           },
           "zerolinecolor": "white",
           "zerolinewidth": 2
          },
          "yaxis": {
           "automargin": true,
           "gridcolor": "white",
           "linecolor": "white",
           "ticks": "",
           "title": {
            "standoff": 15
           },
           "zerolinecolor": "white",
           "zerolinewidth": 2
          }
         }
        },
        "width": 1400
       }
      }
     },
     "metadata": {},
     "output_type": "display_data"
    }
   ],
   "source": [
    "vars = [\"3PM\", \"PPG\", \"AST\", \"STL\", \"BLK\", \"TO\"]\n",
    "fig = go.Figure()    \n",
    "for i in range(group_stats.shape[0]):\n",
    "\n",
    "    fig.add_trace(go.Scatterpolar(\n",
    "        r = group_stats[i][1:],\n",
    "        theta = vars,\n",
    "        fill = \"toself\",\n",
    "        name = str(i)\n",
    "    ))\n",
    "fig.update_layout(\n",
    "        autosize=False,\n",
    "    width=1400,\n",
    "    height=1400,\n",
    "  polar=dict(\n",
    "    radialaxis=dict(\n",
    "      visible=True,\n",
    "      range=[0, 1]\n",
    "    )),\n",
    "  showlegend=True,\n",
    "  legend=dict(orientation=\"v\")\n",
    ")\n",
    "\n",
    "fig.show()"
   ]
  }
 ],
 "metadata": {
  "kernelspec": {
   "display_name": "Python 3",
   "language": "python",
   "name": "python3"
  },
  "language_info": {
   "codemirror_mode": {
    "name": "ipython",
    "version": 3
   },
   "file_extension": ".py",
   "mimetype": "text/x-python",
   "name": "python",
   "nbconvert_exporter": "python",
   "pygments_lexer": "ipython3",
   "version": "3.8.10"
  }
 },
 "nbformat": 4,
 "nbformat_minor": 2
}
